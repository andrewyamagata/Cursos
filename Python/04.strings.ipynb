{
 "cells": [
  {
   "cell_type": "markdown",
   "metadata": {},
   "source": [
    "## Strings"
   ]
  },
  {
   "cell_type": "code",
   "execution_count": 1,
   "metadata": {},
   "outputs": [],
   "source": [
    "email = \"lira@gmail.com\"\n",
    "nome = \"João Lira\""
   ]
  },
  {
   "cell_type": "code",
   "execution_count": 11,
   "metadata": {},
   "outputs": [
    {
     "name": "stdout",
     "output_type": "stream",
     "text": [
      "14\n",
      "l\n",
      "i\n",
      "r\n",
      "a\n",
      "@\n",
      "g\n",
      "m\n",
      "a\n",
      "i\n",
      "l\n",
      ".\n",
      "c\n",
      "o\n",
      "m\n"
     ]
    }
   ],
   "source": [
    "print(len(email))\n",
    "print(email[0])\n",
    "print(email[1])\n",
    "print(email[2])\n",
    "print(email[3])\n",
    "print(email[4])\n",
    "print(email[5])\n",
    "print(email[6])\n",
    "print(email[7])\n",
    "print(email[8])\n",
    "print(email[9])\n",
    "print(email[10])\n",
    "print(email[11])\n",
    "print(email[12])\n",
    "print(email[13])\n",
    "\n"
   ]
  },
  {
   "cell_type": "code",
   "execution_count": 16,
   "metadata": {},
   "outputs": [
    {
     "name": "stdout",
     "output_type": "stream",
     "text": [
      "m\n",
      "o\n",
      "c\n",
      ".\n",
      "l\n",
      "i\n",
      "a\n",
      "m\n",
      "g\n",
      "@\n",
      "a\n",
      "r\n",
      "i\n",
      "l\n"
     ]
    }
   ],
   "source": [
    "print(email[-1])\n",
    "print(email[-2])\n",
    "print(email[-3])\n",
    "print(email[-4])\n",
    "print(email[-5])\n",
    "print(email[-6])\n",
    "print(email[-7])\n",
    "print(email[-8])\n",
    "print(email[-9])\n",
    "print(email[-10])\n",
    "print(email[-11])\n",
    "print(email[-12])\n",
    "print(email[-13])\n",
    "print(email[-14])"
   ]
  },
  {
   "cell_type": "code",
   "execution_count": 18,
   "metadata": {},
   "outputs": [
    {
     "name": "stdout",
     "output_type": "stream",
     "text": [
      "gmail.com\n"
     ]
    }
   ],
   "source": [
    "print(email[5:])"
   ]
  },
  {
   "cell_type": "code",
   "execution_count": 19,
   "metadata": {},
   "outputs": [
    {
     "name": "stdout",
     "output_type": "stream",
     "text": [
      "lira@\n"
     ]
    }
   ],
   "source": [
    "print(email[:5])"
   ]
  },
  {
   "cell_type": "code",
   "execution_count": 25,
   "metadata": {},
   "outputs": [
    {
     "name": "stdout",
     "output_type": "stream",
     "text": [
      "ir\n"
     ]
    }
   ],
   "source": [
    "print(email[1:3])"
   ]
  },
  {
   "cell_type": "code",
   "execution_count": 27,
   "metadata": {},
   "outputs": [
    {
     "name": "stdout",
     "output_type": "stream",
     "text": [
      "lr@mi.o\n"
     ]
    }
   ],
   "source": [
    "print(email[::2])"
   ]
  },
  {
   "cell_type": "markdown",
   "metadata": {},
   "source": [
    "### Operações com String"
   ]
  },
  {
   "cell_type": "code",
   "execution_count": 29,
   "metadata": {},
   "outputs": [],
   "source": [
    "faturamento = 1000\n",
    "custo = 500\n",
    "lucro = faturamento - custo"
   ]
  },
  {
   "cell_type": "code",
   "execution_count": 31,
   "metadata": {},
   "outputs": [
    {
     "name": "stdout",
     "output_type": "stream",
     "text": [
      "O faturamento foi de 1000\n"
     ]
    }
   ],
   "source": [
    "# str - transforma número em string\n",
    "\n",
    "print(\"O faturamento foi de \" + str(faturamento))"
   ]
  },
  {
   "cell_type": "code",
   "execution_count": 33,
   "metadata": {},
   "outputs": [
    {
     "name": "stdout",
     "output_type": "stream",
     "text": [
      "O faturamento foi de 1000\n"
     ]
    }
   ],
   "source": [
    "# format - substitui valores\n",
    "\n",
    "print(\"O faturamento foi de {}\" .format(faturamento))"
   ]
  },
  {
   "cell_type": "code",
   "execution_count": 35,
   "metadata": {},
   "outputs": [
    {
     "name": "stdout",
     "output_type": "stream",
     "text": [
      "O faturamento foi de 1000, o custo foi de 500, o lucro de 500. Lembrando que o faturamento foi 1000\n"
     ]
    }
   ],
   "source": [
    "print(\"O faturamento foi de {0}, o custo foi de {1}, o lucro de {2}. Lembrando que o faturamento foi {0}\" .format(faturamento, custo, lucro))"
   ]
  },
  {
   "cell_type": "code",
   "execution_count": 37,
   "metadata": {},
   "outputs": [
    {
     "name": "stdout",
     "output_type": "stream",
     "text": [
      "O faturamento foi de 1000. o custo foi de 500\n"
     ]
    }
   ],
   "source": [
    "# Uso do %s (substitui por string) e %d (substitui por número)\n",
    "\n",
    "print(\"O faturamento foi de %d. o custo foi de %d\" % (faturamento,custo))"
   ]
  },
  {
   "cell_type": "code",
   "execution_count": 38,
   "metadata": {},
   "outputs": [
    {
     "name": "stdout",
     "output_type": "stream",
     "text": [
      "True\n",
      "False\n"
     ]
    }
   ],
   "source": [
    "# Uso do in\n",
    "\n",
    "print(\"@\" in email)\n",
    "print(\"@\" in \"liragmail.com\")"
   ]
  },
  {
   "cell_type": "markdown",
   "metadata": {},
   "source": [
    "### Métodos de String"
   ]
  },
  {
   "cell_type": "code",
   "execution_count": 1,
   "metadata": {},
   "outputs": [
    {
     "name": "stdout",
     "output_type": "stream",
     "text": [
      "Lira\n"
     ]
    }
   ],
   "source": [
    "# capitalize() - Coloca a 1º letra Maiúscula\n",
    "texto = \"lira\"\n",
    "print(texto.capitalize())"
   ]
  },
  {
   "cell_type": "code",
   "execution_count": 4,
   "metadata": {},
   "outputs": [
    {
     "name": "stdout",
     "output_type": "stream",
     "text": [
      "lira\n"
     ]
    }
   ],
   "source": [
    "# casefold() - Transforma todas as letras em minúscula (o lower() também faz, mas o casefold é melhor normalmente)\n",
    "texto = \"LiRa\"\n",
    "print(texto.casefold())"
   ]
  },
  {
   "cell_type": "code",
   "execution_count": 6,
   "metadata": {},
   "outputs": [
    {
     "name": "stdout",
     "output_type": "stream",
     "text": [
      "2\n"
     ]
    }
   ],
   "source": [
    "# count() - Quantidade de vezes que um valor aparece na string\n",
    "texto = \"lira@gmail.com.br\"\n",
    "print(texto.count('a'))"
   ]
  },
  {
   "cell_type": "code",
   "execution_count": 10,
   "metadata": {},
   "outputs": [
    {
     "name": "stdout",
     "output_type": "stream",
     "text": [
      "True\n"
     ]
    }
   ],
   "source": [
    "# endswith() - Verificar se o texto termina com um valor específico e dá True ou False\n",
    "texto = \"lira@gmail.com.br\"\n",
    "print(texto.endswith('gmail.com.br'))"
   ]
  },
  {
   "cell_type": "code",
   "execution_count": 11,
   "metadata": {},
   "outputs": [
    {
     "name": "stdout",
     "output_type": "stream",
     "text": [
      "4\n"
     ]
    }
   ],
   "source": [
    "# find() - Procura um texto dentro de outro texto e dá como resposta a posição do texto encontrado\n",
    "texto = \"lira@gmail.com\"\n",
    "print(texto.find('@'))"
   ]
  },
  {
   "cell_type": "code",
   "execution_count": 12,
   "metadata": {},
   "outputs": [
    {
     "name": "stdout",
     "output_type": "stream",
     "text": [
      "O faturamento foi de 1000\n"
     ]
    }
   ],
   "source": [
    "# format() - Formata uma string de acordo com os valores passados\n",
    "faturamento = 1000\n",
    "print(\"O faturamento foi de {}\" .format(faturamento))"
   ]
  },
  {
   "cell_type": "code",
   "execution_count": 16,
   "metadata": {},
   "outputs": [
    {
     "name": "stdout",
     "output_type": "stream",
     "text": [
      "True\n"
     ]
    }
   ],
   "source": [
    "# isalnum() - Verifica se um texto é todo alfamunérico Letras e Números\n",
    "texto = \"LiraHashtag123\"\n",
    "print(texto.isalnum())"
   ]
  },
  {
   "cell_type": "code",
   "execution_count": 18,
   "metadata": {},
   "outputs": [
    {
     "name": "stdout",
     "output_type": "stream",
     "text": [
      "True\n"
     ]
    }
   ],
   "source": [
    "# isalpha() - Verifica se um texto é todo letras\n",
    "texto = \"LiraHashtag\"\n",
    "print(texto.isalpha())"
   ]
  },
  {
   "cell_type": "code",
   "execution_count": 21,
   "metadata": {},
   "outputs": [
    {
     "name": "stdout",
     "output_type": "stream",
     "text": [
      "True\n"
     ]
    }
   ],
   "source": [
    "# isnumeric() - Verifica se um texto é todo número\n",
    "texto = \"123\"\n",
    "print(texto.isnumeric())"
   ]
  },
  {
   "cell_type": "code",
   "execution_count": 22,
   "metadata": {},
   "outputs": [
    {
     "name": "stdout",
     "output_type": "stream",
     "text": [
      "1000.00\n"
     ]
    }
   ],
   "source": [
    "# replace() - Troca um texto por outro em uma string\n",
    "texto = \"1000,00\"\n",
    "print(texto.replace(',','.'))"
   ]
  },
  {
   "cell_type": "code",
   "execution_count": 24,
   "metadata": {},
   "outputs": [
    {
     "name": "stdout",
     "output_type": "stream",
     "text": [
      "['lira', 'gmail', 'com']\n"
     ]
    }
   ],
   "source": [
    "# split() - Separa uma string de acordo com um delimitador em vários\n",
    "texto = \"lira@gmail@com\"\n",
    "print(texto.split(\"@\"))"
   ]
  },
  {
   "cell_type": "code",
   "execution_count": 25,
   "metadata": {},
   "outputs": [
    {
     "name": "stdout",
     "output_type": "stream",
     "text": [
      "['Ola´, bom dia', 'Venho por meio deste falar.', 'Faturamento da empresa:', 'R$ 5000,00']\n"
     ]
    }
   ],
   "source": [
    "# splitlines() - Separa um texto em vários textos de acordo com os \"Enters\" do texto\n",
    "texto = '''Ola´, bom dia\n",
    "Venho por meio deste falar.\n",
    "Faturamento da empresa:\n",
    "R$ 5000,00'''\n",
    "print(texto.splitlines())"
   ]
  },
  {
   "cell_type": "code",
   "execution_count": 26,
   "metadata": {},
   "outputs": [
    {
     "name": "stdout",
     "output_type": "stream",
     "text": [
      "True\n"
     ]
    }
   ],
   "source": [
    "# startswith() - Verifica se a string começa com determinado texto\n",
    "texto = \"BEB12312313\"\n",
    "print(texto.startswith(\"BEB\"))"
   ]
  },
  {
   "cell_type": "code",
   "execution_count": 27,
   "metadata": {},
   "outputs": [
    {
     "name": "stdout",
     "output_type": "stream",
     "text": [
      " BEB 123 12313\n"
     ]
    }
   ],
   "source": [
    "# strip() - Retira caracteres indesejados dos textos. Por padrão, retira os espaços extras do início e fim\n",
    "texto = \" BEB 123 12313\"\n",
    "print(texto.strip(\"BEB\"))"
   ]
  },
  {
   "cell_type": "code",
   "execution_count": 28,
   "metadata": {},
   "outputs": [
    {
     "name": "stdout",
     "output_type": "stream",
     "text": [
      "João Paulo Lira\n"
     ]
    }
   ],
   "source": [
    "# title() - Coloca a 1º letra de cada palavra em maiúscula\n",
    "texto = \"joão paulo lira\"\n",
    "print(texto.title())"
   ]
  },
  {
   "cell_type": "code",
   "execution_count": 29,
   "metadata": {},
   "outputs": [
    {
     "name": "stdout",
     "output_type": "stream",
     "text": [
      "JOÃO PAULO LIRA\n"
     ]
    }
   ],
   "source": [
    "# upper() - Coloca o texto todo em maiúscula\n",
    "texto = \"joão paulo lira\"\n",
    "print(texto.upper())"
   ]
  }
 ],
 "metadata": {
  "kernelspec": {
   "display_name": "base",
   "language": "python",
   "name": "python3"
  },
  "language_info": {
   "codemirror_mode": {
    "name": "ipython",
    "version": 3
   },
   "file_extension": ".py",
   "mimetype": "text/x-python",
   "name": "python",
   "nbconvert_exporter": "python",
   "pygments_lexer": "ipython3",
   "version": "3.11.5"
  }
 },
 "nbformat": 4,
 "nbformat_minor": 2
}
