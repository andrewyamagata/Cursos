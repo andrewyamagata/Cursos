{
 "cells": [
  {
   "cell_type": "markdown",
   "metadata": {},
   "source": [
    "## Strings"
   ]
  },
  {
   "cell_type": "code",
   "execution_count": 1,
   "metadata": {},
   "outputs": [],
   "source": [
    "email = \"lira@gmail.com\"\n",
    "nome = \"João Lira\""
   ]
  },
  {
   "cell_type": "code",
   "execution_count": 11,
   "metadata": {},
   "outputs": [
    {
     "name": "stdout",
     "output_type": "stream",
     "text": [
      "14\n",
      "l\n",
      "i\n",
      "r\n",
      "a\n",
      "@\n",
      "g\n",
      "m\n",
      "a\n",
      "i\n",
      "l\n",
      ".\n",
      "c\n",
      "o\n",
      "m\n"
     ]
    }
   ],
   "source": [
    "print(len(email))\n",
    "print(email[0])\n",
    "print(email[1])\n",
    "print(email[2])\n",
    "print(email[3])\n",
    "print(email[4])\n",
    "print(email[5])\n",
    "print(email[6])\n",
    "print(email[7])\n",
    "print(email[8])\n",
    "print(email[9])\n",
    "print(email[10])\n",
    "print(email[11])\n",
    "print(email[12])\n",
    "print(email[13])\n",
    "\n"
   ]
  },
  {
   "cell_type": "code",
   "execution_count": 16,
   "metadata": {},
   "outputs": [
    {
     "name": "stdout",
     "output_type": "stream",
     "text": [
      "m\n",
      "o\n",
      "c\n",
      ".\n",
      "l\n",
      "i\n",
      "a\n",
      "m\n",
      "g\n",
      "@\n",
      "a\n",
      "r\n",
      "i\n",
      "l\n"
     ]
    }
   ],
   "source": [
    "print(email[-1])\n",
    "print(email[-2])\n",
    "print(email[-3])\n",
    "print(email[-4])\n",
    "print(email[-5])\n",
    "print(email[-6])\n",
    "print(email[-7])\n",
    "print(email[-8])\n",
    "print(email[-9])\n",
    "print(email[-10])\n",
    "print(email[-11])\n",
    "print(email[-12])\n",
    "print(email[-13])\n",
    "print(email[-14])"
   ]
  },
  {
   "cell_type": "code",
   "execution_count": 18,
   "metadata": {},
   "outputs": [
    {
     "name": "stdout",
     "output_type": "stream",
     "text": [
      "gmail.com\n"
     ]
    }
   ],
   "source": [
    "print(email[5:])"
   ]
  },
  {
   "cell_type": "code",
   "execution_count": 19,
   "metadata": {},
   "outputs": [
    {
     "name": "stdout",
     "output_type": "stream",
     "text": [
      "lira@\n"
     ]
    }
   ],
   "source": [
    "print(email[:5])"
   ]
  },
  {
   "cell_type": "code",
   "execution_count": 25,
   "metadata": {},
   "outputs": [
    {
     "name": "stdout",
     "output_type": "stream",
     "text": [
      "ir\n"
     ]
    }
   ],
   "source": [
    "print(email[1:3])"
   ]
  },
  {
   "cell_type": "code",
   "execution_count": 27,
   "metadata": {},
   "outputs": [
    {
     "name": "stdout",
     "output_type": "stream",
     "text": [
      "lr@mi.o\n"
     ]
    }
   ],
   "source": [
    "print(email[::2])"
   ]
  },
  {
   "cell_type": "markdown",
   "metadata": {},
   "source": [
    "### Operações com String"
   ]
  },
  {
   "cell_type": "code",
   "execution_count": 29,
   "metadata": {},
   "outputs": [],
   "source": [
    "faturamento = 1000\n",
    "custo = 500\n",
    "lucro = faturamento - custo"
   ]
  },
  {
   "cell_type": "code",
   "execution_count": 31,
   "metadata": {},
   "outputs": [
    {
     "name": "stdout",
     "output_type": "stream",
     "text": [
      "O faturamento foi de 1000\n"
     ]
    }
   ],
   "source": [
    "# str - transforma número em string\n",
    "\n",
    "print(\"O faturamento foi de \" + str(faturamento))"
   ]
  },
  {
   "cell_type": "code",
   "execution_count": 33,
   "metadata": {},
   "outputs": [
    {
     "name": "stdout",
     "output_type": "stream",
     "text": [
      "O faturamento foi de 1000\n"
     ]
    }
   ],
   "source": [
    "# format - substitui valores\n",
    "\n",
    "print(\"O faturamento foi de {}\" .format(faturamento))"
   ]
  },
  {
   "cell_type": "code",
   "execution_count": 35,
   "metadata": {},
   "outputs": [
    {
     "name": "stdout",
     "output_type": "stream",
     "text": [
      "O faturamento foi de 1000, o custo foi de 500, o lucro de 500. Lembrando que o faturamento foi 1000\n"
     ]
    }
   ],
   "source": [
    "print(\"O faturamento foi de {0}, o custo foi de {1}, o lucro de {2}. Lembrando que o faturamento foi {0}\" .format(faturamento, custo, lucro))"
   ]
  },
  {
   "cell_type": "code",
   "execution_count": 37,
   "metadata": {},
   "outputs": [
    {
     "name": "stdout",
     "output_type": "stream",
     "text": [
      "O faturamento foi de 1000. o custo foi de 500\n"
     ]
    }
   ],
   "source": [
    "# Uso do %s (substitui por string) e %d (substitui por número)\n",
    "\n",
    "print(\"O faturamento foi de %d. o custo foi de %d\" % (faturamento,custo))"
   ]
  },
  {
   "cell_type": "code",
   "execution_count": 38,
   "metadata": {},
   "outputs": [
    {
     "name": "stdout",
     "output_type": "stream",
     "text": [
      "True\n",
      "False\n"
     ]
    }
   ],
   "source": [
    "# Uso do in\n",
    "\n",
    "print(\"@\" in email)\n",
    "print(\"@\" in \"liragmail.com\")"
   ]
  },
  {
   "cell_type": "markdown",
   "metadata": {},
   "source": [
    "### Métodos de String"
   ]
  }
 ],
 "metadata": {
  "kernelspec": {
   "display_name": "base",
   "language": "python",
   "name": "python3"
  },
  "language_info": {
   "codemirror_mode": {
    "name": "ipython",
    "version": 3
   },
   "file_extension": ".py",
   "mimetype": "text/x-python",
   "name": "python",
   "nbconvert_exporter": "python",
   "pygments_lexer": "ipython3",
   "version": "3.11.5"
  }
 },
 "nbformat": 4,
 "nbformat_minor": 2
}
