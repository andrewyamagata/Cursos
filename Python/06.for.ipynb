{
 "cells": [
  {
   "cell_type": "markdown",
   "metadata": {},
   "source": [
    "# Estrutura de Repetição: for"
   ]
  },
  {
   "cell_type": "code",
   "execution_count": 1,
   "metadata": {},
   "outputs": [
    {
     "name": "stdout",
     "output_type": "stream",
     "text": [
      "0\n",
      "1\n",
      "2\n",
      "3\n",
      "4\n"
     ]
    }
   ],
   "source": [
    "for i in range(5):\n",
    "    print(i)"
   ]
  },
  {
   "cell_type": "code",
   "execution_count": 6,
   "metadata": {},
   "outputs": [
    {
     "name": "stdout",
     "output_type": "stream",
     "text": [
      "15000 unidades de coca.\n",
      "12000 unidades de pepsi.\n",
      "13000 unidades de guarana.\n",
      "5000 unidades de sprite.\n",
      "250 unidades de fanta.\n"
     ]
    }
   ],
   "source": [
    "produtos = ['coca', 'pepsi', 'guarana', 'sprite', 'fanta']\n",
    "producao = [15000, 12000, 13000, 5000, 250]\n",
    "\n",
    "tamanho = len(produtos)\n",
    "for i in range(tamanho):\n",
    "    print('{} unidades de {}.' .format(producao[i],produtos[i]))"
   ]
  },
  {
   "cell_type": "code",
   "execution_count": 8,
   "metadata": {},
   "outputs": [
    {
     "name": "stdout",
     "output_type": "stream",
     "text": [
      "O produto é coca\n",
      "O produto é pepsi\n",
      "O produto é guarana\n",
      "O produto é sprite\n",
      "O produto é fanta\n",
      "l\n",
      "i\n",
      "r\n",
      "a\n",
      "@\n",
      "g\n",
      "m\n",
      "a\n",
      "i\n",
      "l\n",
      ".\n",
      "c\n",
      "o\n",
      "m\n"
     ]
    }
   ],
   "source": [
    "produtos = ['coca', 'pepsi', 'guarana', 'sprite', 'fanta']\n",
    "texto = 'lira@gmail.com'\n",
    "\n",
    "for produto in produtos:\n",
    "    print(\"O produto é {}\".format(produto))\n",
    "\n",
    "for ch in texto:\n",
    "    print(ch)"
   ]
  },
  {
   "cell_type": "markdown",
   "metadata": {},
   "source": [
    "### for + if"
   ]
  },
  {
   "cell_type": "code",
   "execution_count": 22,
   "metadata": {},
   "outputs": [
    {
     "name": "stdout",
     "output_type": "stream",
     "text": [
      "7\n",
      "O percentual de pessoas que bateram a meta foi de 46.7%\n"
     ]
    }
   ],
   "source": [
    "vendas = [15000, 12000, 13000, 5000, 250, 300, 450, 1200, 3200, 80, 940, 4500, 560, 700, 300]\n",
    "meta = 1000\n",
    "\n",
    "qtd_bateu_meta = 0\n",
    "\n",
    "for venda in vendas:\n",
    "    if venda >= meta:\n",
    "        qtd_bateu_meta += 1\n",
    "\n",
    "print(qtd_bateu_meta)\n",
    "\n",
    "qtd_funcionario = len(vendas)\n",
    "\n",
    "print(\"O percentual de pessoas que bateram a meta foi de {:.1%}\".format(qtd_bateu_meta/qtd_funcionario))"
   ]
  },
  {
   "cell_type": "markdown",
   "metadata": {},
   "source": [
    "### Enumerate"
   ]
  },
  {
   "cell_type": "code",
   "execution_count": 27,
   "metadata": {},
   "outputs": [
    {
     "name": "stdout",
     "output_type": "stream",
     "text": [
      "0 é o funcionário Maria\n",
      "1 é o funcionário Jose\n",
      "2 é o funcionário Joao\n",
      "3 é o funcionário Fabiana\n",
      "4 é o funcionário Camila\n",
      "5 é o funcionário Francisco\n",
      "6 é o funcionário Marcia\n",
      "7 é o funcionário Cassia\n",
      "8 é o funcionário Andre\n",
      "9 é o funcionário Afonso\n",
      "10 é o funcionário Rogerio\n"
     ]
    }
   ],
   "source": [
    "funcionarios = [\"Maria\", \"Jose\", \"Joao\", \"Fabiana\", \"Camila\", \"Francisco\", \"Marcia\", \"Cassia\", \"Andre\", \"Afonso\", \"Rogerio\"]\n",
    "\n",
    "for i, funcionario in enumerate(funcionarios):\n",
    "    print(\"{} é o funcionário {}\".format(i, funcionario))"
   ]
  },
  {
   "cell_type": "code",
   "execution_count": 29,
   "metadata": {},
   "outputs": [
    {
     "name": "stdout",
     "output_type": "stream",
     "text": [
      " O produto dolly está abaixo da quantidade. Temos apenas 20 unidades.\n",
      " O produto red bull está abaixo da quantidade. Temos apenas 23 unidades.\n"
     ]
    }
   ],
   "source": [
    "estoque = [1200, 300, 800, 1500, 1900, 2750, 400, 20, 23, 70, 90, 80, 1100, 999, 900, 880, 870, 50, 1111, 120, 300, 450, 800]\n",
    "produtos = ['coca', 'pepsi', 'guarana', 'skol', 'brahma', 'agua', 'del valle', 'dolly', 'red bull', 'cachaça', 'vinho tinto', 'vodka', 'vinho branco', 'tequila', 'champagne', 'gin', 'guaracamp', 'matte', 'leite de castanha', 'leite', 'jurupinga', 'sprite', 'fanta']\n",
    "nivel_minimo = 50\n",
    "\n",
    "for i, qtd in enumerate(estoque):\n",
    "    if qtd < nivel_minimo:\n",
    "        print(\" O produto {} está abaixo da quantidade. Temos apenas {} unidades.\".format(produtos[i],qtd))"
   ]
  },
  {
   "cell_type": "markdown",
   "metadata": {},
   "source": [
    "### Diferentes formas"
   ]
  },
  {
   "cell_type": "code",
   "execution_count": 30,
   "metadata": {},
   "outputs": [],
   "source": [
    "produtos2 = [\"iphone\", \"ipad\", \"airpod\", \"macbook\"]\n",
    "precos2 = [7000, 10000, 2500, 14000]"
   ]
  },
  {
   "cell_type": "code",
   "execution_count": 31,
   "metadata": {},
   "outputs": [
    {
     "name": "stdout",
     "output_type": "stream",
     "text": [
      "7700.000000000001\n",
      "11000.0\n",
      "2750.0\n",
      "15400.000000000002\n"
     ]
    }
   ],
   "source": [
    "#For item in lista\n",
    "\n",
    "for preco2 in precos2:\n",
    "    print(preco2 * 1.1)"
   ]
  },
  {
   "cell_type": "code",
   "execution_count": 34,
   "metadata": {},
   "outputs": [
    {
     "name": "stdout",
     "output_type": "stream",
     "text": [
      "iphone 7000\n",
      "ipad 10000\n",
      "airpod 2500\n",
      "macbook 14000\n"
     ]
    }
   ],
   "source": [
    "# For i in range\n",
    "\n",
    "for i in range(len(produtos2)):\n",
    "    produto2 = produtos2[i]\n",
    "    preco2 = precos2[i]\n",
    "    print(produto2, preco2)"
   ]
  },
  {
   "cell_type": "code",
   "execution_count": 36,
   "metadata": {},
   "outputs": [
    {
     "name": "stdout",
     "output_type": "stream",
     "text": [
      "iphone 7700.000000000001\n",
      "ipad 11000.0\n",
      "airpod 2750.0\n",
      "macbook 15400.000000000002\n"
     ]
    }
   ],
   "source": [
    "# For item in lista com enumerate\n",
    "\n",
    "for i, preco2 in enumerate(precos2):\n",
    "    preco2 = preco2 * 1.1\n",
    "    produto2 = produtos2[i]\n",
    "    print(produto2, preco2)"
   ]
  },
  {
   "cell_type": "markdown",
   "metadata": {},
   "source": [
    "### Exercício"
   ]
  },
  {
   "cell_type": "code",
   "execution_count": null,
   "metadata": {},
   "outputs": [],
   "source": [
    "quarto = [\n",
    "    ['João', 'cpf:00000000000'],\n",
    "    ['Julia', 'cpf:11111111111'],\n",
    "    ['Marcus', 'cpf:22222222222'],\n",
    "    ['Maria', 'cpf:33333333333'],\n",
    "]"
   ]
  },
  {
   "cell_type": "code",
   "execution_count": 4,
   "metadata": {},
   "outputs": [
    {
     "name": "stdout",
     "output_type": "stream",
     "text": [
      "[['abaco', 'cpf:12332112343'], ['nado', 'cpf:12323443212']]\n"
     ]
    }
   ],
   "source": [
    "qtd_pessoas = int(input('Quantas pessoas terão no quarto?'))\n",
    "quarto = []\n",
    "\n",
    "for i in range(qtd_pessoas):\n",
    "    nome = input('Qual o nome?')\n",
    "    cpf = input('Qual o cpf?')\n",
    "    hospede = [nome, 'cpf:{}'.format(cpf)]\n",
    "    quarto.append(hospede)\n",
    "print(quarto)"
   ]
  },
  {
   "cell_type": "code",
   "execution_count": 5,
   "metadata": {},
   "outputs": [
    {
     "name": "stdout",
     "output_type": "stream",
     "text": [
      "Vendedor João bateu a meta em 15000 vendas\n",
      "Vendedor Julia bateu a meta em 27000 vendas\n",
      "Vendedor Ana bateu a meta em 10300 vendas\n"
     ]
    }
   ],
   "source": [
    "meta = 10000\n",
    "vendas = [\n",
    "    ['João', 15000],\n",
    "    ['Julia', 27000],\n",
    "    ['Marcus', 9900],\n",
    "    ['Maria', 3750],\n",
    "    ['Ana', 10300],\n",
    "    ['Alon', 7870],\n",
    "]\n",
    "\n",
    "for item in vendas:\n",
    "    if item[1] >= meta:\n",
    "        print(\"Vendedor {} bateu a meta em {} vendas\".format(item[0], item[1]))"
   ]
  },
  {
   "cell_type": "code",
   "execution_count": null,
   "metadata": {},
   "outputs": [],
   "source": [
    "produtos = ['iphone', 'galaxy', 'ipad', 'tv', 'máquina de café', 'kindle', 'geladeira', 'adega', 'notebook dell', 'notebook hp', 'notebook asus', 'microsoft surface', 'webcam', 'caixa de som', 'microfone', 'câmera canon']\n",
    "vendas2019 = [558147,712350,573823,405252,718654,531580,973139,892292,422760,154753,887061,438508,237467,489705,328311,591120]\n",
    "vendas2020 = [951642,244295,26964,787604,867660,78830,710331,646016,694913,539704,324831,667179,295633,725316,644622,994303]"
   ]
  }
 ],
 "metadata": {
  "kernelspec": {
   "display_name": "base",
   "language": "python",
   "name": "python3"
  },
  "language_info": {
   "codemirror_mode": {
    "name": "ipython",
    "version": 3
   },
   "file_extension": ".py",
   "mimetype": "text/x-python",
   "name": "python",
   "nbconvert_exporter": "python",
   "pygments_lexer": "ipython3",
   "version": "3.11.5"
  }
 },
 "nbformat": 4,
 "nbformat_minor": 2
}
