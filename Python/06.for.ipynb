{
 "cells": [
  {
   "cell_type": "markdown",
   "metadata": {},
   "source": [
    "# Estrutura de Repetição: for"
   ]
  },
  {
   "cell_type": "code",
   "execution_count": 1,
   "metadata": {},
   "outputs": [
    {
     "name": "stdout",
     "output_type": "stream",
     "text": [
      "0\n",
      "1\n",
      "2\n",
      "3\n",
      "4\n"
     ]
    }
   ],
   "source": [
    "for i in range(5):\n",
    "    print(i)"
   ]
  },
  {
   "cell_type": "code",
   "execution_count": 6,
   "metadata": {},
   "outputs": [
    {
     "name": "stdout",
     "output_type": "stream",
     "text": [
      "15000 unidades de coca.\n",
      "12000 unidades de pepsi.\n",
      "13000 unidades de guarana.\n",
      "5000 unidades de sprite.\n",
      "250 unidades de fanta.\n"
     ]
    }
   ],
   "source": [
    "produtos = ['coca', 'pepsi', 'guarana', 'sprite', 'fanta']\n",
    "producao = [15000, 12000, 13000, 5000, 250]\n",
    "\n",
    "tamanho = len(produtos)\n",
    "for i in range(tamanho):\n",
    "    print('{} unidades de {}.' .format(producao[i],produtos[i]))"
   ]
  },
  {
   "cell_type": "code",
   "execution_count": 8,
   "metadata": {},
   "outputs": [
    {
     "name": "stdout",
     "output_type": "stream",
     "text": [
      "O produto é coca\n",
      "O produto é pepsi\n",
      "O produto é guarana\n",
      "O produto é sprite\n",
      "O produto é fanta\n",
      "l\n",
      "i\n",
      "r\n",
      "a\n",
      "@\n",
      "g\n",
      "m\n",
      "a\n",
      "i\n",
      "l\n",
      ".\n",
      "c\n",
      "o\n",
      "m\n"
     ]
    }
   ],
   "source": [
    "produtos = ['coca', 'pepsi', 'guarana', 'sprite', 'fanta']\n",
    "texto = 'lira@gmail.com'\n",
    "\n",
    "for produto in produtos:\n",
    "    print(\"O produto é {}\".format(produto))\n",
    "\n",
    "for ch in texto:\n",
    "    print(ch)"
   ]
  },
  {
   "cell_type": "markdown",
   "metadata": {},
   "source": [
    "### for + if"
   ]
  },
  {
   "cell_type": "code",
   "execution_count": 22,
   "metadata": {},
   "outputs": [
    {
     "name": "stdout",
     "output_type": "stream",
     "text": [
      "7\n",
      "O percentual de pessoas que bateram a meta foi de 46.7%\n"
     ]
    }
   ],
   "source": [
    "vendas = [15000, 12000, 13000, 5000, 250, 300, 450, 1200, 3200, 80, 940, 4500, 560, 700, 300]\n",
    "meta = 1000\n",
    "\n",
    "qtd_bateu_meta = 0\n",
    "\n",
    "for venda in vendas:\n",
    "    if venda >= meta:\n",
    "        qtd_bateu_meta += 1\n",
    "\n",
    "print(qtd_bateu_meta)\n",
    "\n",
    "qtd_funcionario = len(vendas)\n",
    "\n",
    "print(\"O percentual de pessoas que bateram a meta foi de {:.1%}\".format(qtd_bateu_meta/qtd_funcionario))"
   ]
  },
  {
   "cell_type": "markdown",
   "metadata": {},
   "source": [
    "### Enumerate"
   ]
  },
  {
   "cell_type": "code",
   "execution_count": 27,
   "metadata": {},
   "outputs": [
    {
     "name": "stdout",
     "output_type": "stream",
     "text": [
      "0 é o funcionário Maria\n",
      "1 é o funcionário Jose\n",
      "2 é o funcionário Joao\n",
      "3 é o funcionário Fabiana\n",
      "4 é o funcionário Camila\n",
      "5 é o funcionário Francisco\n",
      "6 é o funcionário Marcia\n",
      "7 é o funcionário Cassia\n",
      "8 é o funcionário Andre\n",
      "9 é o funcionário Afonso\n",
      "10 é o funcionário Rogerio\n"
     ]
    }
   ],
   "source": [
    "funcionarios = [\"Maria\", \"Jose\", \"Joao\", \"Fabiana\", \"Camila\", \"Francisco\", \"Marcia\", \"Cassia\", \"Andre\", \"Afonso\", \"Rogerio\"]\n",
    "\n",
    "for i, funcionario in enumerate(funcionarios):\n",
    "    print(\"{} é o funcionário {}\".format(i, funcionario))"
   ]
  },
  {
   "cell_type": "code",
   "execution_count": 29,
   "metadata": {},
   "outputs": [
    {
     "name": "stdout",
     "output_type": "stream",
     "text": [
      " O produto dolly está abaixo da quantidade. Temos apenas 20 unidades.\n",
      " O produto red bull está abaixo da quantidade. Temos apenas 23 unidades.\n"
     ]
    }
   ],
   "source": [
    "estoque = [1200, 300, 800, 1500, 1900, 2750, 400, 20, 23, 70, 90, 80, 1100, 999, 900, 880, 870, 50, 1111, 120, 300, 450, 800]\n",
    "produtos = ['coca', 'pepsi', 'guarana', 'skol', 'brahma', 'agua', 'del valle', 'dolly', 'red bull', 'cachaça', 'vinho tinto', 'vodka', 'vinho branco', 'tequila', 'champagne', 'gin', 'guaracamp', 'matte', 'leite de castanha', 'leite', 'jurupinga', 'sprite', 'fanta']\n",
    "nivel_minimo = 50\n",
    "\n",
    "for i, qtd in enumerate(estoque):\n",
    "    if qtd < nivel_minimo:\n",
    "        print(\" O produto {} está abaixo da quantidade. Temos apenas {} unidades.\".format(produtos[i],qtd))"
   ]
  },
  {
   "cell_type": "markdown",
   "metadata": {},
   "source": [
    "### Diferentes formas"
   ]
  },
  {
   "cell_type": "code",
   "execution_count": 30,
   "metadata": {},
   "outputs": [],
   "source": [
    "produtos2 = [\"iphone\", \"ipad\", \"airpod\", \"macbook\"]\n",
    "precos2 = [7000, 10000, 2500, 14000]"
   ]
  },
  {
   "cell_type": "code",
   "execution_count": 31,
   "metadata": {},
   "outputs": [
    {
     "name": "stdout",
     "output_type": "stream",
     "text": [
      "7700.000000000001\n",
      "11000.0\n",
      "2750.0\n",
      "15400.000000000002\n"
     ]
    }
   ],
   "source": [
    "#For item in lista\n",
    "\n",
    "for preco2 in precos2:\n",
    "    print(preco2 * 1.1)"
   ]
  },
  {
   "cell_type": "code",
   "execution_count": 34,
   "metadata": {},
   "outputs": [
    {
     "name": "stdout",
     "output_type": "stream",
     "text": [
      "iphone 7000\n",
      "ipad 10000\n",
      "airpod 2500\n",
      "macbook 14000\n"
     ]
    }
   ],
   "source": [
    "# For i in range\n",
    "\n",
    "for i in range(len(produtos2)):\n",
    "    produto2 = produtos2[i]\n",
    "    preco2 = precos2[i]\n",
    "    print(produto2, preco2)"
   ]
  },
  {
   "cell_type": "code",
   "execution_count": 36,
   "metadata": {},
   "outputs": [
    {
     "name": "stdout",
     "output_type": "stream",
     "text": [
      "iphone 7700.000000000001\n",
      "ipad 11000.0\n",
      "airpod 2750.0\n",
      "macbook 15400.000000000002\n"
     ]
    }
   ],
   "source": [
    "# For item in lista com enumerate\n",
    "\n",
    "for i, preco2 in enumerate(precos2):\n",
    "    preco2 = preco2 * 1.1\n",
    "    produto2 = produtos2[i]\n",
    "    print(produto2, preco2)"
   ]
  },
  {
   "cell_type": "markdown",
   "metadata": {},
   "source": [
    "### Exercício"
   ]
  },
  {
   "cell_type": "code",
   "execution_count": null,
   "metadata": {},
   "outputs": [],
   "source": [
    "quarto = [\n",
    "    ['João', 'cpf:00000000000'],\n",
    "    ['Julia', 'cpf:11111111111'],\n",
    "    ['Marcus', 'cpf:22222222222'],\n",
    "    ['Maria', 'cpf:33333333333'],\n",
    "]"
   ]
  },
  {
   "cell_type": "code",
   "execution_count": 4,
   "metadata": {},
   "outputs": [
    {
     "name": "stdout",
     "output_type": "stream",
     "text": [
      "[['abaco', 'cpf:12332112343'], ['nado', 'cpf:12323443212']]\n"
     ]
    }
   ],
   "source": [
    "qtd_pessoas = int(input('Quantas pessoas terão no quarto?'))\n",
    "quarto = []\n",
    "\n",
    "for i in range(qtd_pessoas):\n",
    "    nome = input('Qual o nome?')\n",
    "    cpf = input('Qual o cpf?')\n",
    "    hospede = [nome, 'cpf:{}'.format(cpf)]\n",
    "    quarto.append(hospede)\n",
    "print(quarto)"
   ]
  },
  {
   "cell_type": "code",
   "execution_count": 5,
   "metadata": {},
   "outputs": [
    {
     "name": "stdout",
     "output_type": "stream",
     "text": [
      "Vendedor João bateu a meta em 15000 vendas\n",
      "Vendedor Julia bateu a meta em 27000 vendas\n",
      "Vendedor Ana bateu a meta em 10300 vendas\n"
     ]
    }
   ],
   "source": [
    "meta = 10000\n",
    "vendas = [\n",
    "    ['João', 15000],\n",
    "    ['Julia', 27000],\n",
    "    ['Marcus', 9900],\n",
    "    ['Maria', 3750],\n",
    "    ['Ana', 10300],\n",
    "    ['Alon', 7870],\n",
    "]\n",
    "\n",
    "for item in vendas:\n",
    "    if item[1] >= meta:\n",
    "        print(\"Vendedor {} bateu a meta em {} vendas\".format(item[0], item[1]))"
   ]
  },
  {
   "cell_type": "code",
   "execution_count": 19,
   "metadata": {},
   "outputs": [
    {
     "name": "stdout",
     "output_type": "stream",
     "text": [
      "iphone vendeu 558,147 em 2019 e 951,642 em 2020. Teve 70.50% de crescimento\n",
      "tv vendeu 405,252 em 2019 e 787,604 em 2020. Teve 94.35% de crescimento\n",
      "máquina de café vendeu 718,654 em 2019 e 867,660 em 2020. Teve 20.73% de crescimento\n",
      "notebook dell vendeu 422,760 em 2019 e 694,913 em 2020. Teve 64.38% de crescimento\n",
      "notebook hp vendeu 154,753 em 2019 e 539,704 em 2020. Teve 248.75% de crescimento\n",
      "microsoft surface vendeu 438,508 em 2019 e 667,179 em 2020. Teve 52.15% de crescimento\n",
      "webcam vendeu 237,467 em 2019 e 295,633 em 2020. Teve 24.49% de crescimento\n",
      "caixa de som vendeu 489,705 em 2019 e 725,316 em 2020. Teve 48.11% de crescimento\n",
      "microfone vendeu 328,311 em 2019 e 644,622 em 2020. Teve 96.34% de crescimento\n",
      "câmera canon vendeu 591,120 em 2019 e 994,303 em 2020. Teve 68.21% de crescimento\n"
     ]
    }
   ],
   "source": [
    "produtos = ['iphone', 'galaxy', 'ipad', 'tv', 'máquina de café', 'kindle', 'geladeira', 'adega', 'notebook dell', 'notebook hp', 'notebook asus', 'microsoft surface', 'webcam', 'caixa de som', 'microfone', 'câmera canon']\n",
    "vendas2019 = [558147,712350,573823,405252,718654,531580,973139,892292,422760,154753,887061,438508,237467,489705,328311,591120]\n",
    "vendas2020 = [951642,244295,26964,787604,867660,78830,710331,646016,694913,539704,324831,667179,295633,725316,644622,994303]\n",
    "\n",
    "for i, produto in enumerate(produtos):\n",
    "    if vendas2020[i] > vendas2019[i]:\n",
    "        crescimento = vendas2020[i] / vendas2019[i] - 1\n",
    "        print(\"{} vendeu {:,} em 2019 e {:,} em 2020. Teve {:.2%} de crescimento\".format(produto, vendas2019[i], vendas2020[i], crescimento))"
   ]
  },
  {
   "cell_type": "markdown",
   "metadata": {},
   "source": [
    "### For dentro de For"
   ]
  },
  {
   "cell_type": "code",
   "execution_count": 10,
   "metadata": {},
   "outputs": [
    {
     "name": "stdout",
     "output_type": "stream",
     "text": [
      "['Lira Manufacturing', 'Fábrica Hashtag', 'Python Manufaturas']\n"
     ]
    }
   ],
   "source": [
    "estoque = [\n",
    "    [294, 125, 269, 208, 783, 852, 259, 371, 47, 102, 386, 87, 685, 686, 697, 941, 163, 631, 7, 714, 218, 670, 453],\n",
    "    [648, 816, 310, 555, 992, 643, 226, 319, 501, 23, 239, 42, 372, 441, 126, 645, 927, 911, 761, 445, 974, 2, 549],\n",
    "    [832, 683, 784, 449, 977, 705, 198, 937, 729, 327, 339, 10, 975, 310, 95, 689, 137, 795, 211, 538, 933, 751, 522],\n",
    "    [837, 168, 570, 397, 53, 297, 966, 714, 72, 737, 259, 629, 625, 469, 922, 305, 782, 243, 841, 848, 372, 621, 362],\n",
    "    [429, 242, 53, 985, 406, 186, 198, 50, 501, 870, 781, 632, 781, 105, 644, 509, 401, 88, 961, 765, 422, 340, 654],\n",
    "]\n",
    "fabricas = ['Lira Manufacturing', 'Fábrica Hashtag', 'Python Manufaturas', 'Produções e Cia', 'Manufatura e Cia']\n",
    "nivel_minimo = 50\n",
    "fabricas_abaixo_nivel = []\n",
    "\n",
    "for i, lista in enumerate(estoque):\n",
    "    for qtde in lista:\n",
    "        if qtde < nivel_minimo:\n",
    "            if fabricas[i] in fabricas_abaixo_nivel:\n",
    "                pass\n",
    "            else:\n",
    "                fabricas_abaixo_nivel.append(fabricas[i])\n",
    "print(fabricas_abaixo_nivel)"
   ]
  },
  {
   "cell_type": "markdown",
   "metadata": {},
   "source": [
    "### Exercicio"
   ]
  },
  {
   "cell_type": "code",
   "execution_count": 22,
   "metadata": {},
   "outputs": [],
   "source": [
    "meta = 10000\n",
    "vendas = [\n",
    "    ['João', 15000],\n",
    "    ['Julia', 2000],\n",
    "    ['Marcus', 9900],\n",
    "    ['Maria', 3750],\n",
    "    ['Ana', 10300],\n",
    "    ['Alon', 75870],\n",
    "]"
   ]
  },
  {
   "cell_type": "code",
   "execution_count": 19,
   "metadata": {},
   "outputs": [
    {
     "name": "stdout",
     "output_type": "stream",
     "text": [
      "[['João', 15000], ['Ana', 10300]]\n",
      "6\n",
      "2\n",
      "33.33% dos vendedores bateram a meta\n"
     ]
    }
   ],
   "source": [
    "#criando lista auxiliar\n",
    "acima_meta = []\n",
    "\n",
    "for venda in vendas:\n",
    "    if venda[1] >= meta:\n",
    "        acima_meta.append(venda)\n",
    "\n",
    "print(acima_meta)\n",
    "print(len(vendas))\n",
    "print(len(acima_meta))\n",
    "print(\"{:.2%} dos vendedores bateram a meta\".format(len(acima_meta)/len(vendas)))"
   ]
  },
  {
   "cell_type": "code",
   "execution_count": 20,
   "metadata": {},
   "outputs": [
    {
     "name": "stdout",
     "output_type": "stream",
     "text": [
      "33.33% dos vendedores bateram a meta\n"
     ]
    }
   ],
   "source": [
    "#calcular direto na lista\n",
    "qtd_vendedores_acima = 0\n",
    "\n",
    "for venda in vendas:\n",
    "    if venda[1] >= meta:\n",
    "        qtd_vendedores_acima += 1\n",
    "\n",
    "print(\"{:.2%} dos vendedores bateram a meta\".format(qtd_vendedores_acima/len(vendas)))"
   ]
  },
  {
   "cell_type": "code",
   "execution_count": 23,
   "metadata": {},
   "outputs": [
    {
     "name": "stdout",
     "output_type": "stream",
     "text": [
      "O melhor vendedor foi Alon com 75870 vendas\n"
     ]
    }
   ],
   "source": [
    "#maior vendas\n",
    "melhor_vendedor = \"\"\n",
    "maior_vendas = 0\n",
    "\n",
    "for venda in vendas:\n",
    "    if venda[1] > maior_vendas:\n",
    "        maior_vendas = venda[1]\n",
    "        melhor_vendedor = venda[0]\n",
    "    else:\n",
    "        pass\n",
    "print(\"O melhor vendedor foi {} com {} vendas\".format(melhor_vendedor, maior_vendas))"
   ]
  },
  {
   "cell_type": "markdown",
   "metadata": {},
   "source": [
    "### Interromper o for"
   ]
  },
  {
   "cell_type": "code",
   "execution_count": 35,
   "metadata": {},
   "outputs": [],
   "source": [
    "vendas = [100, 150, 1500, 2000, 120]"
   ]
  },
  {
   "cell_type": "code",
   "execution_count": 31,
   "metadata": {},
   "outputs": [
    {
     "name": "stdout",
     "output_type": "stream",
     "text": [
      "A loja não bateu a meta\n",
      "100\n"
     ]
    }
   ],
   "source": [
    "meta = 130\n",
    "\n",
    "for venda in vendas:\n",
    "    if venda < meta:\n",
    "        print(\"A loja não bateu a meta\")\n",
    "        break\n",
    "print(venda)"
   ]
  },
  {
   "cell_type": "code",
   "execution_count": 36,
   "metadata": {},
   "outputs": [
    {
     "name": "stdout",
     "output_type": "stream",
     "text": [
      "120\n"
     ]
    }
   ],
   "source": [
    "vendedores = [\"João\", \"Julia\", \"Ana\", \"Jose\", \"Maria\"]\n",
    "meta = 130\n",
    "\n",
    "for venda in vendas:\n",
    "    if venda < meta:\n",
    "        continue\n",
    "print(venda)"
   ]
  },
  {
   "cell_type": "markdown",
   "metadata": {},
   "source": [
    "## Lista de Exercícios"
   ]
  },
  {
   "cell_type": "code",
   "execution_count": 38,
   "metadata": {},
   "outputs": [
    {
     "name": "stdout",
     "output_type": "stream",
     "text": [
      "Vendedor Fulano vendeu 1000 unidades\n",
      "Vendedor Beltrano vendeu 1500 unidades\n",
      "Vendedor Ciclano vendeu 1200 unidades\n",
      "Vendedor Lira vendeu 1300 unidades\n"
     ]
    }
   ],
   "source": [
    "# 1. Faça um Programa que leia as vendas dos vendedores, mostre a venda de cada vendedor com o seu nome e a média de vendas.\n",
    "\n",
    "vendas = [1000, 1500, 1200, 1300]\n",
    "vendedores = [\"Fulano\", \"Beltrano\", \"Ciclano\", \"Lira\"]\n",
    "\n",
    "for i, venda in enumerate(vendas):\n",
    "    print(\"Vendedor {} vendeu {} unidades\".format(vendedores[i],vendas[i]))"
   ]
  },
  {
   "cell_type": "code",
   "execution_count": null,
   "metadata": {},
   "outputs": [],
   "source": [
    "# 2. Faça um Programa que crie uma lista com as médias de cada aluno, imprima as médias de cada aluno e a quantidade de alunos com média maior que 7.\n",
    "\n",
    "alunos = [\"José\", \"Joana\", \"Maria\", \"Carla\", \"Mauricio\", \"Andre\", \"Tiago\", \"Enzo\", \"Amanda\", \"Alessandra\"]\n",
    "notas = [\n",
    "    [10, 9, 8, 8],\n",
    "    [9, 7, 6, 4],\n",
    "    [10, 10, 10, 10],\n",
    "    [5, 3, 10, 9],\n",
    "    [7, 6, 6, 6],\n",
    "    [7, 7, 8, 7],\n",
    "    [7, 7, 7, 9],\n",
    "    [8, 5, 6, 7],\n",
    "    [10, 9, 7, 4],\n",
    "    [10, 1, 3, 3],\n",
    "]\n"
   ]
  },
  {
   "cell_type": "code",
   "execution_count": null,
   "metadata": {},
   "outputs": [],
   "source": [
    "# 3. Foram anotadas as idades e salários de 30 funcionários. Faça um programa que determine quantos funcionários com mais de 25 anos possuem salário inferior à média de todos os salários.\n",
    "\n",
    "idades = [35,32,50,33,48,50,33,48,22,49,35,38,20,47,49,48,34,21,48,44,48,30,25,42,42,23,25,23,38,35]\n",
    "salarios = [3739,2219,3554,3978,4014,3270,4792,3879,2981,2384,4826,2460,3680,4318,1872,1770,4640,3929,3295,1729,3965,4267,4007,1916,2987,2943,3852,4543,2055,1730]"
   ]
  },
  {
   "cell_type": "code",
   "execution_count": null,
   "metadata": {},
   "outputs": [],
   "source": [
    "# 4.Em quais meses a média de temperatura foi maior do que a média nacional?\n",
    "\n",
    "meses = [\n",
    "    'Janeiro',\n",
    "    'Fevereiro',\n",
    "    'Março',\n",
    "    'Abril',\n",
    "    'Maio',\n",
    "    'Junho',\n",
    "    'Julho',\n",
    "    'Agosto',\n",
    "    'Setembro',\n",
    "    'Outubro',\n",
    "    'Novembro',\n",
    "    'Dezembro'\n",
    "]\n",
    "\n",
    "temperaturas = [30, 29, 28, 28, 25, 26, 20, 21, 19, 25, 27, 32]"
   ]
  },
  {
   "cell_type": "markdown",
   "metadata": {},
   "source": [
    "#### 5. As Organizações Tabajara resolveram dar um abono aos seus colaboradores em reconhecimento ao bom resultado alcançado durante o ano que passou. Para isto contratou você para desenvolver a aplicação que servirá como uma projeção de quanto será gasto com o pagamento deste abono.\n",
    "<pre>Após reuniões envolvendo a diretoria executiva, a diretoria financeira e os representantes do sindicato laboral, chegou-se a seguinte forma de cálculo:\n",
    ". Cada funcionário receberá o equivalente a 20% do seu salário bruto de dezembro;\n",
    ". O piso do abono será de 100 reais, isto é, aqueles funcionários cujo salário for muito baixo, recebem este valor mínimo; \n",
    "\n",
    "Neste momento, não se deve ter nenhuma preocupação com colaboradores com tempo menor de casa, descontos, impostos ou outras particularidades. O programa deverá calcular o valor do abono concedido a cada colaborador, de acordo com a regra definida acima. Ao final, o programa deverá apresentar:</pre>\n",
    "<pre>\n",
    "O salário de cada funcionário, juntamente com o valor do abono;\n",
    "O número total de funcionário processados;\n",
    "O valor total a ser gasto com o pagamento do abono;\n",
    "O número de funcionário que receberá o valor mínimo de 100 reais;\n",
    "O maior valor pago como abono; A tela abaixo é um exemplo de execução do programa, apenas para fins ilustrativos.\n",
    "<pre>\n",
    "Projeção de Gastos com Abono\n",
    "============================ \n",
    " \n",
    "Salário: 1000\n",
    "Salário: 300\n",
    "Salário: 500\n",
    "Salário: 100\n",
    "Salário: 4500\n",
    "Salário: 0\n",
    " \n",
    "Salário    - Abono     \n",
    "R$ 1000.00 - R$  200.00\n",
    "R$  300.00 - R$  100.00\n",
    "R$  500.00 - R$  100.00\n",
    "R$  100.00 - R$  100.00\n",
    "R$ 4500.00 - R$  900.00\n",
    " \n",
    "Foram processados 5 colaboradores\n",
    "Total gasto com abonos: R$ 1400.00\n",
    "Valor mínimo pago a 3 colaboradores\n",
    "Maior valor de abono pago: R$ 900.00"
   ]
  },
  {
   "cell_type": "code",
   "execution_count": null,
   "metadata": {},
   "outputs": [],
   "source": [
    "lista_salarios = [1000, 300, 500, 200, 1500, 3000, 3400, 5000, 7000, 2000, 600, 800, 250, 1500, 20000]\n",
    "abonos = []"
   ]
  },
  {
   "cell_type": "markdown",
   "metadata": {},
   "source": [
    "#### 6. Faça um programa que carregue uma lista com os modelos de cinco carros (exemplo de modelos: FUSCA, GOL, VECTRA etc). Carregue uma outra lista com o consumo desses carros, isto é, quantos quilômetros cada um desses carros faz com um litro de combustível. Calcule e mostre:\n",
    "<pre>\n",
    "a. O modelo do carro mais econômico;\n",
    "b. Quantos litros de combustível cada um dos carros cadastrados consome para percorrer uma distância de 1000 quilômetros e quanto isto custará, considerando um que a gasolina custe R$ 2,25 o litro. Abaixo segue uma tela de exemplo. O disposição das informações deve ser o mais próxima possível ao exemplo. Os dados são fictícios e podem mudar a cada execução do programa.</pre>\n",
    "```\n",
    "Comparativo de Consumo de Combustível\n",
    "\n",
    "Veículo 1\n",
    "Nome: fusca\n",
    "Km por litro: 7\n",
    "Veículo 2\n",
    "Nome: gol\n",
    "Km por litro: 10\n",
    "Veículo 3\n",
    "Nome: uno\n",
    "Km por litro: 12.5\n",
    "Veículo 4\n",
    "Nome: Vectra\n",
    "Km por litro: 9\n",
    "Veículo 5\n",
    "Nome: Peugeout\n",
    "Km por litro: 14.5\n",
    "\n",
    "Relatório Final\n",
    " 1 - fusca           -    7.0 -  142.9 litros - R$ 321.43\n",
    " 2 - gol             -   10.0 -  100.0 litros - R$ 225.00\n",
    " 3 - uno             -   12.5 -   80.0 litros - R$ 180.00\n",
    " 4 - vectra          -    9.0 -  111.1 litros - R$ 250.00\n",
    " 5 - peugeout        -   14.5 -   69.0 litros - R$ 155.17\n",
    "O menor consumo é do peugeout.\n",
    "```"
   ]
  },
  {
   "cell_type": "code",
   "execution_count": null,
   "metadata": {},
   "outputs": [],
   "source": [
    "print('Comparativo de Consumo de Combustível')\n",
    "veiculos = ['fusca',' gol', 'uno', 'vectra', 'peugeot']\n",
    "autonomias = [7, 10, 12.5, 9, 14.5]\n",
    "    \n",
    "print('Relatório Final')"
   ]
  },
  {
   "cell_type": "markdown",
   "metadata": {},
   "source": [
    "#### 7. Uma empresa paga seus vendedores com base em comissões. O vendedor recebe \\\\$200 por semana mais 9 por cento de suas vendas brutas daquela semana. Por exemplo, um vendedor que teve vendas brutas de \\\\$3000 em uma semana recebe \\\\$200 mais 9 por cento de \\\\$3000, ou seja, um total de \\\\$470. Escreva um programa (usando um array de contadores) que determine quantos vendedores receberam salários nos seguintes intervalos de valores:\n",
    "<pre>\n",
    "$200 - $299\n",
    "$300 - $399\n",
    "$400 - $499\n",
    "$500 - $599\n",
    "$600 - $699\n",
    "$700 - $799\n",
    "$800 - $899\n",
    "$900 - $999\n",
    "$1000 em diante\n",
    "</pre>\n",
    "\n",
    "Existem várias formas de fazer. Faça primeiro da forma que parecer mais intuitiva para você.\n",
    "\n",
    "Em seguida, caso queira um desafio:\n",
    "Desafio: Crie uma forma para chegar na posição da lista a partir do salário, sem fazer vários ifs aninhados."
   ]
  },
  {
   "cell_type": "code",
   "execution_count": null,
   "metadata": {},
   "outputs": [],
   "source": [
    "vendas = [1000, 2000, 3000, 4000, 5000, 6000, 5500, 4500, 3600]\n"
   ]
  }
 ],
 "metadata": {
  "kernelspec": {
   "display_name": "base",
   "language": "python",
   "name": "python3"
  },
  "language_info": {
   "codemirror_mode": {
    "name": "ipython",
    "version": 3
   },
   "file_extension": ".py",
   "mimetype": "text/x-python",
   "name": "python",
   "nbconvert_exporter": "python",
   "pygments_lexer": "ipython3",
   "version": "3.11.5"
  }
 },
 "nbformat": 4,
 "nbformat_minor": 2
}
