{
 "cells": [
  {
   "cell_type": "markdown",
   "metadata": {},
   "source": [
    "# Tuplas"
   ]
  },
  {
   "cell_type": "code",
   "execution_count": 7,
   "metadata": {},
   "outputs": [
    {
     "name": "stdout",
     "output_type": "stream",
     "text": [
      "('Lira', '25/08/2002', 2000)\n",
      "Lira\n",
      "O Lira na data 25/08/2002, vendeu 2000 uniades.\n"
     ]
    }
   ],
   "source": [
    "vendas = (\"Lira\", \"25/08/2002\", 2000)\n",
    "print(vendas)\n",
    "\n",
    "nome = vendas[0]\n",
    "Data = vendas[1]\n",
    "Quantidade = vendas[2]\n",
    "\n",
    "print(nome)\n",
    "\n",
    "print(\"O {} na data {}, vendeu {} uniades.\".format(nome,Data,Quantidade))"
   ]
  },
  {
   "cell_type": "code",
   "execution_count": 9,
   "metadata": {},
   "outputs": [
    {
     "name": "stdout",
     "output_type": "stream",
     "text": [
      "Lira Hashtag\n",
      "Estágio\n"
     ]
    }
   ],
   "source": [
    "vendas2 = ('Lira Hashtag', '01/01/1999', 200, 'Estágio')\n",
    "\n",
    "nome, nascimento, qtd, cargo = vendas2\n",
    "\n",
    "print(nome)\n",
    "print(cargo)"
   ]
  }
 ],
 "metadata": {
  "kernelspec": {
   "display_name": "base",
   "language": "python",
   "name": "python3"
  },
  "language_info": {
   "codemirror_mode": {
    "name": "ipython",
    "version": 3
   },
   "file_extension": ".py",
   "mimetype": "text/x-python",
   "name": "python",
   "nbconvert_exporter": "python",
   "pygments_lexer": "ipython3",
   "version": "3.11.5"
  }
 },
 "nbformat": 4,
 "nbformat_minor": 2
}
