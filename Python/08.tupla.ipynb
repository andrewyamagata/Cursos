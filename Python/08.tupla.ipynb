{
 "cells": [
  {
   "cell_type": "markdown",
   "metadata": {},
   "source": [
    "# Tuplas"
   ]
  },
  {
   "cell_type": "code",
   "execution_count": 7,
   "metadata": {},
   "outputs": [
    {
     "name": "stdout",
     "output_type": "stream",
     "text": [
      "('Lira', '25/08/2002', 2000)\n",
      "Lira\n",
      "O Lira na data 25/08/2002, vendeu 2000 uniades.\n"
     ]
    }
   ],
   "source": [
    "vendas = (\"Lira\", \"25/08/2002\", 2000)\n",
    "print(vendas)\n",
    "\n",
    "nome = vendas[0]\n",
    "Data = vendas[1]\n",
    "Quantidade = vendas[2]\n",
    "\n",
    "print(nome)\n",
    "\n",
    "print(\"O {} na data {}, vendeu {} uniades.\".format(nome,Data,Quantidade))"
   ]
  },
  {
   "cell_type": "code",
   "execution_count": 9,
   "metadata": {},
   "outputs": [
    {
     "name": "stdout",
     "output_type": "stream",
     "text": [
      "Lira Hashtag\n",
      "Estágio\n"
     ]
    }
   ],
   "source": [
    "vendas2 = ('Lira Hashtag', '01/01/1999', 200, 'Estágio')\n",
    "\n",
    "nome, nascimento, qtd, cargo = vendas2\n",
    "\n",
    "print(nome)\n",
    "print(cargo)"
   ]
  },
  {
   "cell_type": "code",
   "execution_count": 2,
   "metadata": {},
   "outputs": [],
   "source": [
    "vendas = [\n",
    "    ('20/08/2020', 'iphone x', 'azul', '128gb', 350, 4000),\n",
    "    ('20/08/2020', 'iphone x', 'prata', '128gb', 1500, 4000),\n",
    "    ('20/08/2020', 'ipad', 'prata', '256gb', 127, 6000),\n",
    "    ('20/08/2020', 'ipad', 'prata', '128gb', 981, 5000),\n",
    "    ('21/08/2020', 'iphone x', 'azul', '128gb', 397, 4000),\n",
    "    ('21/08/2020', 'iphone x', 'prata', '128gb', 1017, 4000),\n",
    "    ('21/08/2020', 'ipad', 'prata', '256gb', 50, 6000),\n",
    "    ('21/08/2020', 'ipad', 'prata', '128gb', 4000, 5000),\n",
    "]"
   ]
  },
  {
   "cell_type": "code",
   "execution_count": null,
   "metadata": {},
   "outputs": [
    {
     "name": "stdout",
     "output_type": "stream",
     "text": [
      "O faturamento de Iphone em 20/08/20202 foi de R$ 7400000.00\n",
      "('20/08/2020', 'iphone x', 'azul', '128gb', 350, 4000)\n",
      "('20/08/2020', 'iphone x', 'prata', '128gb', 1500, 4000)\n",
      "('20/08/2020', 'ipad', 'prata', '256gb', 127, 6000)\n",
      "('20/08/2020', 'ipad', 'prata', '128gb', 981, 5000)\n",
      "('21/08/2020', 'iphone x', 'azul', '128gb', 397, 4000)\n",
      "('21/08/2020', 'iphone x', 'prata', '128gb', 1017, 4000)\n",
      "('21/08/2020', 'ipad', 'prata', '256gb', 50, 6000)\n",
      "('21/08/2020', 'ipad', 'prata', '128gb', 4000, 5000)\n"
     ]
    }
   ],
   "source": [
    "faturamento = 0\n",
    "for item in vendas:\n",
    "    data, produto, cor, capacidade, unidades, valor_unitario = item\n",
    "    if \"iphone\" in produto and data == '20/08/2020':\n",
    "        faturamento += unidades * valor_unitario\n",
    "\n",
    "print(\"O faturamento de Iphone em 20/08/20202 foi de R$ {:.2f}\".format(faturamento))\n",
    "\n",
    "produto_mais_vendido = ''\n",
    "qtd_mais_vendido = 0\n",
    "\n",
    "for item in vendas:\n",
    "    data, produto, cor, capacidade, unidades, valor_unitario = item\n",
    "    if data == '21/08/2020':\n",
    "        if "
   ]
  }
 ],
 "metadata": {
  "kernelspec": {
   "display_name": "base",
   "language": "python",
   "name": "python3"
  },
  "language_info": {
   "codemirror_mode": {
    "name": "ipython",
    "version": 3
   },
   "file_extension": ".py",
   "mimetype": "text/x-python",
   "name": "python",
   "nbconvert_exporter": "python",
   "pygments_lexer": "ipython3",
   "version": "3.11.5"
  }
 },
 "nbformat": 4,
 "nbformat_minor": 2
}
