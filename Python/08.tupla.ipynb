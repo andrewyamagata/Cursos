{
 "cells": [
  {
   "cell_type": "markdown",
   "metadata": {},
   "source": [
    "# Tuplas"
   ]
  },
  {
   "cell_type": "code",
   "execution_count": 7,
   "metadata": {},
   "outputs": [
    {
     "name": "stdout",
     "output_type": "stream",
     "text": [
      "('Lira', '25/08/2002', 2000)\n",
      "Lira\n",
      "O Lira na data 25/08/2002, vendeu 2000 uniades.\n"
     ]
    }
   ],
   "source": [
    "vendas = (\"Lira\", \"25/08/2002\", 2000)\n",
    "print(vendas)\n",
    "\n",
    "nome = vendas[0]\n",
    "Data = vendas[1]\n",
    "Quantidade = vendas[2]\n",
    "\n",
    "print(nome)\n",
    "\n",
    "print(\"O {} na data {}, vendeu {} uniades.\".format(nome,Data,Quantidade))"
   ]
  },
  {
   "cell_type": "code",
   "execution_count": 9,
   "metadata": {},
   "outputs": [
    {
     "name": "stdout",
     "output_type": "stream",
     "text": [
      "Lira Hashtag\n",
      "Estágio\n"
     ]
    }
   ],
   "source": [
    "vendas2 = ('Lira Hashtag', '01/01/1999', 200, 'Estágio')\n",
    "\n",
    "nome, nascimento, qtd, cargo = vendas2\n",
    "\n",
    "print(nome)\n",
    "print(cargo)"
   ]
  },
  {
   "cell_type": "code",
   "execution_count": 3,
   "metadata": {},
   "outputs": [],
   "source": [
    "vendas = [\n",
    "    ('20/08/2020', 'iphone x', 'azul', '128gb', 350, 4000),\n",
    "    ('20/08/2020', 'iphone x', 'prata', '128gb', 1500, 4000),\n",
    "    ('20/08/2020', 'ipad', 'prata', '256gb', 127, 6000),\n",
    "    ('20/08/2020', 'ipad', 'prata', '128gb', 981, 5000),\n",
    "    ('21/08/2020', 'iphone x', 'azul', '128gb', 397, 4000),\n",
    "    ('21/08/2020', 'iphone x', 'prata', '128gb', 1017, 4000),\n",
    "    ('21/08/2020', 'ipad', 'prata', '256gb', 50, 6000),\n",
    "    ('21/08/2020', 'ipad', 'prata', '128gb', 4000, 5000),\n",
    "]"
   ]
  },
  {
   "cell_type": "code",
   "execution_count": 4,
   "metadata": {},
   "outputs": [
    {
     "name": "stdout",
     "output_type": "stream",
     "text": [
      "O faturamento de Iphone em 20/08/20202 foi de R$ 7400000.00\n"
     ]
    }
   ],
   "source": [
    "faturamento = 0\n",
    "for item in vendas:\n",
    "    data, produto, cor, capacidade, unidades, valor_unitario = item\n",
    "    if \"iphone\" in produto and data == '20/08/2020':\n",
    "        faturamento += unidades * valor_unitario\n",
    "\n",
    "print(\"O faturamento de Iphone em 20/08/20202 foi de R$ {:.2f}\".format(faturamento))\n",
    "\n"
   ]
  },
  {
   "cell_type": "code",
   "execution_count": 7,
   "metadata": {},
   "outputs": [
    {
     "name": "stdout",
     "output_type": "stream",
     "text": [
      "Produto mais vendido foi ipad com 4000 unidades\n"
     ]
    }
   ],
   "source": [
    "produto_mais_vendido = ''\n",
    "qtd_mais_vendido = 0\n",
    "\n",
    "for item in vendas:\n",
    "    data, produto, cor, capacidade, unidades, valor_unitario = item\n",
    "    if data == '21/08/2020':\n",
    "        if qtd_mais_vendido < unidades:\n",
    "            produto_mais_vendido = produto\n",
    "            qtd_mais_vendido = unidades\n",
    "print(\"Produto mais vendido foi {} com {} unidades\".format(produto_mais_vendido,qtd_mais_vendido))"
   ]
  },
  {
   "cell_type": "markdown",
   "metadata": {},
   "source": [
    "# Exercícios\n",
    "\n",
    "São exercícios bem parecidos com os que fizemos com listas. Mas na tupla, podemos não só trabalhar com índices, mas fazer o \"unpacking\" das tuplas, o que pode facilitar nossos códigos.\n",
    "\n",
    "## 1. Análise de Vendas\n",
    "\n",
    "Nesse exercício vamos fazer uma \"análise simples\" de atingimento de Meta.\n",
    "\n",
    "Temos uma lista com os vendedores e os valores de vendas e queremos identificar (printar) quais os vendedores que bateram a meta e qual foi o valor que eles venderam."
   ]
  },
  {
   "cell_type": "code",
   "execution_count": 10,
   "metadata": {},
   "outputs": [
    {
     "name": "stdout",
     "output_type": "stream",
     "text": [
      "João bateu a meta com 15000 unidades vendidas\n",
      "Julia bateu a meta com 27000 unidades vendidas\n",
      "Ana bateu a meta com 10300 unidades vendidas\n"
     ]
    }
   ],
   "source": [
    "meta = 10000\n",
    "vendas = [\n",
    "    ('João', 15000),\n",
    "    ('Julia', 27000),\n",
    "    ('Marcus', 9900),\n",
    "    ('Maria', 3750),\n",
    "    ('Ana', 10300),\n",
    "    ('Alon', 7870),\n",
    "]\n",
    "\n",
    "for vendedor, qtde in vendas:\n",
    "    if qtde > meta:\n",
    "        print(\"{} bateu a meta com {} unidades vendidas\".format(vendedor,qtde))"
   ]
  },
  {
   "cell_type": "markdown",
   "metadata": {},
   "source": [
    "## 2. Comparação com Ano Anterior\n",
    "\n",
    "Digamos que você está analisando as vendas de produtos de um ecommerce e quer identificar quais produtos tiveram no ano de 2020 mais vendas do que no ano de 2019, para reportar isso para a diretoria.\n",
    "\n",
    "Sua resposta pode ser um print de cada produto, qual foi a venda de 2019, a venda de 2020 e o % de crescimento de 2020 para 2019.\n",
    "\n",
    "Lembrando, para calcular o % de crescimento de um produto de um ano para o outro, podemos fazer: (vendas_produto2020/vendas_produto2019 - 1)\n",
    "\n",
    "A lógica da tupla é: (produto, vendas2019, vendas2020)"
   ]
  },
  {
   "cell_type": "code",
   "execution_count": 14,
   "metadata": {},
   "outputs": [
    {
     "name": "stdout",
     "output_type": "stream",
     "text": [
      "O item iphone teve 558147 vendas em 2019 e 951642 vendas em 2020, com crescimento de 70.50%\n",
      "O item tv teve 405252 vendas em 2019 e 787604 vendas em 2020, com crescimento de 94.35%\n",
      "O item máquina de café teve 718654 vendas em 2019 e 867660 vendas em 2020, com crescimento de 20.73%\n",
      "O item notebook dell teve 422760 vendas em 2019 e 694913 vendas em 2020, com crescimento de 64.38%\n",
      "O item notebook hp teve 154753 vendas em 2019 e 539704 vendas em 2020, com crescimento de 248.75%\n",
      "O item microsoft surface teve 438508 vendas em 2019 e 667179 vendas em 2020, com crescimento de 52.15%\n",
      "O item webcam teve 237467 vendas em 2019 e 295633 vendas em 2020, com crescimento de 24.49%\n",
      "O item caixa de som teve 489705 vendas em 2019 e 725316 vendas em 2020, com crescimento de 48.11%\n",
      "O item microfone teve 328311 vendas em 2019 e 644622 vendas em 2020, com crescimento de 96.34%\n",
      "O item câmera canon teve 591120 vendas em 2019 e 994303 vendas em 2020, com crescimento de 68.21%\n"
     ]
    }
   ],
   "source": [
    "vendas_produtos = [('iphone', 558147, 951642), ('galaxy', 712350, 244295), ('ipad', 573823, 26964), ('tv', 405252, 787604), ('máquina de café', 718654, 867660), ('kindle', 531580, 78830), ('geladeira', 973139, 710331), ('adega', 892292, 646016), ('notebook dell', 422760, 694913), ('notebook hp', 154753, 539704), ('notebook asus', 887061, 324831), ('microsoft surface', 438508, 667179), ('webcam', 237467, 295633), ('caixa de som', 489705, 725316), ('microfone', 328311, 644622), ('câmera canon', 591120, 994303)]\n",
    "\n",
    "for produto, venda_2019, venda_2020 in vendas_produtos:\n",
    "    if venda_2020 > venda_2019:\n",
    "        print(\"O item {} teve {} vendas em 2019 e {} vendas em 2020, com crescimento de {:.2%}\".format(produto,venda_2019,venda_2020,(venda_2020/venda_2019-1)))"
   ]
  }
 ],
 "metadata": {
  "kernelspec": {
   "display_name": "base",
   "language": "python",
   "name": "python3"
  },
  "language_info": {
   "codemirror_mode": {
    "name": "ipython",
    "version": 3
   },
   "file_extension": ".py",
   "mimetype": "text/x-python",
   "name": "python",
   "nbconvert_exporter": "python",
   "pygments_lexer": "ipython3",
   "version": "3.11.5"
  }
 },
 "nbformat": 4,
 "nbformat_minor": 2
}
