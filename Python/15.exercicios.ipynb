{
 "cells": [
  {
   "cell_type": "markdown",
   "metadata": {},
   "source": [
    "### Aprofundando mais em Python"
   ]
  },
  {
   "cell_type": "markdown",
   "metadata": {},
   "source": [
    "### 1- Imposto a pagar no Lucro Presumido\n",
    "\n",
    "- 5% sobre faturamento de ISS (mensal)\n",
    "- 0,65% de PIS sobre faturamento, (mensal)\n",
    "- 3% de COFINS sobre faturmaneto, (mensal)\n",
    "- 4.8% de IR (trimestral)\n",
    "- 10% de IR Adicional sobre o que ultrapassar 20mil do faturamento (trimestral)\n",
    "- CSLL: 2,88% sobre faturamento (trimestral)"
   ]
  },
  {
   "cell_type": "code",
   "execution_count": 10,
   "metadata": {},
   "outputs": [
    {
     "name": "stdout",
     "output_type": "stream",
     "text": [
      "95141.98 8229.78127 14821.102063999999\n",
      "95425.16 8254.27634 14871.168288\n",
      "89716.31 7760.460814999999 13861.843608\n",
      "78459.99 6786.789135000001 11871.726232\n",
      "71087.28 6149.04972 10568.231104\n",
      "83911.06 7258.306689999999 12835.475408\n",
      "56467.26 4884.41799 7983.411568\n",
      "88513.58 7656.42467 13649.200944\n",
      "66552.49 5756.790385 9766.480232000002\n",
      "80164.07 6934.192055000001 12173.007576000002\n",
      "66964.33 5792.4145450000005 9839.293544\n",
      "71525.25 6186.934125 10645.6642\n",
      "{'jan': (95141.98, 8229.78127, 14821.102063999999), 'fev': (95425.16, 8254.27634, 14871.168288), 'mar': (89716.31, 7760.460814999999, 13861.843608), 'abr': (78459.99, 6786.789135000001, 11871.726232), 'mai': (71087.28, 6149.04972, 10568.231104), 'jun': (83911.06, 7258.306689999999, 12835.475408), 'jul': (56467.26, 4884.41799, 7983.411568), 'ago': (88513.58, 7656.42467, 13649.200944), 'set': (66552.49, 5756.790385, 9766.480232000002), 'out': (80164.07, 6934.192055000001, 12173.007576000002), 'nov': (66964.33, 5792.4145450000005, 9839.293544), 'dez': (71525.25, 6186.934125, 10645.6642)}\n"
     ]
    }
   ],
   "source": [
    "faturamento = {\n",
    "    'jan': 'R$ 95.141,98',\n",
    "    'fev': 'R$ 95.425,16',\n",
    "    'mar': 'R$ 89.716,31',\n",
    "    'abr': 'R$ 78.459,99',\n",
    "    'mai': 'R$ 71.087,28',\n",
    "    'jun': 'R$ 83.911,06',\n",
    "    'jul': 'R$ 56.467,26',\n",
    "    'ago': 'R$ 88.513,58',\n",
    "    'set': 'R$ 66.552,49',\n",
    "    'out': 'R$ 80.164,07',\n",
    "    'nov': 'R$ 66.964,33',\n",
    "    'dez': 'R$ 71.525,25',\n",
    "}\n",
    "\n",
    "# você precisa inserir no sistema um dicionário no formato:\n",
    "\n",
    "# resultado = {\n",
    "#     'mes': (faturamento, imposto_mensal, imposto_trimestral),\n",
    "# }\n",
    "\n",
    "def transformar_numero(texto):\n",
    "    texto = texto.replace(\"R$\",\"\")\n",
    "    texto = texto.replace(\" \",\"\")\n",
    "    texto = texto.replace(\".\",\"\")\n",
    "    texto = texto.replace(\",\",\".\")\n",
    "    valor = float(texto)\n",
    "    return valor\n",
    "\n",
    "def calcular_imposto_mensal(valor_faturamento):\n",
    "    iss = valor_faturamento * 0.05\n",
    "    pis = valor_faturamento * 0.0065\n",
    "    cofins = valor_faturamento *0.03\n",
    "    imposto_mensal = iss + pis + cofins\n",
    "    return imposto_mensal\n",
    "\n",
    "def calcular_imposto_trimestral(valor_faturamento):\n",
    "    ir = valor_faturamento * 0.048\n",
    "    csll = valor_faturamento * 0.0288\n",
    "    adicional_ir = 0\n",
    "    if valor_faturamento > 20000:\n",
    "        adicional_ir = (valor_faturamento - 20000) * 0.1\n",
    "    imposto_trimestral = ir + csll + adicional_ir\n",
    "    return imposto_trimestral\n",
    "\n",
    "resultado = {}\n",
    "\n",
    "for mes in faturamento:\n",
    "    valor_faturamento = transformar_numero(faturamento[mes])\n",
    "    imposto_mensal = calcular_imposto_mensal(valor_faturamento)\n",
    "    imposto_trimestral = calcular_imposto_trimestral(valor_faturamento)\n",
    "    print(valor_faturamento, imposto_mensal, imposto_trimestral)\n",
    "    resultado[mes] = (valor_faturamento, imposto_mensal, imposto_trimestral)\n",
    "print(resultado)\n"
   ]
  },
  {
   "cell_type": "markdown",
   "metadata": {},
   "source": [
    "### 2 - Puxando informações de um banco de Dados"
   ]
  },
  {
   "cell_type": "code",
   "execution_count": 3,
   "metadata": {},
   "outputs": [
    {
     "ename": "NameError",
     "evalue": "name 'colunas' is not defined",
     "output_type": "error",
     "traceback": [
      "\u001b[31m---------------------------------------------------------------------------\u001b[39m",
      "\u001b[31mNameError\u001b[39m                                 Traceback (most recent call last)",
      "\u001b[36mCell\u001b[39m\u001b[36m \u001b[39m\u001b[32mIn[3]\u001b[39m\u001b[32m, line 13\u001b[39m\n\u001b[32m      8\u001b[39m \u001b[38;5;28;01mimport\u001b[39;00m\u001b[38;5;250m \u001b[39m\u001b[34;01mpandas\u001b[39;00m\u001b[38;5;250m \u001b[39m\u001b[38;5;28;01mas\u001b[39;00m\u001b[38;5;250m \u001b[39m\u001b[34;01mpd\u001b[39;00m\n\u001b[32m     11\u001b[39m \u001b[38;5;66;03m# tabela = pd.DataFrame.from_records(informacoes)\u001b[39;00m\n\u001b[32m     12\u001b[39m \u001b[38;5;66;03m# para acertar nossa tabela, vamos precisar fazer:\u001b[39;00m\n\u001b[32m---> \u001b[39m\u001b[32m13\u001b[39m tabela = pd.DataFrame.from_records(informacoes, columns=\u001b[43mcolunas\u001b[49m) \u001b[38;5;66;03m# onde colunas é uma lista com o nome das colunas\u001b[39;00m\n\u001b[32m     14\u001b[39m display(tabela)\n\u001b[32m     17\u001b[39m \u001b[38;5;66;03m# além disso, precisamos enviar por e-mail para o RH uma lista com o nome e o cargo de cada pessoa da tabela \u001b[39;00m\n\u001b[32m     18\u001b[39m \u001b[38;5;66;03m# então você precisa construir o texto do corpo desse email do tipo:\u001b[39;00m\n\u001b[32m     19\u001b[39m \n\u001b[32m   (...)\u001b[39m\u001b[32m     23\u001b[39m \u001b[38;5;66;03m# Beltrano, Cargo: isso\u001b[39;00m\n\u001b[32m     24\u001b[39m \u001b[38;5;66;03m# \"\"\"\u001b[39;00m\n",
      "\u001b[31mNameError\u001b[39m: name 'colunas' is not defined"
     ]
    }
   ],
   "source": [
    "# puxando informações SQL de um banco de dados\n",
    "informacoes = [(1, 'NATHANIEL FORD', 'GENERAL MANAGER-METROPOLITAN TRANSIT AUTHORITY', 167411.18, 0.0, 400184.25, None, 567595.43, 567595.43, 2011, '', 'San Francisco', ''), (2, 'GARY JIMENEZ', 'CAPTAIN III (POLICE DEPARTMENT)', 155966.02, 245131.88, 137811.38, None, 538909.28, 538909.28, 2011, '', 'San Francisco', ''), (3, 'ALBERT PARDINI', 'CAPTAIN III (POLICE DEPARTMENT)', 212739.13, 106088.18, 16452.6, None, 335279.91, 335279.91, 2011, '', 'San Francisco', ''), (4, 'CHRISTOPHER CHONG', 'WIRE ROPE CABLE MAINTENANCE MECHANIC', 77916.0, 56120.71, 198306.9, None, 332343.61, 332343.61, 2011, '', 'San Francisco', ''), (5, 'PATRICK GARDNER', 'DEPUTY CHIEF OF DEPARTMENT,(FIRE DEPARTMENT)', 134401.6, 9737.0, 182234.59, None, 326373.19, 326373.19, 2011, '', 'San Francisco', ''), (6, 'DAVID SULLIVAN', 'ASSISTANT DEPUTY CHIEF II', 118602.0, 8601.0, 189082.74, None, 316285.74, 316285.74, 2011, '', 'San Francisco', ''), (7, 'ALSON LEE', 'BATTALION CHIEF, (FIRE DEPARTMENT)', 92492.01, 89062.9, 134426.14, None, 315981.05, 315981.05, 2011, '', 'San Francisco', ''), (8, 'DAVID KUSHNER', 'DEPUTY DIRECTOR OF INVESTMENTS', 256576.96, 0.0, 51322.5, None, 307899.46, 307899.46, 2011, '', 'San Francisco', ''), (9, 'MICHAEL MORRIS', 'BATTALION CHIEF, (FIRE DEPARTMENT)', 176932.64, 86362.68, 40132.23, None, 303427.55, 303427.55, 2011, '', 'San Francisco', ''), (10, 'JOANNE HAYES-WHITE', 'CHIEF OF DEPARTMENT, (FIRE DEPARTMENT)', 285262.0, 0.0, 17115.73, None, 302377.73, 302377.73, 2011, '', 'San Francisco', '')]\n",
    "descricao = (('Id', \"<class 'int'>\", None, 10, 10, 0, True), ('EmployeeName', \"<class 'str'>\", None, 65536, 65536, 0, True), ('JobTitle', \"<class 'str'>\", None, 65536, 65536, 0, True), ('BasePay', \"<class 'float'>\", None, 54, 54, 0, True), ('OvertimePay', \"<class 'float'>\", None, 54, 54, 0, True), ('OtherPay', \"<class 'float'>\", None, 54, 54, 0, True), ('Benefits', \"<class 'float'>\", None, 54, 54, 0, True), ('TotalPay', \"<class 'float'>\", None, 54, 54, 0, True), ('TotalPayBenefits', \"<class 'float'>\", None, 54, 54, 0, True), ('Year', \"<class 'int'>\", None, 10, 10, 0, True), ('Notes', \"<class 'str'>\", None, 65536, 65536, 0, True), ('Agency', \"<class 'str'>\", None, 65536, 65536, 0, True), ('Status', \"<class 'str'>\", None, 65536, 65536, 0, True))\n",
    "\n",
    "# precisamos 1º de uma lista com o nome das colunas para poder organizar as colunas da nossa tabela:\n",
    "# o nome das colunas está na variável descrição, dê uma olhada.\n",
    "\n",
    "import pandas as pd\n",
    "\n",
    "\n",
    "# tabela = pd.DataFrame.from_records(informacoes)\n",
    "# para acertar nossa tabela, vamos precisar fazer:\n",
    "tabela = pd.DataFrame.from_records(informacoes, columns=colunas) # onde colunas é uma lista com o nome das colunas\n",
    "display(tabela)\n",
    "\n",
    "\n",
    "# além disso, precisamos enviar por e-mail para o RH uma lista com o nome e o cargo de cada pessoa da tabela \n",
    "# então você precisa construir o texto do corpo desse email do tipo:\n",
    "\n",
    "# texto = \"\"\"\n",
    "# RH, segue a lista dos funcionários:\n",
    "# Fulano, Cargo: tal\n",
    "# Beltrano, Cargo: isso\n",
    "# \"\"\""
   ]
  },
  {
   "cell_type": "markdown",
   "metadata": {},
   "source": [
    "### 3 - Extração dos links de Download de Vídeos do Vimeo\n",
    "\n",
    "- Precisamos pegar os links em 1080p, 720p e 540p para importar os vídeos para uma nova plataforma"
   ]
  },
  {
   "cell_type": "code",
   "execution_count": 4,
   "metadata": {},
   "outputs": [
    {
     "ename": "ModuleNotFoundError",
     "evalue": "No module named 'dic'",
     "output_type": "error",
     "traceback": [
      "\u001b[31m---------------------------------------------------------------------------\u001b[39m",
      "\u001b[31mModuleNotFoundError\u001b[39m                       Traceback (most recent call last)",
      "\u001b[36mCell\u001b[39m\u001b[36m \u001b[39m\u001b[32mIn[4]\u001b[39m\u001b[32m, line 2\u001b[39m\n\u001b[32m      1\u001b[39m \u001b[38;5;66;03m# para pegar o dicionario do vimeo, use:\u001b[39;00m\n\u001b[32m----> \u001b[39m\u001b[32m2\u001b[39m \u001b[38;5;28;01mfrom\u001b[39;00m\u001b[38;5;250m \u001b[39m\u001b[34;01mdic\u001b[39;00m\u001b[38;5;250m \u001b[39m\u001b[38;5;28;01mimport\u001b[39;00m dicionario_vimeo\n\u001b[32m      4\u001b[39m \u001b[38;5;66;03m# você precisa chegar em:\u001b[39;00m\n\u001b[32m      5\u001b[39m \u001b[38;5;66;03m# videos = [\u001b[39;00m\n\u001b[32m      6\u001b[39m \u001b[38;5;66;03m#     {'uri': video_uri, 'nome': nome_video, 'duracao': duracao, 'link540p': link540p, 'link720p': link720p, 'link1080p': link1080p},\u001b[39;00m\n\u001b[32m      7\u001b[39m \u001b[38;5;66;03m# ]\u001b[39;00m\n",
      "\u001b[31mModuleNotFoundError\u001b[39m: No module named 'dic'"
     ]
    }
   ],
   "source": [
    "# para pegar o dicionario do vimeo, use:\n",
    "from dic import dicionario_vimeo\n",
    "\n",
    "# você precisa chegar em:\n",
    "# videos = [\n",
    "#     {'uri': video_uri, 'nome': nome_video, 'duracao': duracao, 'link540p': link540p, 'link720p': link720p, 'link1080p': link1080p},\n",
    "# ]"
   ]
  }
 ],
 "metadata": {
  "kernelspec": {
   "display_name": "Python 3",
   "language": "python",
   "name": "python3"
  },
  "language_info": {
   "codemirror_mode": {
    "name": "ipython",
    "version": 3
   },
   "file_extension": ".py",
   "mimetype": "text/x-python",
   "name": "python",
   "nbconvert_exporter": "python",
   "pygments_lexer": "ipython3",
   "version": "3.11.9"
  }
 },
 "nbformat": 4,
 "nbformat_minor": 2
}
