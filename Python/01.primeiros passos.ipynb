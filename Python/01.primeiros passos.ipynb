{
 "cells": [
  {
   "cell_type": "code",
   "execution_count": 6,
   "metadata": {},
   "outputs": [
    {
     "name": "stdout",
     "output_type": "stream",
     "text": [
      "Olá, Mundo!\n"
     ]
    }
   ],
   "source": [
    "print(\"Olá, Mundo!\")"
   ]
  },
  {
   "cell_type": "markdown",
   "metadata": {},
   "source": [
    "### Operações Básicas"
   ]
  },
  {
   "cell_type": "code",
   "execution_count": 7,
   "metadata": {},
   "outputs": [
    {
     "name": "stdout",
     "output_type": "stream",
     "text": [
      "3\n"
     ]
    }
   ],
   "source": [
    "print(1 +2)\n",
    "# Adição"
   ]
  },
  {
   "cell_type": "code",
   "execution_count": 8,
   "metadata": {},
   "outputs": [
    {
     "name": "stdout",
     "output_type": "stream",
     "text": [
      "-1\n"
     ]
    }
   ],
   "source": [
    "print(1 -2)\n",
    "# Subtração"
   ]
  },
  {
   "cell_type": "code",
   "execution_count": 9,
   "metadata": {},
   "outputs": [
    {
     "name": "stdout",
     "output_type": "stream",
     "text": [
      "0.6666666666666666\n"
     ]
    }
   ],
   "source": [
    "print(2/3)\n",
    "# Divisão"
   ]
  },
  {
   "cell_type": "code",
   "execution_count": 10,
   "metadata": {},
   "outputs": [
    {
     "name": "stdout",
     "output_type": "stream",
     "text": [
      "6\n"
     ]
    }
   ],
   "source": [
    "print(2*3)\n",
    "# Multiplicação"
   ]
  },
  {
   "cell_type": "code",
   "execution_count": 13,
   "metadata": {},
   "outputs": [
    {
     "name": "stdout",
     "output_type": "stream",
     "text": [
      "8\n"
     ]
    }
   ],
   "source": [
    "print(2**3)\n",
    "# Potência"
   ]
  },
  {
   "cell_type": "code",
   "execution_count": 15,
   "metadata": {},
   "outputs": [
    {
     "name": "stdout",
     "output_type": "stream",
     "text": [
      "1\n"
     ]
    }
   ],
   "source": [
    "print(7%3)\n",
    "# Resto da divisão"
   ]
  },
  {
   "cell_type": "markdown",
   "metadata": {},
   "source": [
    "### Operações com Texto (string)"
   ]
  },
  {
   "cell_type": "code",
   "execution_count": 16,
   "metadata": {},
   "outputs": [
    {
     "name": "stdout",
     "output_type": "stream",
     "text": [
      "Meu nome é Lira\n"
     ]
    }
   ],
   "source": [
    "print('Meu nome é' + ' Lira')"
   ]
  },
  {
   "cell_type": "code",
   "execution_count": 19,
   "metadata": {},
   "outputs": [
    {
     "name": "stdout",
     "output_type": "stream",
     "text": [
      "False\n",
      "True\n",
      "False\n"
     ]
    }
   ],
   "source": [
    "print(\"Meu nome é\" in \"Lira\")\n",
    "print(\"L\" in \"Lira\")\n",
    "print('l' in \"Lira\") #Case sensitve"
   ]
  },
  {
   "cell_type": "markdown",
   "metadata": {},
   "source": [
    "### Variáveis"
   ]
  },
  {
   "cell_type": "code",
   "execution_count": 2,
   "metadata": {},
   "outputs": [
    {
     "name": "stdout",
     "output_type": "stream",
     "text": [
      "Jõao Lira\n",
      "1800\n"
     ]
    }
   ],
   "source": [
    "qtde_vendas = 1800\n",
    "nome = \"Jõao Lira\"\n",
    "\n",
    "print(nome)\n",
    "print(qtde_vendas)"
   ]
  },
  {
   "cell_type": "markdown",
   "metadata": {},
   "source": [
    "### Input"
   ]
  },
  {
   "cell_type": "code",
   "execution_count": null,
   "metadata": {},
   "outputs": [],
   "source": [
    "nome_1 = input(\"Qual o nome? \")\n",
    "\n",
    "print(nome_1)"
   ]
  },
  {
   "cell_type": "markdown",
   "metadata": {},
   "source": [
    "### Exercício"
   ]
  },
  {
   "cell_type": "code",
   "execution_count": 1,
   "metadata": {},
   "outputs": [
    {
     "name": "stdout",
     "output_type": "stream",
     "text": [
      "150\n",
      "130\n",
      "1.5\n",
      "1.5\n",
      "2500\n"
     ]
    }
   ],
   "source": [
    "#Crie um programa que imprima (print) os principais indicadores da loja Hashtag&Drink no último ano.\n",
    "#Obs: faça tudo usando variáveis.\n",
    "\n",
    "#Valores do último ano:\n",
    "\n",
    "#Quantidade de Vendas de Coca = 150<br>\n",
    "#Quantidade de Vendas de Pepsi = 130<br>\n",
    "#Preço Unitário da Coca = 1,50 <br>\n",
    "#Preço Unitário da Pepsi = 1,50<br>\n",
    "#Custo da Loja: 2.500,00\n",
    "\n",
    "venda_coca = 150\n",
    "venda_pepsi = 130\n",
    "unitario_coca = 1.50\n",
    "unitario_pepsi = 1.50\n",
    "custo_loja = 2500\n",
    "\n",
    "print(venda_coca)\n",
    "print(venda_pepsi)\n",
    "print(unitario_coca)\n",
    "print(unitario_pepsi)\n",
    "print(custo_loja)"
   ]
  },
  {
   "cell_type": "code",
   "execution_count": 2,
   "metadata": {},
   "outputs": [
    {
     "name": "stdout",
     "output_type": "stream",
     "text": [
      "195.0\n",
      "225.0\n",
      "-2080.0\n",
      "-4.9523809523809526\n"
     ]
    }
   ],
   "source": [
    "#1. Qual foi o faturamento de Pepsi da Loja?\n",
    "faturamento_pepsi = (venda_pepsi * unitario_pepsi)\n",
    "print(faturamento_pepsi)\n",
    "#2. Qual foi o faturamento de Coca da Loja?\n",
    "faturamento_coca = (venda_coca * unitario_coca)\n",
    "print(faturamento_coca)\n",
    "#3. Qual foi o Lucro da loja?\n",
    "faturamento_total = faturamento_pepsi + faturamento_coca\n",
    "lucro = (faturamento_total - custo_loja)\n",
    "print(lucro)\n",
    "#4. Qual foi a Margem da Loja? (Lembre-se, margem = Lucro / Faturamento). Não precisa formatar em percentual\n",
    "margem = (lucro/faturamento_total)\n",
    "print(margem)"
   ]
  },
  {
   "cell_type": "code",
   "execution_count": 2,
   "metadata": {},
   "outputs": [
    {
     "name": "stdout",
     "output_type": "stream",
     "text": [
      "BEB1300543\n",
      "BEB1300545\n",
      "BAC1546001\n",
      "BAC17675002\n"
     ]
    }
   ],
   "source": [
    "#A maioria das empresas trabalham com um Código para cada produto que possuem. A Hashtag&Drink, por exemplo, tem mais de 1.000 produtos e possui um código para cada produto.\n",
    "#Repare que todas as bebidas não alcóolicas tem o início do Código \"BEB\" e todas as bebidas alcóolicas tem o início do código \"BAC\".\n",
    "\n",
    "coca = (\"BEB1300543\")\n",
    "pepsi = (\"BEB1300545\")\n",
    "vinho = (\"BAC1546001\")\n",
    "vodka = (\"BAC17675002\")\n",
    "\n",
    "print(coca)\n",
    "print(pepsi)\n",
    "print(vinho)\n",
    "print(vodka)"
   ]
  },
  {
   "cell_type": "code",
   "execution_count": null,
   "metadata": {},
   "outputs": [],
   "source": [
    "#Crie um programa de consulta de bebida que, dado um código qualquer, identifique se a bebida é alcóolica\n",
    "\n",
    "codigo = input(\"Qual o código da bebida (tudo em letra maíuscula): \")\n",
    "print(\"BAC\" in codigo)"
   ]
  }
 ],
 "metadata": {
  "kernelspec": {
   "display_name": "base",
   "language": "python",
   "name": "python3"
  },
  "language_info": {
   "codemirror_mode": {
    "name": "ipython",
    "version": 3
   },
   "file_extension": ".py",
   "mimetype": "text/x-python",
   "name": "python",
   "nbconvert_exporter": "python",
   "pygments_lexer": "ipython3",
   "version": "3.11.5"
  }
 },
 "nbformat": 4,
 "nbformat_minor": 2
}
