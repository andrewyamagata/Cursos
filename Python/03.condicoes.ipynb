{
 "cells": [
  {
   "cell_type": "markdown",
   "metadata": {},
   "source": [
    "## Condições do Python"
   ]
  },
  {
   "cell_type": "markdown",
   "metadata": {},
   "source": [
    "#### Estrutura do if"
   ]
  },
  {
   "cell_type": "code",
   "execution_count": 4,
   "metadata": {},
   "outputs": [
    {
     "name": "stdout",
     "output_type": "stream",
     "text": [
      "Batemos a meta, vendendo 60000 unidades\n"
     ]
    }
   ],
   "source": [
    "meta = 50000\n",
    "qtd_venda = 60000\n",
    "\n",
    "if qtd_venda >= meta:\n",
    "    print(\"Batemos a meta, vendendo {} unidades\".format(qtd_venda))\n",
    "else:\n",
    "    print(\"Não batemos a meta, faltou vender {} unidades.\" .format(meta - qtd_venda))"
   ]
  },
  {
   "cell_type": "markdown",
   "metadata": {},
   "source": [
    "#### Blocos e indentações - if dentro de if"
   ]
  },
  {
   "cell_type": "code",
   "execution_count": 7,
   "metadata": {},
   "outputs": [
    {
     "name": "stdout",
     "output_type": "stream",
     "text": [
      "A taxa foi de 0.02\n"
     ]
    }
   ],
   "source": [
    "meta = 0.05\n",
    "taxa = 0\n",
    "rendimento = 0.06\n",
    "\n",
    "if rendimento > meta:\n",
    "    taxa = 0.02\n",
    "    print('A taxa foi de {}'. format(taxa))\n",
    "else:\n",
    "    taxa = 0\n",
    "    print('A taxa foi de {}' .format(taxa))"
   ]
  },
  {
   "cell_type": "code",
   "execution_count": 10,
   "metadata": {},
   "outputs": [
    {
     "name": "stdout",
     "output_type": "stream",
     "text": [
      "A taxa foi de 0.04\n"
     ]
    }
   ],
   "source": [
    "meta = 0.05\n",
    "taxa = 0\n",
    "rendimento = 0.16\n",
    "\n",
    "if rendimento > meta:\n",
    "    if rendimento > 0.15:\n",
    "        taxa = 0.04\n",
    "        print('A taxa foi de {}'. format(taxa))\n",
    "    else:\n",
    "        taxa = 0.02\n",
    "        print('A taxa foi de {}'. format(taxa))\n",
    "else:\n",
    "    taxa = 0\n",
    "    print('A taxa foi de {}' .format(taxa))"
   ]
  },
  {
   "cell_type": "markdown",
   "metadata": {},
   "source": [
    "#### Elif"
   ]
  },
  {
   "cell_type": "code",
   "execution_count": 16,
   "metadata": {},
   "outputs": [
    {
     "name": "stdout",
     "output_type": "stream",
     "text": [
      "A taxa foi de 0\n"
     ]
    }
   ],
   "source": [
    "meta = 0.05\n",
    "taxa = 0\n",
    "rendimento = 0.05\n",
    "\n",
    "if rendimento > 0.2:\n",
    "        taxa = 0.04\n",
    "        print('A taxa foi de {}'. format(taxa))\n",
    "elif rendimento > 0.15:\n",
    "        taxa = 0.02\n",
    "        print('A taxa foi de {}'. format(taxa))\n",
    "elif rendimento > 0.05:\n",
    "        taxa = 0.01\n",
    "        print('A taxa foi de {}'. format(taxa))       \n",
    "else:\n",
    "    taxa = 0\n",
    "    print('A taxa foi de {}' .format(taxa))"
   ]
  },
  {
   "cell_type": "markdown",
   "metadata": {},
   "source": [
    "#### Comparadores"
   ]
  },
  {
   "cell_type": "markdown",
   "metadata": {},
   "source": [
    "==    igual\n",
    "!=    diferente\n",
    ">     maior que (>= maior ou igual)\n",
    "<     menor que (<= menor ou igual)\n",
    "in    texto existe dentro de outro texto \n",
    "not   verifica o contrário da comparação\n",
    "\n",
    "Obs: Se em alguma condição você não quiser fazer nada, você pode simplesmente escrever:\n",
    "pass"
   ]
  },
  {
   "cell_type": "code",
   "execution_count": 1,
   "metadata": {},
   "outputs": [
    {
     "name": "stdout",
     "output_type": "stream",
     "text": [
      "Programa 1\n",
      "Os faturamentos são diferentes\n"
     ]
    }
   ],
   "source": [
    "faturamento_loja_1 = 2500\n",
    "faturamento_loja_2 = 2200\n",
    "email = \"liragmail.com\"\n",
    "\n",
    "print('Programa 1')\n",
    "if faturamento_loja_1 == faturamento_loja_2:\n",
    "    print('Os faturamentos são iguais')\n",
    "else:\n",
    "    print('Os faturamentos são diferentes')"
   ]
  },
  {
   "cell_type": "code",
   "execution_count": 1,
   "metadata": {},
   "outputs": [
    {
     "name": "stdout",
     "output_type": "stream",
     "text": [
      "Programa 2\n"
     ]
    },
    {
     "ename": "",
     "evalue": "",
     "output_type": "error",
     "traceback": [
      "\u001b[1;31mNão é possível executar o código, a sessão foi descartada. Tente reiniciar o Kernel."
     ]
    },
    {
     "ename": "",
     "evalue": "",
     "output_type": "error",
     "traceback": [
      "\u001b[1;31mNão é possível executar o código, a sessão foi descartada. Tente reiniciar o Kernel. \n",
      "\u001b[1;31mConsulte o <a href='command:jupyter.viewOutput'>log</a> do Jupyter para obter mais detalhes."
     ]
    }
   ],
   "source": [
    "print('Programa 2')\n",
    "email_usuario = input('Insira seu e-mail:')\n",
    "if not '@' in email_usuario:\n",
    "    print('Email Inválido')\n",
    "else:\n",
    "    pass"
   ]
  },
  {
   "cell_type": "code",
   "execution_count": 2,
   "metadata": {},
   "outputs": [
    {
     "name": "stdout",
     "output_type": "stream",
     "text": [
      "Programa 2\n"
     ]
    }
   ],
   "source": [
    "print('Programa 2')\n",
    "email_usuario = \"lira@gmail.com\"\n",
    "if not '@' in email_usuario:\n",
    "    print('Email Inválido')\n",
    "else:\n",
    "    pass"
   ]
  },
  {
   "cell_type": "markdown",
   "metadata": {},
   "source": [
    "### AND e OR"
   ]
  },
  {
   "cell_type": "code",
   "execution_count": 1,
   "metadata": {},
   "outputs": [
    {
     "name": "stdout",
     "output_type": "stream",
     "text": [
      "Funcionário sem bônus\n"
     ]
    }
   ],
   "source": [
    "meta_funcionario = 10000\n",
    "meta_loja = 250000\n",
    "vendas_funcionario = 5000\n",
    "vendas_loja = 200000\n",
    "\n",
    "if vendas_funcionario > meta_funcionario and vendas_loja > meta_loja:\n",
    "    bonus = 0.03 * vendas_funcionario\n",
    "    print('Bônus do funcionário foi de R$ {}.' .format(bonus))\n",
    "else:\n",
    "    print('Funcionário sem bônus')"
   ]
  },
  {
   "cell_type": "code",
   "execution_count": 6,
   "metadata": {},
   "outputs": [
    {
     "name": "stdout",
     "output_type": "stream",
     "text": [
      "Bônus do funcionário foi de R$ 150.0.\n"
     ]
    }
   ],
   "source": [
    "meta_funcionario = 10000\n",
    "meta_loja = 250000\n",
    "vendas_funcionario = 5000\n",
    "vendas_loja = 200000\n",
    "nota_funcionario = 9\n",
    "meta_nota = 8\n",
    "\n",
    "if nota_funcionario >= meta_nota or vendas_funcionario > meta_funcionario and vendas_loja > meta_loja:\n",
    "    bonus = 0.03 * vendas_funcionario\n",
    "    print('Bônus do funcionário foi de R$ {}.' .format(bonus))\n",
    "else:\n",
    "    print('Funcionário sem bônus')"
   ]
  },
  {
   "cell_type": "markdown",
   "metadata": {},
   "source": [
    "### Exercício"
   ]
  },
  {
   "cell_type": "code",
   "execution_count": 19,
   "metadata": {},
   "outputs": [
    {
     "name": "stdout",
     "output_type": "stream",
     "text": [
      "O funcionário 1 ganhou 300.0 de bônus\n",
      "O funcionário 2 ganhou 277.0 de bônus\n",
      "O funcionário 3 ganhou 270.0 de bônus\n"
     ]
    }
   ],
   "source": [
    "vendas_funcionario1 = 3000\n",
    "vendas_funcionario2 = 2770\n",
    "vendas_funcionario3 = 2700\n",
    "\n",
    "if vendas_funcionario1 >= 1000:\n",
    "    bonus = (vendas_funcionario1 * 0.1)\n",
    "else:\n",
    "    bonus = 0\n",
    "print(\"O funcionário 1 ganhou {} de bônus\" .format(bonus))\n",
    "\n",
    "if vendas_funcionario2 >= 1000:\n",
    "    bonus = (vendas_funcionario2 * 0.1)\n",
    "else:\n",
    "    bonus = 0\n",
    "print(\"O funcionário 2 ganhou {} de bônus\" .format(bonus))\n",
    "\n",
    "if vendas_funcionario3 >= 1000:\n",
    "    bonus = (vendas_funcionario3 * 0.1)\n",
    "    print(\"O funcionário 3 ganhou {} de bônus\" .format(bonus))\n",
    "else:\n",
    "    bonus = 0\n",
    "    print(\"O funcionário 3 não ganhou bônus\")"
   ]
  },
  {
   "cell_type": "code",
   "execution_count": 20,
   "metadata": {},
   "outputs": [
    {
     "name": "stdout",
     "output_type": "stream",
     "text": [
      "O bonus do funcionário 1 foi de 450.0\n",
      "O funcionário 2 ganhou 415.5 de bonus\n"
     ]
    }
   ],
   "source": [
    "if vendas_funcionario1 >= 1000:\n",
    "    if vendas_funcionario1 >= 2000:\n",
    "        bonus = vendas_funcionario1 * 0.15\n",
    "    else:\n",
    "        bonus = vendas_funcionario1 * 0.1\n",
    "else:\n",
    "    bonus = 0\n",
    "print(\"O bonus do funcionário 1 foi de {}\" . format(bonus))\n",
    "\n",
    "if vendas_funcionario2 >= 2000:\n",
    "    bonus = vendas_funcionario2 * 0.15\n",
    "elif vendas_funcionario2 >= 1000:\n",
    "    bonus = vendas_funcionario2 * 0.1\n",
    "else:\n",
    "    bonus = 0\n",
    "print(\"O funcionário 2 ganhou {} de bonus\" .format(bonus))"
   ]
  }
 ],
 "metadata": {
  "kernelspec": {
   "display_name": "base",
   "language": "python",
   "name": "python3"
  },
  "language_info": {
   "codemirror_mode": {
    "name": "ipython",
    "version": 3
   },
   "file_extension": ".py",
   "mimetype": "text/x-python",
   "name": "python",
   "nbconvert_exporter": "python",
   "pygments_lexer": "ipython3",
   "version": "3.11.5"
  }
 },
 "nbformat": 4,
 "nbformat_minor": 2
}
