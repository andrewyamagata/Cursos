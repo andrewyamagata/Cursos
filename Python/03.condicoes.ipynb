{
 "cells": [
  {
   "cell_type": "markdown",
   "metadata": {},
   "source": [
    "## Condições do Python"
   ]
  },
  {
   "cell_type": "markdown",
   "metadata": {},
   "source": [
    "#### Estrutura do if"
   ]
  },
  {
   "cell_type": "code",
   "execution_count": 4,
   "metadata": {},
   "outputs": [
    {
     "name": "stdout",
     "output_type": "stream",
     "text": [
      "Batemos a meta, vendendo 60000 unidades\n"
     ]
    }
   ],
   "source": [
    "meta = 50000\n",
    "qtd_venda = 60000\n",
    "\n",
    "if qtd_venda >= meta:\n",
    "    print(\"Batemos a meta, vendendo {} unidades\".format(qtd_venda))\n",
    "else:\n",
    "    print(\"Não batemos a meta, faltou vender {} unidades.\" .format(meta - qtd_venda))"
   ]
  },
  {
   "cell_type": "markdown",
   "metadata": {},
   "source": [
    "#### Blocos e indentações - if dentro de if"
   ]
  },
  {
   "cell_type": "code",
   "execution_count": 7,
   "metadata": {},
   "outputs": [
    {
     "name": "stdout",
     "output_type": "stream",
     "text": [
      "A taxa foi de 0.02\n"
     ]
    }
   ],
   "source": [
    "meta = 0.05\n",
    "taxa = 0\n",
    "rendimento = 0.06\n",
    "\n",
    "if rendimento > meta:\n",
    "    taxa = 0.02\n",
    "    print('A taxa foi de {}'. format(taxa))\n",
    "else:\n",
    "    taxa = 0\n",
    "    print('A taxa foi de {}' .format(taxa))"
   ]
  },
  {
   "cell_type": "code",
   "execution_count": 10,
   "metadata": {},
   "outputs": [
    {
     "name": "stdout",
     "output_type": "stream",
     "text": [
      "A taxa foi de 0.04\n"
     ]
    }
   ],
   "source": [
    "meta = 0.05\n",
    "taxa = 0\n",
    "rendimento = 0.16\n",
    "\n",
    "if rendimento > meta:\n",
    "    if rendimento > 0.15:\n",
    "        taxa = 0.04\n",
    "        print('A taxa foi de {}'. format(taxa))\n",
    "    else:\n",
    "        taxa = 0.02\n",
    "        print('A taxa foi de {}'. format(taxa))\n",
    "else:\n",
    "    taxa = 0\n",
    "    print('A taxa foi de {}' .format(taxa))"
   ]
  },
  {
   "cell_type": "markdown",
   "metadata": {},
   "source": [
    "#### Elif"
   ]
  },
  {
   "cell_type": "code",
   "execution_count": 16,
   "metadata": {},
   "outputs": [
    {
     "name": "stdout",
     "output_type": "stream",
     "text": [
      "A taxa foi de 0\n"
     ]
    }
   ],
   "source": [
    "meta = 0.05\n",
    "taxa = 0\n",
    "rendimento = 0.05\n",
    "\n",
    "if rendimento > 0.2:\n",
    "        taxa = 0.04\n",
    "        print('A taxa foi de {}'. format(taxa))\n",
    "elif rendimento > 0.15:\n",
    "        taxa = 0.02\n",
    "        print('A taxa foi de {}'. format(taxa))\n",
    "elif rendimento > 0.05:\n",
    "        taxa = 0.01\n",
    "        print('A taxa foi de {}'. format(taxa))       \n",
    "else:\n",
    "    taxa = 0\n",
    "    print('A taxa foi de {}' .format(taxa))"
   ]
  },
  {
   "cell_type": "markdown",
   "metadata": {},
   "source": [
    "#### Comparadores"
   ]
  }
 ],
 "metadata": {
  "kernelspec": {
   "display_name": "base",
   "language": "python",
   "name": "python3"
  },
  "language_info": {
   "codemirror_mode": {
    "name": "ipython",
    "version": 3
   },
   "file_extension": ".py",
   "mimetype": "text/x-python",
   "name": "python",
   "nbconvert_exporter": "python",
   "pygments_lexer": "ipython3",
   "version": "3.11.5"
  }
 },
 "nbformat": 4,
 "nbformat_minor": 2
}
