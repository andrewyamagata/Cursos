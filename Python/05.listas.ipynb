{
 "cells": [
  {
   "cell_type": "markdown",
   "metadata": {},
   "source": [
    "## Lista em Python\n",
    "\n",
    "### Estrutura:\n",
    "\n",
    "lista=[valor,valor,valor,...]"
   ]
  },
  {
   "cell_type": "code",
   "execution_count": 1,
   "metadata": {},
   "outputs": [
    {
     "name": "stdout",
     "output_type": "stream",
     "text": [
      "celular\n"
     ]
    }
   ],
   "source": [
    "produtos = [\"tv\", \"celular\", \"mouse\", \"teclado\", \"tablet\"]\n",
    "print(produtos[1])"
   ]
  },
  {
   "cell_type": "code",
   "execution_count": 2,
   "metadata": {},
   "outputs": [
    {
     "name": "stdout",
     "output_type": "stream",
     "text": [
      "1500\n"
     ]
    }
   ],
   "source": [
    "vendas = [1000, 1500, 350, 270, 900]\n",
    "print(vendas[1])"
   ]
  },
  {
   "cell_type": "code",
   "execution_count": 3,
   "metadata": {},
   "outputs": [
    {
     "name": "stdout",
     "output_type": "stream",
     "text": [
      "Vendas do produto teclado foram de 300 unidades\n"
     ]
    }
   ],
   "source": [
    "vendas[3] = 300\n",
    "print(\"Vendas do produto {} foram de {} unidades\" .format(produtos[3],vendas[3]))"
   ]
  },
  {
   "cell_type": "code",
   "execution_count": 4,
   "metadata": {},
   "outputs": [
    {
     "name": "stdout",
     "output_type": "stream",
     "text": [
      "5\n",
      "geladeira\n",
      "Quantidade em estoque é: 90\n"
     ]
    }
   ],
   "source": [
    "produtos = [\"tv\", \"celular\", \"tablet\", \"mouse\", \"teclado\", \"geladeira\", \"forno\"]\n",
    "estoque = [100, 150, 100, 120, 70, 90, 80]\n",
    "\n",
    "i = produtos.index(\"geladeira\")\n",
    "\n",
    "print(i)\n",
    "print(produtos[i])\n",
    "\n",
    "qtde_estoque = estoque[i]\n",
    "print(\"Quantidade em estoque é: {}\".format(qtde_estoque))"
   ]
  },
  {
   "cell_type": "markdown",
   "metadata": {},
   "source": [
    "### Adicionar e Remover Itens"
   ]
  },
  {
   "cell_type": "code",
   "execution_count": 10,
   "metadata": {},
   "outputs": [
    {
     "name": "stdout",
     "output_type": "stream",
     "text": [
      "['apple tv', 'mac', 'iphone 13', 'ipad', 'apple watch', 'mac book', 'airpods']\n",
      "['apple tv', 'mac', 'iphone 13', 'ipad', 'apple watch', 'mac book', 'airpods', 'iphone 13']\n",
      "['apple tv', 'mac', 'ipad', 'apple watch', 'mac book', 'airpods', 'iphone 13']\n",
      "['apple tv', 'mac', 'apple watch', 'mac book', 'airpods', 'iphone 13']\n"
     ]
    }
   ],
   "source": [
    "produtos = [\"apple tv\", \"mac\", \"iphone x\", \"ipad\", \"apple watch\", \"mac book\", \"airpods\"]\n",
    "produtos[2] = \"iphone 13\"\n",
    "print(produtos)\n",
    "\n",
    "produtos.append(\"iphone 13\")\n",
    "print(produtos)\n",
    "\n",
    "produtos.remove(\"iphone 13\")\n",
    "print(produtos)\n",
    "\n",
    "item_removido = produtos.pop(2)\n",
    "print(produtos)"
   ]
  },
  {
   "cell_type": "code",
   "execution_count": 16,
   "metadata": {},
   "outputs": [
    {
     "name": "stdout",
     "output_type": "stream",
     "text": [
      "O produto não exixte\n"
     ]
    }
   ],
   "source": [
    "try:\n",
    "    produtos.remove(\"iphonex\")\n",
    "    print(produtos)\n",
    "except:\n",
    "    print(\"O produto não exixte\")"
   ]
  },
  {
   "cell_type": "code",
   "execution_count": 17,
   "metadata": {},
   "outputs": [],
   "source": [
    "try:\n",
    "    produtos.remove(\"iphonex\")\n",
    "    print(produtos)\n",
    "except:\n",
    "    pass"
   ]
  },
  {
   "cell_type": "markdown",
   "metadata": {},
   "source": [
    "### Funções Básicas"
   ]
  },
  {
   "cell_type": "code",
   "execution_count": 18,
   "metadata": {},
   "outputs": [],
   "source": [
    "produtos = [\"apple tv\", \"mac\", \"iphone x\", \"ipad\", \"apple watch\", \"mac book\", \"airpods\"]"
   ]
  },
  {
   "cell_type": "code",
   "execution_count": 20,
   "metadata": {},
   "outputs": [
    {
     "name": "stdout",
     "output_type": "stream",
     "text": [
      "Temos 7 produtos\n"
     ]
    }
   ],
   "source": [
    "tamanho = len(produtos)\n",
    "print(\"Temos {} produtos\" .format(tamanho))"
   ]
  },
  {
   "cell_type": "code",
   "execution_count": 21,
   "metadata": {},
   "outputs": [],
   "source": [
    "vendas = [100, 150, 100, 120, 70, 90, 80]"
   ]
  },
  {
   "cell_type": "code",
   "execution_count": 22,
   "metadata": {},
   "outputs": [
    {
     "name": "stdout",
     "output_type": "stream",
     "text": [
      "O mais vendido teve 150 e o menos 70\n"
     ]
    }
   ],
   "source": [
    "mais_vendido = max(vendas)\n",
    "menos_vendido = min(vendas)\n",
    "print(\"O mais vendido teve {} e o menos {}\".format(mais_vendido,menos_vendido))"
   ]
  },
  {
   "cell_type": "code",
   "execution_count": 24,
   "metadata": {},
   "outputs": [
    {
     "name": "stdout",
     "output_type": "stream",
     "text": [
      "O produto mais vendido foi mac e o menos vendido foi apple watch\n"
     ]
    }
   ],
   "source": [
    "i = vendas.index(mais_vendido)\n",
    "produtos_mais_vendido = produtos[i]\n",
    "\n",
    "i = vendas.index(menos_vendido)\n",
    "produtos_menos_vendido = produtos[i]\n",
    "\n",
    "print(\"O produto mais vendido foi {} e o menos vendido foi {}\" .format(produtos_mais_vendido,produtos_menos_vendido))"
   ]
  },
  {
   "cell_type": "markdown",
   "metadata": {},
   "source": [
    "### Juntar Lista, Ordenar e Cuidados Especiais"
   ]
  },
  {
   "cell_type": "code",
   "execution_count": 6,
   "metadata": {},
   "outputs": [
    {
     "name": "stdout",
     "output_type": "stream",
     "text": [
      "['apple tv', 'mac', 'iphone x', 'Ipad', 'Apple watch', 'mac book', 'airpods', 'iphone 12', 'iphone 14']\n"
     ]
    }
   ],
   "source": [
    "produtos = [\"apple tv\", \"mac\", \"iphone x\", \"Ipad\", \"Apple watch\", \"mac book\", \"airpods\"]\n",
    "novos_produtos = [\"iphone 12\", \"iphone 14\"]\n",
    "\n",
    "produtos.extend(novos_produtos)\n",
    "print(produtos)"
   ]
  },
  {
   "cell_type": "code",
   "execution_count": 4,
   "metadata": {},
   "outputs": [
    {
     "name": "stdout",
     "output_type": "stream",
     "text": [
      "['apple tv', 'mac', 'iphone x', 'ipad', 'apple watch', 'mac book', 'airpods', 'iphone 12', 'iphone 14', 'iphone 15', 'iphone 16']\n"
     ]
    }
   ],
   "source": [
    "novos_produtos2 = [\"iphone 15\", \"iphone 16\"]\n",
    "todos_produtos = produtos + novos_produtos2\n",
    "print(todos_produtos)"
   ]
  },
  {
   "cell_type": "markdown",
   "metadata": {},
   "source": [
    "### Cuidado"
   ]
  },
  {
   "cell_type": "code",
   "execution_count": 2,
   "metadata": {},
   "outputs": [
    {
     "name": "stdout",
     "output_type": "stream",
     "text": [
      "35000\n",
      "[15000, 20000]\n",
      "35000\n"
     ]
    }
   ],
   "source": [
    "vendas = [1000, 1500, 15000, 20000, 270, 900, 100, 1200]\n",
    "vendas_iphonex = [15000]\n",
    "vendas_iphone11 = [20000]\n",
    "\n",
    "total_iphone = vendas[2] + vendas[3]\n",
    "total_iphone_lista = vendas_iphonex + vendas_iphone11\n",
    "total_iphone_lista2 = vendas_iphonex[0] + vendas_iphone11[0]\n",
    "\n",
    "print(total_iphone)\n",
    "print(total_iphone_lista)\n",
    "print(total_iphone_lista2)"
   ]
  },
  {
   "cell_type": "markdown",
   "metadata": {},
   "source": [
    "### Ordenar Lista - Tabela ASCII"
   ]
  },
  {
   "cell_type": "code",
   "execution_count": 7,
   "metadata": {},
   "outputs": [
    {
     "name": "stdout",
     "output_type": "stream",
     "text": [
      "['Apple watch', 'Ipad', 'airpods', 'apple tv', 'iphone 12', 'iphone 14', 'iphone x', 'mac', 'mac book']\n"
     ]
    }
   ],
   "source": [
    "produtos.sort()\n",
    "print(produtos)"
   ]
  },
  {
   "cell_type": "code",
   "execution_count": 8,
   "metadata": {},
   "outputs": [
    {
     "name": "stdout",
     "output_type": "stream",
     "text": [
      "[100, 270, 900, 1000, 1200, 1500, 15000, 20000]\n"
     ]
    }
   ],
   "source": [
    "vendas.sort()\n",
    "print(vendas)"
   ]
  },
  {
   "cell_type": "code",
   "execution_count": 10,
   "metadata": {},
   "outputs": [
    {
     "name": "stdout",
     "output_type": "stream",
     "text": [
      "['mac book', 'mac', 'iphone x', 'iphone 14', 'iphone 12', 'apple tv', 'airpods', 'Ipad', 'Apple watch']\n"
     ]
    }
   ],
   "source": [
    "produtos.sort(reverse=True)\n",
    "print(produtos)"
   ]
  },
  {
   "cell_type": "code",
   "execution_count": 9,
   "metadata": {},
   "outputs": [
    {
     "name": "stdout",
     "output_type": "stream",
     "text": [
      "[20000, 15000, 1500, 1200, 1000, 900, 270, 100]\n"
     ]
    }
   ],
   "source": [
    "vendas.sort(reverse=True)\n",
    "print(vendas)"
   ]
  },
  {
   "cell_type": "markdown",
   "metadata": {},
   "source": [
    "### Print de Lista"
   ]
  },
  {
   "cell_type": "code",
   "execution_count": 17,
   "metadata": {},
   "outputs": [
    {
     "name": "stdout",
     "output_type": "stream",
     "text": [
      "['apple tv', 'mac', 'iphone x', 'Ipad', 'Apple watch', 'mac book', 'airpods']\n",
      "---------------\n",
      "apple tv;mac;iphone x;Ipad;Apple watch;mac book;airpods\n",
      "---------------\n",
      "apple tv\n",
      "mac\n",
      "iphone x\n",
      "Ipad\n",
      "Apple watch\n",
      "mac book\n",
      "airpods\n"
     ]
    }
   ],
   "source": [
    "produtos = [\"apple tv\", \"mac\", \"iphone x\", \"Ipad\", \"Apple watch\", \"mac book\", \"airpods\"]\n",
    "print(produtos)\n",
    "print(\"-\"*15)\n",
    "print(\";\".join(produtos))\n",
    "print(\"-\"*15)\n",
    "print(\"\\n\".join(produtos))"
   ]
  },
  {
   "cell_type": "code",
   "execution_count": 23,
   "metadata": {},
   "outputs": [
    {
     "name": "stdout",
     "output_type": "stream",
     "text": [
      "['apple tv', 'mac', 'iphone x', 'Ipad', 'Apple watch', 'mac book', 'airpods']\n"
     ]
    }
   ],
   "source": [
    "produtos = \"apple tv, mac, iphone x, Ipad, Apple watch, mac book, airpods\"\n",
    "lista = produtos.split(\", \")\n",
    "\n",
    "print(lista)"
   ]
  },
  {
   "cell_type": "markdown",
   "metadata": {},
   "source": [
    "### Alterações \"Incrementais\" de Variáveis"
   ]
  },
  {
   "cell_type": "code",
   "execution_count": 24,
   "metadata": {},
   "outputs": [
    {
     "name": "stdout",
     "output_type": "stream",
     "text": [
      "['mac', 'iphone', 'Ipad']\n"
     ]
    }
   ],
   "source": [
    "lista = ['mac','iphone']\n",
    "vendas = [100, 200]\n",
    "\n",
    "lista = lista + [\"Ipad\"]\n",
    "print(lista)"
   ]
  },
  {
   "cell_type": "code",
   "execution_count": 25,
   "metadata": {},
   "outputs": [
    {
     "name": "stdout",
     "output_type": "stream",
     "text": [
      "4000\n"
     ]
    }
   ],
   "source": [
    "faturamento = 3000\n",
    "faturamento = faturamento + 1000\n",
    "print(faturamento)"
   ]
  },
  {
   "cell_type": "code",
   "execution_count": 28,
   "metadata": {},
   "outputs": [
    {
     "name": "stdout",
     "output_type": "stream",
     "text": [
      "4000\n"
     ]
    }
   ],
   "source": [
    "faturamento = 3000\n",
    "faturamento += 1000\n",
    "print(faturamento)"
   ]
  },
  {
   "cell_type": "code",
   "execution_count": 26,
   "metadata": {},
   "outputs": [
    {
     "name": "stdout",
     "output_type": "stream",
     "text": [
      "lira@gmail.com\n"
     ]
    }
   ],
   "source": [
    "email = 'lira@gmail'\n",
    "email = email + '.com'\n",
    "print(email)"
   ]
  },
  {
   "cell_type": "markdown",
   "metadata": {},
   "source": [
    "### Exercícios"
   ]
  },
  {
   "cell_type": "markdown",
   "metadata": {},
   "source": [
    "Qual foi o valor de vendas do melhor mês do Ano?\n",
    "E valor do pior mês do ano?"
   ]
  },
  {
   "cell_type": "code",
   "execution_count": 36,
   "metadata": {},
   "outputs": [
    {
     "name": "stdout",
     "output_type": "stream",
     "text": [
      "[25000, 29000, 22200, 17750, 15870, 19900, 19850, 20120, 17540, 15555, 49051, 9650]\n",
      "Maior venda em nov com 49051 unidades.\n",
      "Menor venda em dez com 9650 unidades.\n",
      "Faturamento total de 261486\n"
     ]
    }
   ],
   "source": [
    "meses = ['jan', 'fev', 'mar', 'abr', 'mai', 'jun', 'jul', 'ago', 'set', 'out', 'nov', 'dez']\n",
    "vendas_1sem = [25000, 29000, 22200, 17750, 15870, 19900]\n",
    "vendas_2sem = [19850, 20120, 17540, 15555, 49051, 9650]\n",
    "vendas_ano = vendas_1sem + vendas_2sem #vendas_1sem.extend(vendas_2sem)\n",
    "print(vendas_ano)\n",
    "\n",
    "maior_venda = max(vendas_ano)\n",
    "menor_venda = min(vendas_ano)\n",
    "\n",
    "i_maior_valor = vendas_ano.index(maior_venda)\n",
    "\n",
    "i_menor_valor = vendas_ano.index(menor_venda)\n",
    "\n",
    "faturamento_total = sum(vendas_ano)\n",
    "\n",
    "print(\"Maior venda em {} com {} unidades.\\nMenor venda em {} com {} unidades.\\nFaturamento total de {}\".format(meses[i_maior_valor], maior_venda, meses[i_menor_valor], menor_venda,faturamento_total))"
   ]
  },
  {
   "cell_type": "markdown",
   "metadata": {},
   "source": [
    "### Crie uma lista com o top 3 valores de vendas do ano"
   ]
  },
  {
   "cell_type": "code",
   "execution_count": 38,
   "metadata": {},
   "outputs": [
    {
     "name": "stdout",
     "output_type": "stream",
     "text": [
      "[49051]\n",
      "[49051, 29000]\n",
      "[49051, 29000, 25000]\n"
     ]
    }
   ],
   "source": [
    "top3 = []\n",
    "\n",
    "maior_valor = max(vendas_ano)\n",
    "top3.append(maior_valor)\n",
    "print(top3)\n",
    "vendas_ano.remove(maior_valor)\n",
    "\n",
    "maior_valor = max(vendas_ano)\n",
    "top3.append(maior_valor)\n",
    "print(top3)\n",
    "vendas_ano.remove(maior_valor)\n",
    "\n",
    "maior_valor = max(vendas_ano)\n",
    "top3.append(maior_valor)\n",
    "print(top3)\n",
    "vendas_ano.remove(maior_valor)"
   ]
  },
  {
   "cell_type": "markdown",
   "metadata": {},
   "source": [
    "### Copiar e \"Igualdade\" de Lista"
   ]
  },
  {
   "cell_type": "code",
   "execution_count": 1,
   "metadata": {},
   "outputs": [
    {
     "name": "stdout",
     "output_type": "stream",
     "text": [
      "['ipad', 'iphone 13', 'apple tv']\n",
      "['ipad', 'iphone 13', 'apple tv']\n"
     ]
    }
   ],
   "source": [
    "lista = [\"ipad\", \"iphone x\", \"apple tv\"]\n",
    "lista2 = lista\n",
    "\n",
    "lista[1] = \"iphone 13\"\n",
    "\n",
    "print(lista)\n",
    "print(lista2)"
   ]
  },
  {
   "cell_type": "code",
   "execution_count": 2,
   "metadata": {},
   "outputs": [
    {
     "name": "stdout",
     "output_type": "stream",
     "text": [
      "['ipad', 'iphone 13', 'apple tv']\n",
      "['ipad', 'iphone x', 'apple tv']\n"
     ]
    }
   ],
   "source": [
    "lista = [\"ipad\", \"iphone x\", \"apple tv\"]\n",
    "lista2 = lista.copy()\n",
    "\n",
    "lista[1] = \"iphone 13\"\n",
    "\n",
    "print(lista)\n",
    "print(lista2)"
   ]
  },
  {
   "cell_type": "code",
   "execution_count": 3,
   "metadata": {},
   "outputs": [
    {
     "name": "stdout",
     "output_type": "stream",
     "text": [
      "['ipad', 'iphone 13', 'apple tv']\n",
      "['ipad', 'iphone x', 'apple tv']\n"
     ]
    }
   ],
   "source": [
    "lista = [\"ipad\", \"iphone x\", \"apple tv\"]\n",
    "lista2 = lista[:]\n",
    "\n",
    "lista[1] = \"iphone 13\"\n",
    "\n",
    "print(lista)\n",
    "print(lista2)"
   ]
  },
  {
   "cell_type": "markdown",
   "metadata": {},
   "source": [
    "### Lista de Lista"
   ]
  },
  {
   "cell_type": "code",
   "execution_count": 4,
   "metadata": {},
   "outputs": [],
   "source": [
    "vendedores = [\"Lira\", \"João\", \"Diego\", \"Alon\"]\n",
    "produtos = [\"ipad\", \"iphone\"]\n",
    "vendas = [\n",
    "    [100, 200],\n",
    "    [300, 500],\n",
    "    [50, 1000],\n",
    "    [900, 10]\n",
    "]"
   ]
  },
  {
   "cell_type": "code",
   "execution_count": 9,
   "metadata": {},
   "outputs": [
    {
     "name": "stdout",
     "output_type": "stream",
     "text": [
      "300\n",
      "1000\n",
      "1710\n"
     ]
    }
   ],
   "source": [
    "vendas_ipad_joao = vendas[1][0]\n",
    "print(vendas_ipad_joao)\n",
    "\n",
    "vendas_iphone_diego = vendas[2][1]\n",
    "print(vendas_iphone_diego)\n",
    "\n",
    "vendas_iphone = vendas[0][1] + vendas[1][1] + vendas[2][1] + vendas[3][1]\n",
    "print(vendas_iphone)"
   ]
  },
  {
   "cell_type": "code",
   "execution_count": 10,
   "metadata": {},
   "outputs": [
    {
     "name": "stdout",
     "output_type": "stream",
     "text": [
      "[[100, 50], [300, 500], [50, 1000], [900, 10]]\n"
     ]
    }
   ],
   "source": [
    "vendas[0][1] = 50\n",
    "print(vendas)"
   ]
  },
  {
   "cell_type": "code",
   "execution_count": 11,
   "metadata": {},
   "outputs": [
    {
     "name": "stdout",
     "output_type": "stream",
     "text": [
      "[[100, 50, 10], [300, 500, 15], [50, 1000, 6], [900, 10, 70]]\n"
     ]
    }
   ],
   "source": [
    "vendas_mac = [10, 15, 6, 70]\n",
    "\n",
    "vendas[0].append(vendas_mac[0])\n",
    "vendas[1].append(vendas_mac[1])\n",
    "vendas[2].append(vendas_mac[2])\n",
    "vendas[3].append(vendas_mac[3])\n",
    "\n",
    "print(vendas)"
   ]
  }
 ],
 "metadata": {
  "kernelspec": {
   "display_name": "base",
   "language": "python",
   "name": "python3"
  },
  "language_info": {
   "codemirror_mode": {
    "name": "ipython",
    "version": 3
   },
   "file_extension": ".py",
   "mimetype": "text/x-python",
   "name": "python",
   "nbconvert_exporter": "python",
   "pygments_lexer": "ipython3",
   "version": "3.11.5"
  }
 },
 "nbformat": 4,
 "nbformat_minor": 2
}
