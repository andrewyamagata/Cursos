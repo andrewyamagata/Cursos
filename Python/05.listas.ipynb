{
 "cells": [
  {
   "cell_type": "markdown",
   "metadata": {},
   "source": [
    "## Lista em Python\n",
    "\n",
    "### Estrutura:\n",
    "\n",
    "lista=[valor,valor,valor,...]"
   ]
  },
  {
   "cell_type": "code",
   "execution_count": 1,
   "metadata": {},
   "outputs": [
    {
     "name": "stdout",
     "output_type": "stream",
     "text": [
      "celular\n"
     ]
    }
   ],
   "source": [
    "produtos = [\"tv\", \"celular\", \"mouse\", \"teclado\", \"tablet\"]\n",
    "print(produtos[1])"
   ]
  },
  {
   "cell_type": "code",
   "execution_count": 2,
   "metadata": {},
   "outputs": [
    {
     "name": "stdout",
     "output_type": "stream",
     "text": [
      "1500\n"
     ]
    }
   ],
   "source": [
    "vendas = [1000, 1500, 350, 270, 900]\n",
    "print(vendas[1])"
   ]
  },
  {
   "cell_type": "code",
   "execution_count": 3,
   "metadata": {},
   "outputs": [
    {
     "name": "stdout",
     "output_type": "stream",
     "text": [
      "Vendas do produto teclado foram de 300 unidades\n"
     ]
    }
   ],
   "source": [
    "vendas[3] = 300\n",
    "print(\"Vendas do produto {} foram de {} unidades\" .format(produtos[3],vendas[3]))"
   ]
  },
  {
   "cell_type": "code",
   "execution_count": 4,
   "metadata": {},
   "outputs": [
    {
     "name": "stdout",
     "output_type": "stream",
     "text": [
      "5\n",
      "geladeira\n",
      "Quantidade em estoque é: 90\n"
     ]
    }
   ],
   "source": [
    "produtos = [\"tv\", \"celular\", \"tablet\", \"mouse\", \"teclado\", \"geladeira\", \"forno\"]\n",
    "estoque = [100, 150, 100, 120, 70, 90, 80]\n",
    "\n",
    "i = produtos.index(\"geladeira\")\n",
    "\n",
    "print(i)\n",
    "print(produtos[i])\n",
    "\n",
    "qtde_estoque = estoque[i]\n",
    "print(\"Quantidade em estoque é: {}\".format(qtde_estoque))"
   ]
  },
  {
   "cell_type": "markdown",
   "metadata": {},
   "source": [
    "### Adicionar e Remover Itens"
   ]
  },
  {
   "cell_type": "code",
   "execution_count": 10,
   "metadata": {},
   "outputs": [
    {
     "name": "stdout",
     "output_type": "stream",
     "text": [
      "['apple tv', 'mac', 'iphone 13', 'ipad', 'apple watch', 'mac book', 'airpods']\n",
      "['apple tv', 'mac', 'iphone 13', 'ipad', 'apple watch', 'mac book', 'airpods', 'iphone 13']\n",
      "['apple tv', 'mac', 'ipad', 'apple watch', 'mac book', 'airpods', 'iphone 13']\n",
      "['apple tv', 'mac', 'apple watch', 'mac book', 'airpods', 'iphone 13']\n"
     ]
    }
   ],
   "source": [
    "produtos = [\"apple tv\", \"mac\", \"iphone x\", \"ipad\", \"apple watch\", \"mac book\", \"airpods\"]\n",
    "produtos[2] = \"iphone 13\"\n",
    "print(produtos)\n",
    "\n",
    "produtos.append(\"iphone 13\")\n",
    "print(produtos)\n",
    "\n",
    "produtos.remove(\"iphone 13\")\n",
    "print(produtos)\n",
    "\n",
    "item_removido = produtos.pop(2)\n",
    "print(produtos)"
   ]
  },
  {
   "cell_type": "code",
   "execution_count": 16,
   "metadata": {},
   "outputs": [
    {
     "name": "stdout",
     "output_type": "stream",
     "text": [
      "O produto não exixte\n"
     ]
    }
   ],
   "source": [
    "try:\n",
    "    produtos.remove(\"iphonex\")\n",
    "    print(produtos)\n",
    "except:\n",
    "    print(\"O produto não exixte\")"
   ]
  },
  {
   "cell_type": "code",
   "execution_count": 17,
   "metadata": {},
   "outputs": [],
   "source": [
    "try:\n",
    "    produtos.remove(\"iphonex\")\n",
    "    print(produtos)\n",
    "except:\n",
    "    pass"
   ]
  },
  {
   "cell_type": "markdown",
   "metadata": {},
   "source": [
    "### Funções Básicas"
   ]
  },
  {
   "cell_type": "code",
   "execution_count": 18,
   "metadata": {},
   "outputs": [],
   "source": [
    "produtos = [\"apple tv\", \"mac\", \"iphone x\", \"ipad\", \"apple watch\", \"mac book\", \"airpods\"]"
   ]
  },
  {
   "cell_type": "code",
   "execution_count": 20,
   "metadata": {},
   "outputs": [
    {
     "name": "stdout",
     "output_type": "stream",
     "text": [
      "Temos 7 produtos\n"
     ]
    }
   ],
   "source": [
    "tamanho = len(produtos)\n",
    "print(\"Temos {} produtos\" .format(tamanho))"
   ]
  },
  {
   "cell_type": "code",
   "execution_count": 21,
   "metadata": {},
   "outputs": [],
   "source": [
    "vendas = [100, 150, 100, 120, 70, 90, 80]"
   ]
  },
  {
   "cell_type": "code",
   "execution_count": 22,
   "metadata": {},
   "outputs": [
    {
     "name": "stdout",
     "output_type": "stream",
     "text": [
      "O mais vendido teve 150 e o menos 70\n"
     ]
    }
   ],
   "source": [
    "mais_vendido = max(vendas)\n",
    "menos_vendido = min(vendas)\n",
    "print(\"O mais vendido teve {} e o menos {}\".format(mais_vendido,menos_vendido))"
   ]
  },
  {
   "cell_type": "code",
   "execution_count": 24,
   "metadata": {},
   "outputs": [
    {
     "name": "stdout",
     "output_type": "stream",
     "text": [
      "O produto mais vendido foi mac e o menos vendido foi apple watch\n"
     ]
    }
   ],
   "source": [
    "i = vendas.index(mais_vendido)\n",
    "produtos_mais_vendido = produtos[i]\n",
    "\n",
    "i = vendas.index(menos_vendido)\n",
    "produtos_menos_vendido = produtos[i]\n",
    "\n",
    "print(\"O produto mais vendido foi {} e o menos vendido foi {}\" .format(produtos_mais_vendido,produtos_menos_vendido))"
   ]
  }
 ],
 "metadata": {
  "kernelspec": {
   "display_name": "base",
   "language": "python",
   "name": "python3"
  },
  "language_info": {
   "codemirror_mode": {
    "name": "ipython",
    "version": 3
   },
   "file_extension": ".py",
   "mimetype": "text/x-python",
   "name": "python",
   "nbconvert_exporter": "python",
   "pygments_lexer": "ipython3",
   "version": "3.11.5"
  }
 },
 "nbformat": 4,
 "nbformat_minor": 2
}
