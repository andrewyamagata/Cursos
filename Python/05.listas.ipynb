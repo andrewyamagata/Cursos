{
 "cells": [
  {
   "cell_type": "markdown",
   "metadata": {},
   "source": [
    "## Lista em Python\n",
    "\n",
    "### Estrutura:\n",
    "\n",
    "lista=[valor,valor,valor,...]"
   ]
  },
  {
   "cell_type": "code",
   "execution_count": 1,
   "metadata": {},
   "outputs": [
    {
     "name": "stdout",
     "output_type": "stream",
     "text": [
      "celular\n"
     ]
    }
   ],
   "source": [
    "produtos = [\"tv\", \"celular\", \"mouse\", \"teclado\", \"tablet\"]\n",
    "print(produtos[1])"
   ]
  },
  {
   "cell_type": "code",
   "execution_count": 2,
   "metadata": {},
   "outputs": [
    {
     "name": "stdout",
     "output_type": "stream",
     "text": [
      "1500\n"
     ]
    }
   ],
   "source": [
    "vendas = [1000, 1500, 350, 270, 900]\n",
    "print(vendas[1])"
   ]
  },
  {
   "cell_type": "code",
   "execution_count": 4,
   "metadata": {},
   "outputs": [
    {
     "name": "stdout",
     "output_type": "stream",
     "text": [
      "Vendas do produto teclado foram de 300 unidades\n"
     ]
    }
   ],
   "source": [
    "vendas[3] = 300\n",
    "print(\"Vendas do produto {} foram de {} unidades\" .format(produtos[3],vendas[3]))"
   ]
  },
  {
   "cell_type": "code",
   "execution_count": 9,
   "metadata": {},
   "outputs": [
    {
     "name": "stdout",
     "output_type": "stream",
     "text": [
      "5\n",
      "geladeira\n",
      "Quantidade em estoque é: 90\n"
     ]
    }
   ],
   "source": [
    "produtos = [\"tv\", \"celular\", \"tablet\", \"mouse\", \"teclado\", \"geladeira\", \"forno\"]\n",
    "estoque = [100, 150, 100, 120, 70, 90, 80]\n",
    "\n",
    "i = produtos.index(\"geladeira\")\n",
    "\n",
    "print(i)\n",
    "print(produtos[i])\n",
    "\n",
    "qtde_estoque = estoque[i]\n",
    "print(\"Quantidade em estoque é: {}\".format(qtde_estoque))"
   ]
  }
 ],
 "metadata": {
  "kernelspec": {
   "display_name": "base",
   "language": "python",
   "name": "python3"
  },
  "language_info": {
   "codemirror_mode": {
    "name": "ipython",
    "version": 3
   },
   "file_extension": ".py",
   "mimetype": "text/x-python",
   "name": "python",
   "nbconvert_exporter": "python",
   "pygments_lexer": "ipython3",
   "version": "3.11.5"
  }
 },
 "nbformat": 4,
 "nbformat_minor": 2
}
