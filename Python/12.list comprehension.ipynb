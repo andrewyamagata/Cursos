{
 "cells": [
  {
   "cell_type": "markdown",
   "metadata": {},
   "source": [
    "### List Comprehension\n",
    "\n",
    "- Uma forma de iterar pelos elementos das listas de maneira \"mais direta\"\n",
    "- É como se fizesse um \"for em 1 linha de código"
   ]
  },
  {
   "cell_type": "code",
   "execution_count": 1,
   "metadata": {},
   "outputs": [],
   "source": [
    "preco_produtos = [100, 150, 300, 5500]\n",
    "produtos = ['vinho', 'cafeteira', 'microondas', 'iphone']"
   ]
  },
  {
   "cell_type": "code",
   "execution_count": 2,
   "metadata": {},
   "outputs": [
    {
     "name": "stdout",
     "output_type": "stream",
     "text": [
      "[30.0, 45.0, 90.0, 1650.0]\n"
     ]
    }
   ],
   "source": [
    "# USANDO FOR\n",
    "impostos = []\n",
    "for item in preco_produtos:\n",
    "    impostos.append(item * 0.3)\n",
    "print(impostos)"
   ]
  },
  {
   "cell_type": "code",
   "execution_count": 3,
   "metadata": {},
   "outputs": [
    {
     "name": "stdout",
     "output_type": "stream",
     "text": [
      "[30.0, 45.0, 90.0, 1650.0]\n"
     ]
    }
   ],
   "source": [
    "# USANDO LIST COMPREHENSION\n",
    "impostos = [preco * 0.3 for preco in preco_produtos]\n",
    "print(impostos)"
   ]
  },
  {
   "cell_type": "code",
   "execution_count": 5,
   "metadata": {},
   "outputs": [
    {
     "name": "stdout",
     "output_type": "stream",
     "text": [
      "[30.0, 45.0, 90.0, 1650.0]\n"
     ]
    }
   ],
   "source": [
    "# A \"EXPRESSÃO\" NA LIST COMPREHENSION PODE SER UMA FUNCTION TAMBÉM\n",
    "def calcular_imposto(preco, imposto):\n",
    "    return preco * imposto\n",
    "\n",
    "impostos = [calcular_imposto(preco, 0.3) for preco in preco_produtos]\n",
    "print(impostos)"
   ]
  },
  {
   "cell_type": "code",
   "execution_count": 4,
   "metadata": {},
   "outputs": [
    {
     "name": "stdout",
     "output_type": "stream",
     "text": [
      "[(5500, 'iphone'), (300, 'microondas'), (150, 'cafeteira'), (100, 'vinho')]\n",
      "['iphone', 'microondas', 'cafeteira', 'vinho']\n"
     ]
    }
   ],
   "source": [
    "#Ordenar\n",
    "vendas_produtos = [100, 150, 300, 5500]\n",
    "produtos = ['vinho', 'cafeteira', 'microondas', 'iphone']\n",
    "\n",
    "lista_aux = list(zip(vendas_produtos,produtos))\n",
    "lista_aux.sort(reverse=True)\n",
    "print(lista_aux)\n",
    "\n",
    "produtos = [produto for vendas, produto in lista_aux]\n",
    "print(produtos)"
   ]
  },
  {
   "cell_type": "markdown",
   "metadata": {},
   "source": [
    "# Exercícios\n",
    "\n",
    "## 1. Tirando informações de listas e dicionários\n",
    "\n",
    "Digamos que você está analisando as vendas de produtos de uma empresa de varejo.\n",
    "\n",
    "Essa lista tem: (produto, vendas de 2019, vendas de 2020) para cada produto.\n",
    "\n",
    "Crie uma lista com as vendas de 2019."
   ]
  },
  {
   "cell_type": "code",
   "execution_count": 7,
   "metadata": {},
   "outputs": [
    {
     "name": "stdout",
     "output_type": "stream",
     "text": [
      "[558147, 712350, 573823, 405252, 718654, 531580, 973139, 892292, 422760, 154753, 887061, 438508, 237467, 489705, 328311, 591120]\n",
      "[558147, 712350, 573823, 405252, 718654, 531580, 973139, 892292, 422760, 154753, 887061, 438508, 237467, 489705, 328311, 591120]\n"
     ]
    }
   ],
   "source": [
    "vendas_produtos = [('iphone', 558147, 951642), ('galaxy', 712350, 244295), ('ipad', 573823, 26964), ('tv', 405252, 787604), ('máquina de café', 718654, 867660), ('kindle', 531580, 78830), ('geladeira', 973139, 710331), ('adega', 892292, 646016), ('notebook dell', 422760, 694913), ('notebook hp', 154753, 539704), ('notebook asus', 887061, 324831), ('microsoft surface', 438508, 667179), ('webcam', 237467, 295633), ('caixa de som', 489705, 725316), ('microfone', 328311, 644622), ('câmera canon', 591120, 994303)]\n",
    "\n",
    "lista_vendas_2019 = []\n",
    "for produto, vendas_2019, vendas_2020 in vendas_produtos:\n",
    "    lista_vendas_2019.append(vendas_2019)\n",
    "print(lista_vendas_2019)\n",
    "\n",
    "lista_vendas_2019_2 = [vendas_2019 for produto, vendas_2019, vendas_2020 in vendas_produtos]\n",
    "print(lista_vendas_2019_2)"
   ]
  },
  {
   "cell_type": "markdown",
   "metadata": {},
   "source": [
    "- Agora, qual o maior valor de vendas de 2019?"
   ]
  },
  {
   "cell_type": "code",
   "execution_count": 10,
   "metadata": {},
   "outputs": [
    {
     "name": "stdout",
     "output_type": "stream",
     "text": [
      "973139\n",
      "973139\n"
     ]
    }
   ],
   "source": [
    "print(max(lista_vendas_2019))\n",
    "\n",
    "print(max(lista_vendas_2019_2))"
   ]
  },
  {
   "cell_type": "markdown",
   "metadata": {},
   "source": [
    "- E se eu quisesse descobrir o produto que mais vendeu em 2019?\n",
    "Temos 2 formas de fazer, refazendo o list comprehension ou consultando a lista original"
   ]
  },
  {
   "cell_type": "code",
   "execution_count": 13,
   "metadata": {},
   "outputs": [
    {
     "name": "stdout",
     "output_type": "stream",
     "text": [
      "(973139, 'geladeira')\n"
     ]
    }
   ],
   "source": [
    "lista_vendas_produtos_2019 = [(vendas_2019, produto) for produto, vendas_2019, vendas_2020 in vendas_produtos]\n",
    "print(max(lista_vendas_produtos_2019))"
   ]
  },
  {
   "cell_type": "markdown",
   "metadata": {},
   "source": [
    "### Lista Comprehensions com if para \"filtrar itens"
   ]
  },
  {
   "cell_type": "code",
   "execution_count": 18,
   "metadata": {},
   "outputs": [],
   "source": [
    "meta = 1000\n",
    "vendas_produtos = [1500, 150, 2100, 1950]\n",
    "produtos = ['vinho', 'cafeteira', 'microondas', 'iphone']"
   ]
  },
  {
   "cell_type": "code",
   "execution_count": 19,
   "metadata": {},
   "outputs": [
    {
     "name": "stdout",
     "output_type": "stream",
     "text": [
      "['vinho', 'microondas', 'iphone']\n"
     ]
    }
   ],
   "source": [
    "#Fazendo por for tradicional\n",
    "bateram_meta = []\n",
    "for i, produto in enumerate(produtos):\n",
    "    if vendas_produtos[i] > meta:\n",
    "        bateram_meta.append(produto)\n",
    "print(bateram_meta)"
   ]
  },
  {
   "cell_type": "code",
   "execution_count": 21,
   "metadata": {},
   "outputs": [
    {
     "name": "stdout",
     "output_type": "stream",
     "text": [
      "['vinho', 'microondas', 'iphone']\n"
     ]
    }
   ],
   "source": [
    "#Fazendo por list comprehension\n",
    "bateram_meta = [produto for i, produto in enumerate(produtos) if vendas_produtos[i] > meta]\n",
    "print(bateram_meta)"
   ]
  },
  {
   "cell_type": "markdown",
   "metadata": {},
   "source": [
    "# Exercícios\n",
    "\n",
    "## 1. Filtrar lista de clientes inadimplentes\n",
    "\n",
    "- O objetivo é identificar quem são os clientes inadimplentes e enviar essa lista de clientes para o setor de cobrança poder fazer a cobrança dos clientes.\n",
    "- Queremos então criar uma lista com os clientes inadimplentes (apenas o CPF e o valor que eles estão devendo)\n",
    "- A inadimplência nessa empresa é calculada da seguinte forma:\n",
    "    1. Se o cliente tiver devendo há mais de 20 dias, ele é considerado inadimplente.\n",
    "    2. As informações vêm no formato (cpf, valor_devido, qtde de dias)"
   ]
  },
  {
   "cell_type": "code",
   "execution_count": 1,
   "metadata": {},
   "outputs": [],
   "source": [
    "clientes_devedores = [('462.286.561-65',14405,24),('251.569.170-81',16027,1),('297.681.579-21',8177,28),('790.223.154-40',9585,10),('810.442.219-10',18826,29),('419.210.299-79',11421,15),('908.507.760-43',12445,24),('911.238.364-17',1345,4),('131.115.339-28',11625,8),('204.169.467-27',5364,22),('470.806.376-11',932,29),('938.608.980-69',13809,19),('554.684.165-26',11227,2),('119.225.846-34',4475,9),('358.890.858-95',13932,20),('786.547.940-70',17048,25),('468.487.741-94',2902,8),('540.685.100-32',5806,21),('379.729.796-80',7622,24),('980.173.363-94',13167,24),('833.285.374-56',19581,24),('103.669.436-50',17126,4),('386.836.124-46',18825,11),('588.404.964-15',1545,30),('600.556.177-18',1921,7),('670.346.230-99',18079,28),('771.352.915-13',16581,23),('430.314.324-46',13942,24),('629.507.759-51',17951,11),('348.683.225-73',12424,10),('406.133.151-17',5888,30),('310.985.894-64',17316,30),('964.317.132-30',18818,30),('845.331.524-14',14284,13),('781.995.738-18',19369,29),('921.558.128-63',3206,27),('941.386.982-65',10228,26),('551.135.290-10',18822,18),('537.124.578-35',12670,6),('119.383.169-76',790,20),('938.473.410-98',8851,5),('279.775.182-54',5212,20),('210.872.954-53',13569,8),('684.995.531-65',8649,21),('653.886.282-57',504,28),('973.580.738-53',2533,9),('285.864.892-85',8200,21),('777.154.423-98',10336,8),('769.786.401-34',3233,12),('521.566.565-97',11882,14),('491.799.681-92',653,8),('344.357.819-36',8856,18),('265.362.581-99',8962,8),('331.410.527-56',18516,18),('143.188.958-61',7234,29),('751.630.472-61',13552,6),('714.707.807-80',2898,7),('585.584.932-83',239,25),('165.554.107-13',9572,23),('718.225.984-87',10534,25),('611.715.653-32',3210,11),('397.994.286-79',13651,24),('967.160.575-69',8997,25),('369.750.998-94',13952,2),('767.400.554-79',18320,11),('171.104.286-74',5821,21),('152.817.649-24',3358,30),('645.308.846-62',15176,25),('273.884.570-92',4436,13),('888.818.341-45',15730,3),('577.836.712-40',14670,16),('513.529.919-95',4002,1),('201.476.809-95',17442,21),('657.816.571-87',1582,2),('810.494.975-87',2157,9),('531.749.410-17',12355,18),('486.290.887-24',18576,26),('432.376.642-62',8027,23),('207.274.437-91',5125,29),('634.244.673-72',11387,15),('346.871.172-72',8105,23),('166.330.605-50',7865,11),('829.181.731-94',2425,8),('197.305.464-63',9681,8),('887.877.706-59',15681,10),('847.598.885-51',323,23),('817.170.984-26',5169,27),('591.397.550-29',13362,25),('872.733.198-95',5756,18),('615.629.238-82',11678,23),('194.782.846-77',11044,17),('146.392.158-88',6848,4),('240.427.458-70',3906,25),('583.662.427-52',3306,5),('841.627.523-64',4778,4),('985.337.216-77',15308,4),('912.410.722-57',11683,6),('700.720.266-23',12638,21),('605.405.529-53',3831,3),('383.256.402-25',2599,10),('248.103.486-68',9121,1),('261.974.594-90',2139,26),('297.126.704-91',18529,16),('680.569.318-52',10176,23),('296.334.647-38',225,13),('200.761.898-70',16244,20),('258.232.687-17',19462,18),('597.295.672-38',18840,11),('894.479.102-52',11375,12),('556.156.341-36',16269,23),('987.874.553-86',11253,17),('248.927.998-94',6510,1),('852.796.660-25',2662,23),('741.370.204-36',9303,16),('536.714.951-95',2877,23),('320.395.830-44',14554,5),('520.645.562-80',17547,24),('553.700.674-28',3147,14),('913.525.896-32',17651,28),('750.456.495-86',11524,9),('246.171.748-38',15184,4),('760.248.897-67',4953,25),('920.890.990-46',17172,20),('805.469.913-50',17500,21),('878.594.225-48',6255,3),('356.715.924-36',3454,13),('847.150.802-96',8602,22),('625.846.640-53',10888,19),('539.300.108-41',11225,21),('549.151.467-76',1286,21),('738.451.908-29',18905,22),('987.288.834-69',17533,25),('898.532.296-94',9719,11),('620.531.607-13',13584,10),('169.415.202-43',1871,29),('757.885.355-97',18150,28),('252.581.376-21',2497,3),('177.937.460-78',7178,8),('523.895.611-54',9878,26),('883.680.201-23',16761,3),('936.678.268-71',11017,9),('871.912.703-73',1754,9),('957.749.478-56',6914,9),('725.636.354-80',8605,13),('898.316.244-33',14363,12),('894.748.325-28',2764,3),('647.106.954-60',1482,6),('628.716.937-98',14107,8),('332.677.483-83',19146,15),('186.870.928-82',17050,12),('216.248.879-71',4384,16),('287.929.269-44',4894,19),('278.335.932-42',17220,13),('824.107.287-13',11797,7),('535.354.954-30',9195,22),('311.762.241-12',13871,2),('209.759.133-88',13580,21),('505.728.766-53',16950,13),('879.471.988-23',17427,14),('772.329.947-39',3462,8),('321.123.241-10',2592,22),('407.342.963-78',11435,21),('786.935.637-47',14240,9),('461.791.351-55',142,2),('770.920.161-42',1247,24),('639.870.185-59',6430,10),('815.943.237-83',19550,22),('141.774.255-61',17866,13),('379.995.400-37',9503,29),('261.103.178-64',19167,13),('495.461.913-57',12265,29),('498.848.750-79',14549,16),('578.770.731-84',1462,5),('408.987.269-72',5647,28),('191.970.336-40',6313,15),('761.137.848-34',10654,23),('810.512.154-21',14928,1),('256.371.788-38',7085,2),('216.401.188-57',1531,23),('956.318.620-43',6327,22),('986.516.478-33',3866,25),('105.665.555-60',7118,4),('259.228.430-72',1601,8),('133.627.971-58',10142,14),('327.988.845-70',14985,23),('363.167.322-63',17236,7),('189.986.406-38',16888,18),('661.194.373-45',7824,1),('805.728.877-53',514,10),('887.826.412-21',15977,24),('122.975.174-32',9409,25),('456.550.370-55',19922,18),('388.243.133-66',19785,17),('208.788.890-61',11893,22),('881.332.662-49',6344,16),('912.349.944-52',6858,15),('534.904.583-32',9559,11),('825.175.334-25',19805,15),('339.191.298-46',13325,8),('569.993.915-78',4339,15)]"
   ]
  },
  {
   "cell_type": "code",
   "execution_count": 7,
   "metadata": {},
   "outputs": [
    {
     "name": "stdout",
     "output_type": "stream",
     "text": [
      "78\n",
      "78\n",
      "200\n"
     ]
    }
   ],
   "source": [
    "inadimplente = []\n",
    "\n",
    "for cpf, valor_devido, dias in clientes_devedores:\n",
    "    if dias > 20:\n",
    "        inadimplente.append(cpf)\n",
    "\n",
    "\n",
    "inadimplente2 = [cpf for cpf, valor_devido, dias in clientes_devedores if dias > 20]\n",
    "\n",
    "print(len(inadimplente))\n",
    "print(len(inadimplente2))\n",
    "print(len(clientes_devedores))"
   ]
  },
  {
   "cell_type": "markdown",
   "metadata": {},
   "source": [
    "# List Comprehension com if para escolher o resultado final\n",
    "\n",
    "### Estrutura:"
   ]
  },
  {
   "cell_type": "code",
   "execution_count": null,
   "metadata": {},
   "outputs": [],
   "source": [
    "lista = [item if condicao else outro_resultado for item in iterable]"
   ]
  },
  {
   "cell_type": "markdown",
   "metadata": {},
   "source": [
    "- Digamos que eu esteja analisando os vendedores de uma loja e queira criar uma lista para enviar para o RH com o bônus de cada vendedor.\n",
    "- O bônus é dado por 10% do valor de vendas dele, caso ele tenha batido a meta"
   ]
  },
  {
   "cell_type": "code",
   "execution_count": 8,
   "metadata": {},
   "outputs": [],
   "source": [
    "vendedores_dic = {'Maria': 1200, 'José': 300, 'Antônio': 800, 'João': 1500, 'Francisco': 1900, 'Ana': 2750, 'Luiz': 400, 'Paulo': 20, 'Carlos': 23, 'Manoel': 70, 'Pedro': 90, 'Francisca': 80, 'Marcos': 1100, 'Raimundo': 999, 'Sebastião': 900, 'Antônia': 880, 'Marcelo': 870, 'Jorge': 50, 'Márcia': 1111, 'Geraldo': 120, 'Adriana': 300, 'Sandra': 450, 'Luis': 800}\n",
    "meta = 1000"
   ]
  },
  {
   "cell_type": "code",
   "execution_count": 15,
   "metadata": {},
   "outputs": [
    {
     "name": "stdout",
     "output_type": "stream",
     "text": [
      "[120.0, 0, 0, 150.0, 190.0, 275.0, 0, 0, 0, 0, 0, 0, 110.0, 0, 0, 0, 0, 0, 111.10000000000001, 0, 0, 0, 0]\n"
     ]
    }
   ],
   "source": [
    "bonus = []\n",
    "\n",
    "for venda in vendedores_dic:\n",
    "    if vendedores_dic[venda] > meta:\n",
    "        bonus.append(vendedores_dic[venda]*0.1)\n",
    "    else:\n",
    "        bonus.append(0)\n",
    "print(bonus)"
   ]
  },
  {
   "cell_type": "code",
   "execution_count": 18,
   "metadata": {},
   "outputs": [
    {
     "name": "stdout",
     "output_type": "stream",
     "text": [
      "[120.0, 0, 0, 150.0, 190.0, 275.0, 0, 0, 0, 0, 0, 0, 110.0, 0, 0, 0, 0, 0, 111.10000000000001, 0, 0, 0, 0]\n"
     ]
    }
   ],
   "source": [
    "bonus = [vendedores_dic[item] * 0.1 if vendedores_dic[item] > meta else 0 for item in vendedores_dic]\n",
    "print(bonus)"
   ]
  },
  {
   "cell_type": "markdown",
   "metadata": {},
   "source": [
    "# Exercícios\n",
    "\n",
    "## 1. Tamanho do Pedido de Compras\n",
    "\n",
    "Nesse exercício vamos avaliar o estoque de uma empresa. Vamos considerar que todos os produtos dessa empresa são comprados em lotes de 500 unidades.\n",
    "\n",
    "- Caso o estoque esteja abaixo de 1000 unidades, devemos fazer um pedido de 500 unidades.\n",
    "- Caso o estoque esteja abaixo de 200 unidades, devemos fazer um pedido de 1000 unidades.\n",
    "\n",
    "Defina o valor a ser pedido de cada produto para enviar ao time de compras."
   ]
  },
  {
   "cell_type": "code",
   "execution_count": 20,
   "metadata": {},
   "outputs": [],
   "source": [
    "estoque = [('BSA2199',396),('PPF5239',251),('BSA1212',989),('PPF2154',449),('BEB3410',241),('PPF8999',527),('EMB9591',601),('BSA2006',314),('EMB3604',469),('EMB2070',733),('PPF9018',339),('PPF1468',906),('BSA5819',291),('PPF8666',850),('BEB2983',353),('BEB5877',456),('PPF5008',963),('PPF3877',185),('PPF7321',163),('BSA8833',644),('PPF4980',421),('PPF3063',757),('BSA2089',271),('BSA8398',180),('EMB4622',515),('EMB9814',563),('PPF3784',229),('PPF2398',270),('BEB3211',181),('PPF8655',459),('PPF1874',799),('PPF8789',126),('PPF6324',375),('EMB9290',883),('BSA5516',555),('BSA8451',243),('BSA8213',423)]"
   ]
  },
  {
   "cell_type": "code",
   "execution_count": null,
   "metadata": {},
   "outputs": [
    {
     "name": "stdout",
     "output_type": "stream",
     "text": [
      "[500, 500, 500, 500, 500, 500, 500, 500, 500, 500, 500, 500, 500, 500, 500, 500, 500, 100, 100, 500, 500, 500, 500, 100, 500, 500, 500, 500, 100, 500, 500, 100, 500, 500, 500, 500, 500]\n"
     ]
    }
   ],
   "source": [
    "pedido = []\n",
    "\n",
    "for produto, qtd in estoque:\n",
    "    if qtd < 200:\n",
    "        pedido.append(1000)\n",
    "    elif qtd < 1000:\n",
    "        pedido.append(500)\n",
    "    else:\n",
    "        pedido.append(0)\n",
    "print(pedido)"
   ]
  },
  {
   "cell_type": "code",
   "execution_count": 24,
   "metadata": {},
   "outputs": [
    {
     "name": "stdout",
     "output_type": "stream",
     "text": [
      "[500, 500, 500, 500, 500, 500, 500, 500, 500, 500, 500, 500, 500, 500, 500, 500, 500, 1000, 1000, 500, 500, 500, 500, 1000, 500, 500, 500, 500, 1000, 500, 500, 1000, 500, 500, 500, 500, 500]\n"
     ]
    }
   ],
   "source": [
    "pediddo2 = [1000 if qtd < 200 else 500 if qtd < 1000 else 0 for produto, qtd in estoque ]\n",
    "print(pediddo2)"
   ]
  },
  {
   "cell_type": "markdown",
   "metadata": {},
   "source": [
    "# List Comprehension não serve só para criar uma lista, serve para qualquer ação em iterable\n",
    "\n",
    "### Exemplo:"
   ]
  },
  {
   "cell_type": "markdown",
   "metadata": {},
   "source": [
    "- Vamos calcular quantos % das vendas o meu top 5 produtos representa das vendas totais"
   ]
  },
  {
   "cell_type": "code",
   "execution_count": 25,
   "metadata": {},
   "outputs": [],
   "source": [
    "produtos = ['coca', 'pepsi', 'guarana', 'skol', 'brahma', 'agua', 'del valle', 'dolly', 'red bull', 'cachaça', 'vinho tinto', 'vodka', 'vinho branco', 'tequila', 'champagne', 'gin', 'guaracamp', 'matte', 'leite de castanha', 'leite', 'jurupinga', 'sprite', 'fanta']\n",
    "vendas = [1200, 300, 800, 1500, 1900, 2750, 400, 20, 23, 70, 90, 80, 1100, 999, 900, 880, 870, 50, 1111, 120, 300, 450, 800]\n",
    "top5 = ['agua', 'brahma', 'skol', 'coca', 'leite de castanha']"
   ]
  },
  {
   "cell_type": "code",
   "execution_count": 27,
   "metadata": {},
   "outputs": [
    {
     "name": "stdout",
     "output_type": "stream",
     "text": [
      "8461\n",
      "Top 5 representou 50.6% das vendas\n"
     ]
    }
   ],
   "source": [
    "total_top5 = 0\n",
    "\n",
    "for i, produto in enumerate(produtos):\n",
    "    if produto in top5:\n",
    "        total_top5 += vendas[i]\n",
    "\n",
    "print(total_top5)\n",
    "print('Top 5 representou {:0.1%} das vendas'.format(total_top5/sum(vendas)))"
   ]
  },
  {
   "cell_type": "code",
   "execution_count": 28,
   "metadata": {},
   "outputs": [
    {
     "name": "stdout",
     "output_type": "stream",
     "text": [
      "8461\n",
      "Top 5 representou 50.6% das vendas\n"
     ]
    }
   ],
   "source": [
    "total_top5 = sum(vendas[i] for i, produto in enumerate(produtos) if produto in top5)\n",
    "\n",
    "\n",
    "print(total_top5)\n",
    "print('Top 5 representou {:0.1%} das vendas'.format(total_top5/sum(vendas)))"
   ]
  },
  {
   "cell_type": "markdown",
   "metadata": {},
   "source": [
    "# Exercícios de fixação "
   ]
  },
  {
   "cell_type": "markdown",
   "metadata": {},
   "source": [
    "A seguir, você encontrará alguns exercícios para fixar os conceitos aprendidos no curso até agora. Os exercícios estão divididos por exemplos práticos da vida real:\n",
    "\n",
    "- lista de compras\n",
    "- previsão de vendas\n",
    "- relatório de vendas\n",
    "- segmentação de clientes\n",
    "- analisador de texto\n",
    "\n",
    "Para cada assunto, você encontrará ao menos um exercício. Nos casos onde há mais de um exercício para o mesmo assunto, você será convidado a resolver o mesmo problema de formas diferentes. Isso é proposital, pois o objetivo é que você pratique o que aprendeu e, ao mesmo tempo, aprenda novas formas de resolver um mesmo problema. Por exemplo, usando diferentes estruturas de dados, ou diferentes formas de iterar sobre uma estrutura de dados, ou, ainda, utilizando funções.\n",
    "\n",
    "Tente resolver os exercícios sozinho. Se tiver dificuldades, consulte o material do curso e, se ainda assim não conseguir resolver, consulte a solução."
   ]
  },
  {
   "cell_type": "markdown",
   "metadata": {},
   "source": [
    "## Lista de compras"
   ]
  },
  {
   "cell_type": "markdown",
   "metadata": {},
   "source": [
    "### Primeira versão da lista de compras"
   ]
  },
  {
   "cell_type": "markdown",
   "metadata": {},
   "source": [
    "Escreva um programa que permita que um usuário crie uma lista de compras.\n",
    "O usuário deve ser capaz de adicionar itens, remover itens e visualizar a lista.\n",
    "\n",
    "Estruture seu programa da seguinte forma:\n",
    "\n",
    "1. Crie uma lista vazia para armazenar os itens da lista de compras.\n",
    "2. Crie um loop infinito que imprima um menu de opções ao usuário e permita que ele escolha uma opção.\n",
    "3. Dentro do loop, use uma declaração if para executar a tarefa apropriada de acordo com a escolha do usuário.\n",
    "4. Se o usuário escolher adicionar um item, solicite que ele digite o nome do item e adicione-o à lista.\n",
    "5. Se o usuário escolher remover um item, solicite que ele digite o nome do item e remova-o da lista.\n",
    "6. Se o usuário escolher ver a lista, mostre cada item da lista em sua própria linha.\n",
    "7. Se o usuário escolher sair, encerre o loop usando break.\n",
    "\n",
    "Exemplo de saída:\n",
    "\n",
    "```\n",
    "1 Adicionar item\n",
    "2 Remover item\n",
    "3 Ver lista\n",
    "4 Sair\n",
    "Escolha uma opção: 1\n",
    "Digite um item: banana\n",
    "\n",
    "1 Adicionar item\n",
    "2 Remover item\n",
    "3 Ver lista\n",
    "4 Sair\n",
    "Escolha uma opção: 1\n",
    "Digite um item: maçã\n",
    "\n",
    "1 Adicionar item\n",
    "2 Remover item\n",
    "3 Ver lista\n",
    "4 Sair\n",
    "Escolha uma opção: 3\n",
    "['banana', 'maçã']\n",
    "\n",
    "1 Adicionar item\n",
    "2 Remover item\n",
    "3 Ver lista\n",
    "4 Sair\n",
    "Escolha uma opção: 2\n",
    "Digite um item: banana\n",
    "\n",
    "1 Adicionar item\n",
    "2 Remover item\n",
    "3 Ver lista\n",
    "4 Sair\n",
    "Escolha uma opção: 3\n",
    "['maçã']\n",
    "\n",
    "1 Adicionar item\n",
    "2 Remover item\n",
    "3 Ver lista\n",
    "4 Sair\n",
    "Escolha uma opção: 4\n",
    "```"
   ]
  },
  {
   "cell_type": "code",
   "execution_count": 38,
   "metadata": {},
   "outputs": [
    {
     "name": "stdout",
     "output_type": "stream",
     "text": [
      "1 - Adicionar item\n",
      "2 - Remover item\n",
      "3 - Ver lista\n",
      "4 - Sair\n",
      "1 - Adicionar item\n",
      "2 - Remover item\n",
      "3 - Ver lista\n",
      "4 - Sair\n",
      "1 - Adicionar item\n",
      "2 - Remover item\n",
      "3 - Ver lista\n",
      "4 - Sair\n",
      "['ovo', 'banana']\n",
      "1 - Adicionar item\n",
      "2 - Remover item\n",
      "3 - Ver lista\n",
      "4 - Sair\n",
      "1 - Adicionar item\n",
      "2 - Remover item\n",
      "3 - Ver lista\n",
      "4 - Sair\n",
      "1 - Adicionar item\n",
      "2 - Remover item\n",
      "3 - Ver lista\n",
      "4 - Sair\n",
      "['ovo']\n",
      "1 - Adicionar item\n",
      "2 - Remover item\n",
      "3 - Ver lista\n",
      "4 - Sair\n"
     ]
    }
   ],
   "source": [
    "# solução\n",
    "lista_item = []\n",
    "\n",
    "while True:\n",
    "    print(\"1 - Adicionar item\\n2 - Remover item\\n3 - Ver lista\\n4 - Sair\")\n",
    "    opcao = input(\"Digite uma das opções:\")\n",
    "    if opcao == \"1\":\n",
    "        produto = input(\"Digite o produto a ser adicionado:\")\n",
    "        lista_item.append(produto)\n",
    "    elif opcao == \"2\":\n",
    "        produto = input(\"Digite o produto a ser removido:\")\n",
    "        if produto in lista_item:\n",
    "            lista_item.remove(produto)\n",
    "    elif opcao == \"3\":\n",
    "        print(lista_item)\n",
    "    elif opcao == \"4\":\n",
    "        break\n"
   ]
  },
  {
   "cell_type": "markdown",
   "metadata": {},
   "source": [
    "### Segunda versão da lista de compras"
   ]
  },
  {
   "cell_type": "markdown",
   "metadata": {},
   "source": [
    "Mude o programa de lista de compras para usar um dicionário ao invés de uma lista.\n",
    "O programa deve ter as mesmas funcionalidades, mas agora deve ser possível\n",
    "adicionar mais de uma unidade de um item na lista de compras. Ou seja, o dicionário\n",
    "deve armazenar o nome do item e a quantidade desejada pelo usuário. Por exemplo,\n",
    "se o usuário digitar \"banana\" e \"2\", o dicionário deve armazenar \"banana\" como chave\n",
    "e 2 como valor. A estrutura do dicionário ficaria assim: `{\"banana\": 2}`.\n",
    "\n",
    "O programa deve permitir que o usuário adicione, remova e visualize o dicionário de compras.\n",
    "\n",
    "Além disso, o programa deve mostrar uma mensagem de erro se o usuário tentar\n",
    "usar uma opção inválida do menu. Por exemplo, se o usuário digitar 5, o programa\n",
    "deve mostrar a mensagem \"Opção inválida. Por favor, escolha uma opção válida.\" e\n",
    "mostrar o menu novamente. Além disso, o programa deve ser *case insensitive*, ou seja,\n",
    "\"Maçã\" e \"maçã\" devem ser considerados o mesmo item.\n",
    "\n",
    "Exemplo de saída:\n",
    "\n",
    "```\n",
    "1 Adicionar item\n",
    "2 Remover item\n",
    "3 Ver lista\n",
    "4 Sair\n",
    "Escolha uma opção: 1\n",
    "Digite um item: banana\n",
    "Digite a quantidade: 2\n",
    "\n",
    "1 Adicionar item\n",
    "2 Remover item\n",
    "3 Ver lista\n",
    "4 Sair\n",
    "Escolha uma opção: 1\n",
    "Digite um item: maçã\n",
    "Digite a quantidade: 3\n",
    "\n",
    "1 Adicionar item\n",
    "2 Remover item\n",
    "3 Ver lista\n",
    "4 Sair\n",
    "Escolha uma opção: 3\n",
    "{'banana': 2, 'maçã': 3}\n",
    "\n",
    "1 Adicionar item\n",
    "2 Remover item\n",
    "3 Ver lista\n",
    "4 Sair\n",
    "Escolha uma opção: 2\n",
    "Digite um item: banana\n",
    "Digite a quantidade: 1\n",
    "\n",
    "1 Adicionar item\n",
    "2 Remover item\n",
    "3 Ver lista\n",
    "4 Sair\n",
    "Escolha uma opção: 3\n",
    "{'banana': 1, 'maçã': 3}\n",
    "\n",
    "1 Adicionar item\n",
    "2 Remover item\n",
    "3 Ver lista\n",
    "4 Sair\n",
    "Escolha uma opção: 4\n",
    "```\n"
   ]
  },
  {
   "cell_type": "code",
   "execution_count": 39,
   "metadata": {},
   "outputs": [
    {
     "name": "stdout",
     "output_type": "stream",
     "text": [
      "1 - Adicionar item | 2 - Remover item | 3 - Ver lista | 4 - Sair\n",
      "1 - Adicionar item | 2 - Remover item | 3 - Ver lista | 4 - Sair\n",
      "1 - Adicionar item | 2 - Remover item | 3 - Ver lista | 4 - Sair\n",
      "ovo: 2\n",
      "banana: 50\n",
      "1 - Adicionar item | 2 - Remover item | 3 - Ver lista | 4 - Sair\n",
      "ovo: 2\n",
      "banana: 50\n",
      "1 - Adicionar item | 2 - Remover item | 3 - Ver lista | 4 - Sair\n",
      "Produto não localizado\n",
      "1 - Adicionar item | 2 - Remover item | 3 - Ver lista | 4 - Sair\n",
      "Opção inválida, escolher outra opção\n",
      "1 - Adicionar item | 2 - Remover item | 3 - Ver lista | 4 - Sair\n",
      "Opção inválida, escolher outra opção\n",
      "1 - Adicionar item | 2 - Remover item | 3 - Ver lista | 4 - Sair\n",
      "1 - Adicionar item | 2 - Remover item | 3 - Ver lista | 4 - Sair\n",
      "banana: 50\n",
      "1 - Adicionar item | 2 - Remover item | 3 - Ver lista | 4 - Sair\n"
     ]
    }
   ],
   "source": [
    "# solução\n",
    "lista_item = {}\n",
    "\n",
    "while True:\n",
    "    print(\"1 - Adicionar item | 2 - Remover item | 3 - Ver lista | 4 - Sair\")\n",
    "    opcao = input(\"Digite uma das opções:\")\n",
    "    if opcao == \"1\":\n",
    "        produto = input(\"Digite o produto a ser adicionado:\").casefold()\n",
    "        qtd = int(input(\"Digite a quantidade a ser adicionado:\"))\n",
    "        if produto in lista_item:\n",
    "            lista_item[produto] += qtd\n",
    "        else:\n",
    "            lista_item[produto] = qtd\n",
    "    elif opcao == \"2\":\n",
    "        produto = input(\"Digite o produto a ser removido:\").casefold()\n",
    "        if produto in lista_item:\n",
    "            qtd = int(input(\"Digite a quantidade a ser removida:\"))\n",
    "            if qtd >= lista_item[produto]:\n",
    "                 del lista_item[produto]\n",
    "            else:\n",
    "             lista_item[produto] -= qtd\n",
    "        else:\n",
    "            print('Produto não localizado')\n",
    "    elif opcao == \"3\":\n",
    "        for produto, qtd in lista_item.items():\n",
    "            print(f'{produto}: {qtd}')\n",
    "    elif opcao == \"4\":\n",
    "        break\n",
    "    else:\n",
    "        print(\"Opção inválida, escolher outra opção\")"
   ]
  },
  {
   "cell_type": "markdown",
   "metadata": {},
   "source": [
    "### Terceira versão da lista de compras"
   ]
  },
  {
   "cell_type": "markdown",
   "metadata": {},
   "source": [
    "Mantenha o programa da lista de compras com dicionário, mas agora use funções para organizar o código. Crie funções para cada uma das opções do menu: `adicionar_item`, `remover_item` e `ver_lista`. Crie também uma função para mostrar o menu. O programa deve continuar funcionando da mesma forma, mas agora o código deve estar organizado em funções.\n"
   ]
  },
  {
   "cell_type": "code",
   "execution_count": 31,
   "metadata": {},
   "outputs": [],
   "source": [
    "# solução"
   ]
  },
  {
   "cell_type": "markdown",
   "metadata": {},
   "source": [
    "## Previsão de vendas"
   ]
  },
  {
   "cell_type": "markdown",
   "metadata": {},
   "source": [
    "### Primeira versão da previsão de vendas"
   ]
  },
  {
   "cell_type": "markdown",
   "metadata": {},
   "source": [
    "Escreva um programa que preveja as vendas totais para cada produto em uma empresa.\n",
    "O usuário deve digitar o nome do produto, as vendas do mês atual e a taxa de crescimento,\n",
    "e o programa deve calcular as vendas previstas para o próximo mês.\n",
    "\n",
    "Estruture seu programa da seguinte forma:\n",
    "\n",
    "1. Crie um dicionário vazio para armazenar as previsões de vendas.\n",
    "2. Crie um loop infinito que solicite ao usuário o nome do produto, as vendas do mês atual e a taxa de crescimento.\n",
    "3. Dentro do loop, use uma declaração if para verificar se o usuário digitou 'sair'.\n",
    "4. Se o usuário digitar 'sair', encerre o loop usando break.\n",
    "5. Se o usuário digitar qualquer outra coisa, use as entradas para calcular as vendas previstas e adicione-as ao dicionário.\n",
    "6. Depois que o loop for encerrado, use um loop for para iterar sobre o dicionário e mostrar as previsões de vendas para cada produto.\n",
    "\n",
    "Exemplo de saída:\n",
    "\n",
    "```\n",
    "Digite o nome do produto (ou 'sair' para sair): iphone\n",
    "Digite as vendas do mês atual: 10000\n",
    "Digite a taxa de crescimento (%): 10\n",
    "Digite o nome do produto (ou 'sair' para sair): capinha para iphone\n",
    "Digite as vendas do mês atual: 200\n",
    "Digite a taxa de crescimento (%): 20\n",
    "Digite o nome do produto (ou 'sair' para sair): sair\n",
    "iphone: Previsão de vendas do próximo mês = R$ 11000.00\n",
    "capinha para iphone: Previsão de vendas do próximo mês = R$ 240.00\n",
    "```\n"
   ]
  },
  {
   "cell_type": "code",
   "execution_count": null,
   "metadata": {},
   "outputs": [],
   "source": [
    "# solução"
   ]
  },
  {
   "cell_type": "markdown",
   "metadata": {},
   "source": [
    "### Segunda versão da previsão de vendas\n"
   ]
  },
  {
   "cell_type": "markdown",
   "metadata": {},
   "source": [
    "Mantenha a mesma funcionalidade do programa anterior, mas agora valide a entrada do usuário.\n",
    "Se o usuário digitar um valor inválido para vendas ou taxa de crescimento, mostre a mensagem\n",
    "\"Entrada inválida. Por favor, digite um número para vendas e taxa de crescimento.\" e peça\n",
    "para o usuário digitar novamente. Tal validação deve ser feita usando try/except.\n"
   ]
  },
  {
   "cell_type": "code",
   "execution_count": null,
   "metadata": {},
   "outputs": [],
   "source": [
    "# solução"
   ]
  },
  {
   "cell_type": "markdown",
   "metadata": {},
   "source": [
    "## Relatório de vendas"
   ]
  },
  {
   "cell_type": "markdown",
   "metadata": {},
   "source": [
    "### Primeira versão do relatório de vendas"
   ]
  },
  {
   "cell_type": "markdown",
   "metadata": {},
   "source": [
    "Escreva um programa que calcula o total e a média de vendas para cada vendedor em uma empresa.\n",
    "O usuário deve digitar o nome do vendedor e suas vendas, e o programa deve manter o controle\n",
    "do total e da média de vendas para cada vendedor.\n",
    "\n",
    "Estruture seu programa da seguinte forma:\n",
    "\n",
    "1. Crie um dicionário vazio para armazenar os dados de vendas.\n",
    "2. Crie um loop infinito que solicite ao usuário o nome do vendedor e suas vendas.\n",
    "3. Dentro do loop, use uma declaração if para verificar se o usuário digitou 'sair'.\n",
    "4. Se o usuário digitar 'sair', encerre o loop usando break.\n",
    "5. Se o usuário digitar qualquer outra coisa, use as entradas para calcular o total e a média de vendas para o vendedor e adicione-os ao dicionário.\n",
    "6. Depois que o loop for encerrado, use um loop for para iterar sobre o dicionário e mostrar o total e a média de vendas para cada vendedor.\n",
    "\n",
    "Exemplo de saída:\n",
    "    \n",
    "```\n",
    "Digite o nome do vendedor (ou 'sair' para sair): João\n",
    "Digite as vendas: 100\n",
    "Digite o nome do vendedor (ou 'sair' para sair): Maria\n",
    "Digite as vendas: 200\n",
    "Digite o nome do vendedor (ou 'sair' para sair): João\n",
    "Digite as vendas: 300\n",
    "Digite o nome do vendedor (ou 'sair' para sair): sair\n",
    "João: Total de vendas = R$ 400.0, Média de vendas = R$ 200.0\n",
    "Maria: Total de vendas = R$ 200.0, Média de vendas = R$ 200.0\n",
    "```\n",
    "\n",
    "Dica: use o método sum() para calcular o total de vendas e o método len() para calcular o número de vendas.\n"
   ]
  },
  {
   "cell_type": "code",
   "execution_count": null,
   "metadata": {},
   "outputs": [],
   "source": [
    "# solução\n"
   ]
  },
  {
   "cell_type": "markdown",
   "metadata": {},
   "source": [
    "### Segunda versão do relatório de vendas\n"
   ]
  },
  {
   "cell_type": "markdown",
   "metadata": {},
   "source": [
    "Mantenha a mesma funcionalidade do programa anterior, mas agora valide a entrada do usuário.\n",
    "Se o usuário digitar um valor inválido para vendas, mostre a mensagem\n",
    "\"Entrada inválida. Por favor, digite um número para vendas.\" e peça para o usuário digitar\n",
    "novamente. Tal validação deve ser feita usando try/except.\n",
    "\n",
    "Além disso, ao invés de armazenar cada venda em uma lista para cada vendedor, armazene\n",
    "o total de vendas e a quantidade de vendas em um dicionário. Por exemplo, se o usuário\n",
    "digitar \"João\" e \"1000\" para vendas, o dicionário deve ficar assim:\n",
    "\n",
    "```python\n",
    "{'João': {'total_vendas': 1000, 'quantidade_vendas': 1}}\n",
    "```\n",
    "\n",
    "Se, após, o usuário digitar \"João\" e \"2000\" para vendas, o dicionário deve ficar assim:\n",
    "\n",
    "```python\n",
    "{'João': {'total_vendas': 3000, 'quantidade_vendas': 2}}\n",
    "```\n",
    "\n",
    "Perceba como o total de vendas de João aumentou em 2000, assim como a quantidade aumentou em uma unidade.\n",
    "\n",
    "Ao final, mostre o total de vendas e a média de vendas de cada vendedor.\n",
    "\n",
    "Exemplo de saída:\n",
    "\n",
    "```\n",
    "Digite o nome do vendedor (ou 'sair' para sair): João\n",
    "Digite as vendas: 1000\n",
    "Digite o nome do vendedor (ou 'sair' para sair): Maria\n",
    "Digite as vendas: 2000\n",
    "Digite o nome do vendedor (ou 'sair' para sair): João\n",
    "Digite as vendas: 2000\n",
    "Digite o nome do vendedor (ou 'sair' para sair): Maria\n",
    "Digite as vendas: 3000\n",
    "Digite o nome do vendedor (ou 'sair' para sair): sair\n",
    "João: Total de vendas = R$ 3000.00, Média de vendas = R$ 1500.00\n",
    "Maria: Total de vendas = R$ 5000.00, Média de vendas = R$ 2500.00\n",
    "```\n"
   ]
  },
  {
   "cell_type": "code",
   "execution_count": null,
   "metadata": {},
   "outputs": [],
   "source": [
    "# solução"
   ]
  },
  {
   "cell_type": "markdown",
   "metadata": {},
   "source": [
    "### Terceira versão do relatório de vendas"
   ]
  },
  {
   "cell_type": "markdown",
   "metadata": {},
   "source": [
    " Mantenha a funcionalidade do programa, mas agora use funções para organizar o código. Crie funções para cada uma das operações: `solicitar_nome_vendedor`, `solicitar_vendas` e `atualizar_dados` e `print_dados`. O programa deve continuar funcionando da mesma forma, mas agora o código deve estar organizado em funções."
   ]
  },
  {
   "cell_type": "code",
   "execution_count": null,
   "metadata": {},
   "outputs": [],
   "source": [
    "# solução"
   ]
  },
  {
   "cell_type": "markdown",
   "metadata": {},
   "source": [
    "## Segmentação de clientes"
   ]
  },
  {
   "cell_type": "markdown",
   "metadata": {},
   "source": [
    "### Primeira versão da segmentação de clientes"
   ]
  },
  {
   "cell_type": "markdown",
   "metadata": {},
   "source": [
    "Escreva um programa que segmenta clientes com base em suas compras totais.\n",
    "O usuário deve digitar o nome do cliente e suas compras totais, e o programa\n",
    "deve atribuir cada cliente a um segmento: 'Bronze' para compras de até R\\\\$ 1000,\n",
    "'Prata' para compras de até R\\\\$ 5000 e 'Ouro' para compras acima de R\\\\$ 5000.\n",
    "\n",
    "Estruture seu programa da seguinte forma:\n",
    "\n",
    "1. Crie um dicionário vazio para armazenar os clientes e seus segmentos.\n",
    "2. Crie um loop infinito que solicite ao usuário o nome do cliente e suas compras totais.\n",
    "3. Dentro do loop, use uma declaração if para atribuir o segmento apropriado ao cliente.\n",
    "4. Se o usuário digitar 'sair' para o nome do cliente, encerre o loop usando break.\n",
    "5. Fora do loop, use um loop for para imprimir o nome e o segmento de cada cliente.\n",
    "\n",
    "Exemplo de saída:\n",
    "    \n",
    "```\n",
    "Digite o nome do cliente (ou 'sair' para sair): João\n",
    "Digite o total de compras: 100\n",
    "Digite o nome do cliente (ou 'sair' para sair): Maria\n",
    "Digite o total de compras: 2000\n",
    "Digite o nome do cliente (ou 'sair' para sair): José\n",
    "Digite o total de compras: 6000\n",
    "Digite o nome do cliente (ou 'sair' para sair): sair\n",
    "João: Segmento do Cliente = Bronze\n",
    "Maria: Segmento do Cliente = Prata\n",
    "José: Segmento do Cliente = Ouro\n",
    "```\n"
   ]
  },
  {
   "cell_type": "code",
   "execution_count": null,
   "metadata": {},
   "outputs": [],
   "source": [
    "# solução"
   ]
  },
  {
   "cell_type": "markdown",
   "metadata": {},
   "source": [
    "### Segunda versão da segmentação de clientes"
   ]
  },
  {
   "cell_type": "markdown",
   "metadata": {},
   "source": [
    "\n",
    "Mantenha a mesma funcionalidade do programa anterior, mas agora valide a entrada do usuário.\n",
    "Se o usuário digitar um valor inválido para compras, mostre a mensagem\n",
    "\"Entrada inválida. Por favor, digite um número para compras.\" e peça para o usuário digitar\n",
    "novamente. Tal validação deve ser feita usando try/except.\n",
    "\n",
    "Além disso, ao invés de deixar os limites de compras fixos no programa, armazene-os em uma\n",
    "lista de tuplas. Por exemplo:\n",
    "\n",
    "```python\n",
    "segmentos = [(1000, 'Bronze'), (5000, 'Prata'), (float('inf'), 'Ouro')]\n",
    "``` \n",
    "\n",
    "Assim, outros segmentos podem ser adicionados facilmente. O primeiro elemento da tupla é o\n",
    "limite de compras e o segundo é o nome do segmento. O último elemento da lista é uma tupla\n",
    "com limite `float('inf')`, que representa o segmento Ouro. Isso significa que, se o valor de\n",
    "compras for maior que todos os limites, o segmento será Ouro.\n",
    "\n",
    "Depois, percorra essa lista e, para cada tupla, verifique se o valor de compras é menor ou igual\n",
    "ao limite. Se for, armazene o segmento em um dicionário. Por exemplo, se o usuário digitar\n",
    "\"João\" e \"500\" para compras, o dicionário deve ficar assim:\n",
    "`{'João': 'Bronze'}`\n"
   ]
  },
  {
   "cell_type": "code",
   "execution_count": null,
   "metadata": {},
   "outputs": [],
   "source": [
    "# solução"
   ]
  },
  {
   "cell_type": "markdown",
   "metadata": {},
   "source": [
    "### Terceira versão da segmentação de clientes"
   ]
  },
  {
   "cell_type": "markdown",
   "metadata": {},
   "source": [
    "Mantenha a funcionalidade do programa, mas agora use funções para organizar o código. Crie funções para cada uma das operações: `solicitar_nome_cliente`, `solicitar_total_compras` e `atribuir_segmento` e `print_segmento_por_cliente`. O programa deve continuar funcionando da mesma forma, mas agora o código deve estar organizado em funções. Além disso, normalize que todos os nomes sejam armazenados em letras minúsculas."
   ]
  },
  {
   "cell_type": "code",
   "execution_count": null,
   "metadata": {},
   "outputs": [],
   "source": [
    "# solução\n"
   ]
  },
  {
   "cell_type": "markdown",
   "metadata": {},
   "source": [
    "## Analisador de texto"
   ]
  },
  {
   "cell_type": "markdown",
   "metadata": {},
   "source": [
    "Crie um programa que analise um texto fornecido pelo usuário.\n",
    "O programa deve contar o número de palavras (independentemente se há repetição ou não),\n",
    "a quantidade de cada palavra e a\n",
    "quantidade de cada letra. Ignore maiúsculas e minúsculas ao contar letras.\n",
    "Não se preocupe com pontuação e espaços ao contar palavras.\n",
    "\n",
    "O programa deve conter uma função chamada `analisar_texto` que recebe o texto\n",
    "como parâmetro e retorna a contagem de palavras, a frequência de palavras e a\n",
    "frequência de letras.\n",
    "\n",
    "Para o texto \"Olá mundo! Este é um teste. Olá novamente.\" o programa deve\n",
    "imprimir:\n",
    "    \n",
    "```\n",
    "Contagem de palavras: 8\n",
    "Frequência de palavras: {'Olá': 2, 'mundo!': 1, 'Este': 1, 'é': 1, 'um': 1, 'teste.': 1, 'novamente.': 1}\n",
    "Frequência de letras: {'o': 4, 'l': 2, 'á': 2, 'm': 3, 'u': 2, 'n': 3, 'd': 1, '!': 1, 'e': 6, 's': 2, 't': 4, 'é': 1, '.': 2, 'v': 1, 'a': 1}\n",
    "```\n",
    "\n",
    "**Observação**: Mais adiante no curso, aprenderemos a lidar com a pontuação."
   ]
  },
  {
   "cell_type": "code",
   "execution_count": null,
   "metadata": {},
   "outputs": [],
   "source": [
    "# solução\n"
   ]
  }
 ],
 "metadata": {
  "kernelspec": {
   "display_name": "base",
   "language": "python",
   "name": "python3"
  },
  "language_info": {
   "codemirror_mode": {
    "name": "ipython",
    "version": 3
   },
   "file_extension": ".py",
   "mimetype": "text/x-python",
   "name": "python",
   "nbconvert_exporter": "python",
   "pygments_lexer": "ipython3",
   "version": "3.11.5"
  }
 },
 "nbformat": 4,
 "nbformat_minor": 2
}
