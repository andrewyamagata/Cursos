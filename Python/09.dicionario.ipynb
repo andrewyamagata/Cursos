{
 "cells": [
  {
   "cell_type": "markdown",
   "metadata": {},
   "source": [
    "## Dicionários"
   ]
  },
  {
   "cell_type": "code",
   "execution_count": 1,
   "metadata": {},
   "outputs": [],
   "source": [
    "mais_vendidos = {'tecnologia': 'iphone', 'refrigeracao': 'ar consul 12000 btu', 'livros': 'o alquimista', 'eletrodoméstico': 'geladeira', 'lazer': 'prancha surf'}\n",
    "\n",
    "vendas_tecnologia = {'iphone': 15000, 'samsung galaxy': 12000, 'tv samsung': 10000, 'ps5': 14300, 'tablet': 1720, 'ipad': 1000, 'tv philco': 2500, 'notebook hp': 1000, 'notebook dell': 17000, 'notebook asus': 2450}"
   ]
  },
  {
   "cell_type": "code",
   "execution_count": 5,
   "metadata": {},
   "outputs": [
    {
     "name": "stdout",
     "output_type": "stream",
     "text": [
      "2450\n",
      "1000\n",
      "15000\n"
     ]
    }
   ],
   "source": [
    "qtde_iphone = vendas_tecnologia['iphone']\n",
    "qtde_noteasus = vendas_tecnologia['notebook asus']\n",
    "qtde_ipad = vendas_tecnologia['ipad']\n",
    "\n",
    "print(qtde_noteasus)\n",
    "print(qtde_ipad)\n",
    "print(qtde_iphone)"
   ]
  },
  {
   "cell_type": "code",
   "execution_count": 3,
   "metadata": {},
   "outputs": [
    {
     "name": "stdout",
     "output_type": "stream",
     "text": [
      "o alquimista\n",
      "prancha surf\n"
     ]
    }
   ],
   "source": [
    "livro = mais_vendidos['livros']\n",
    "lazer = mais_vendidos['lazer']\n",
    "\n",
    "print(livro)\n",
    "print(lazer)"
   ]
  },
  {
   "cell_type": "code",
   "execution_count": 10,
   "metadata": {},
   "outputs": [
    {
     "name": "stdout",
     "output_type": "stream",
     "text": [
      "2450\n",
      "1000\n",
      "Vendemos 1000 ipad\n"
     ]
    }
   ],
   "source": [
    "print(vendas_tecnologia.get('notebook asus'))\n",
    "print(vendas_tecnologia.get('ipad'))\n",
    "print('Vendemos {} ipad'.format(vendas_tecnologia.get('ipad')))"
   ]
  },
  {
   "cell_type": "code",
   "execution_count": 12,
   "metadata": {},
   "outputs": [
    {
     "name": "stdout",
     "output_type": "stream",
     "text": [
      "Copo não está dentro da lista\n",
      "Copo não está dentro da lista de tecnologia\n"
     ]
    }
   ],
   "source": [
    "if 'copo' in vendas_tecnologia:\n",
    "    print(vendas_tecnologia['copo'])\n",
    "else:\n",
    "    print('Copo não está dentro da lista')\n",
    "\n",
    "\n",
    "if vendas_tecnologia.get('copo') == None:\n",
    "    print('Copo não está dentro da lista de tecnologia')\n",
    "else:\n",
    "    print(vendas_tecnologia.get('copo'))"
   ]
  },
  {
   "cell_type": "markdown",
   "metadata": {},
   "source": [
    "#### Adicionar, Remover e Modificar itens no Dicionário"
   ]
  },
  {
   "cell_type": "markdown",
   "metadata": {},
   "source": [
    "dicionario = {}\n",
    "\n",
    "dicionario[chave] = valor\n",
    "\n",
    "outra opção:\n",
    "\n",
    "dicionario.update({chave: valor, chave: valor})"
   ]
  },
  {
   "cell_type": "code",
   "execution_count": 25,
   "metadata": {},
   "outputs": [
    {
     "name": "stdout",
     "output_type": "stream",
     "text": [
      "{'janeiro': 100000, 'fevereiro': 120000, 'março': 90000}\n",
      "{'janeiro': 88000, 'fevereiro': 120000, 'março': 90000, 'abril': 90000}\n",
      "{'janeiro': 88000, 'fevereiro': 120000, 'março': 90000, 'abril': 88000, 'maio': 89000, 'junho': 120000}\n"
     ]
    }
   ],
   "source": [
    "lucro_1_tri = {'janeiro': 100000, 'fevereiro': 120000, 'março': 90000}\n",
    "lucro_2_tri = {'abril': 88000, 'maio': 89000, 'junho': 120000}\n",
    "\n",
    "print(lucro_1_tri)\n",
    "\n",
    "lucro_1_tri['janeiro'] = 88000\n",
    "\n",
    "lucro_1_tri['abril'] = 90000\n",
    "print(lucro_1_tri)\n",
    "\n",
    "lucro_1_tri.update(lucro_2_tri)\n",
    "print(lucro_1_tri)"
   ]
  },
  {
   "cell_type": "code",
   "execution_count": 5,
   "metadata": {},
   "outputs": [
    {
     "name": "stdout",
     "output_type": "stream",
     "text": [
      "{'janeiro': 88000, 'fevereiro': 50000, 'março': 90000, 'abril': 88000, 'maio': 89000, 'junho': 120000}\n"
     ]
    }
   ],
   "source": [
    "lucro_fev = 50000\n",
    "\n",
    "lucro_1_tri['fevereiro'] = lucro_fev\n",
    "\n",
    "print(lucro_1_tri)"
   ]
  },
  {
   "cell_type": "markdown",
   "metadata": {},
   "source": [
    "del dicionario[chave]\n",
    "\n",
    "outra opção:\n",
    "\n",
    "valor = dicionario.pop(chave)\n",
    "\n",
    "mas cuidado:\n",
    "del dicionario é diferente de dicionario.clear()"
   ]
  },
  {
   "cell_type": "code",
   "execution_count": null,
   "metadata": {},
   "outputs": [
    {
     "name": "stdout",
     "output_type": "stream",
     "text": [
      "{'janeiro': 88000, 'fevereiro': 120000, 'março': 90000, 'abril': 88000, 'maio': 89000}\n",
      "{'janeiro': 88000, 'fevereiro': 120000, 'março': 90000, 'abril': 88000}\n",
      "89000\n"
     ]
    }
   ],
   "source": [
    "del lucro_1_tri['junho']\n",
    "print(lucro_1_tri)\n",
    "\n",
    "# ou você pode tirar dessa forma:\n",
    "\n",
    "lucro_maio = lucro_1_tri.pop('maio')\n",
    "print(lucro_1_tri)\n",
    "print(lucro_maio)\n"
   ]
  },
  {
   "cell_type": "markdown",
   "metadata": {},
   "source": [
    "## For nos Dicionarios"
   ]
  },
  {
   "cell_type": "markdown",
   "metadata": {},
   "source": [
    "for chave in dicionario:\n",
    "    faça alguma coisa"
   ]
  },
  {
   "cell_type": "code",
   "execution_count": 32,
   "metadata": {},
   "outputs": [
    {
     "name": "stdout",
     "output_type": "stream",
     "text": [
      "iphone com 15000 unidades\n",
      "samsung galaxy com 12000 unidades\n",
      "tv samsung com 10000 unidades\n",
      "ps5 com 14300 unidades\n",
      "tablet com 1720 unidades\n",
      "ipad com 1000 unidades\n",
      "tv philco com 2500 unidades\n",
      "notebook hp com 1000 unidades\n",
      "notebook dell com 17000 unidades\n",
      "notebook asus com 2450 unidades\n"
     ]
    }
   ],
   "source": [
    "vendas_tecnologia = {'iphone': 15000, 'samsung galaxy': 12000, 'tv samsung': 10000, 'ps5': 14300, 'tablet': 1720, 'ipad': 1000, 'tv philco': 2500, 'notebook hp': 1000, 'notebook dell': 17000, 'notebook asus': 2450}\n",
    "\n",
    "for chave in vendas_tecnologia:\n",
    "    print('{} com {} unidades'.format(chave,vendas_tecnologia[chave]))"
   ]
  },
  {
   "cell_type": "code",
   "execution_count": 33,
   "metadata": {},
   "outputs": [
    {
     "name": "stdout",
     "output_type": "stream",
     "text": [
      "20450\n"
     ]
    }
   ],
   "source": [
    "total_notebook = 0\n",
    "\n",
    "for chave in vendas_tecnologia:\n",
    "    if 'notebook' in chave:\n",
    "        total_notebook += vendas_tecnologia[chave]\n",
    "print(total_notebook)"
   ]
  }
 ],
 "metadata": {
  "kernelspec": {
   "display_name": "base",
   "language": "python",
   "name": "python3"
  },
  "language_info": {
   "codemirror_mode": {
    "name": "ipython",
    "version": 3
   },
   "file_extension": ".py",
   "mimetype": "text/x-python",
   "name": "python",
   "nbconvert_exporter": "python",
   "pygments_lexer": "ipython3",
   "version": "3.11.5"
  }
 },
 "nbformat": 4,
 "nbformat_minor": 2
}
