{
 "cells": [
  {
   "cell_type": "markdown",
   "metadata": {},
   "source": [
    "## Dicionários"
   ]
  },
  {
   "cell_type": "code",
   "execution_count": 1,
   "metadata": {},
   "outputs": [],
   "source": [
    "mais_vendidos = {'tecnologia': 'iphone', 'refrigeracao': 'ar consul 12000 btu', 'livros': 'o alquimista', 'eletrodoméstico': 'geladeira', 'lazer': 'prancha surf'}\n",
    "\n",
    "vendas_tecnologia = {'iphone': 15000, 'samsung galaxy': 12000, 'tv samsung': 10000, 'ps5': 14300, 'tablet': 1720, 'ipad': 1000, 'tv philco': 2500, 'notebook hp': 1000, 'notebook dell': 17000, 'notebook asus': 2450}"
   ]
  },
  {
   "cell_type": "code",
   "execution_count": 5,
   "metadata": {},
   "outputs": [
    {
     "name": "stdout",
     "output_type": "stream",
     "text": [
      "2450\n",
      "1000\n",
      "15000\n"
     ]
    }
   ],
   "source": [
    "qtde_iphone = vendas_tecnologia['iphone']\n",
    "qtde_noteasus = vendas_tecnologia['notebook asus']\n",
    "qtde_ipad = vendas_tecnologia['ipad']\n",
    "\n",
    "print(qtde_noteasus)\n",
    "print(qtde_ipad)\n",
    "print(qtde_iphone)"
   ]
  },
  {
   "cell_type": "code",
   "execution_count": 3,
   "metadata": {},
   "outputs": [
    {
     "name": "stdout",
     "output_type": "stream",
     "text": [
      "o alquimista\n",
      "prancha surf\n"
     ]
    }
   ],
   "source": [
    "livro = mais_vendidos['livros']\n",
    "lazer = mais_vendidos['lazer']\n",
    "\n",
    "print(livro)\n",
    "print(lazer)"
   ]
  },
  {
   "cell_type": "code",
   "execution_count": 10,
   "metadata": {},
   "outputs": [
    {
     "name": "stdout",
     "output_type": "stream",
     "text": [
      "2450\n",
      "1000\n",
      "Vendemos 1000 ipad\n"
     ]
    }
   ],
   "source": [
    "print(vendas_tecnologia.get('notebook asus'))\n",
    "print(vendas_tecnologia.get('ipad'))\n",
    "print('Vendemos {} ipad'.format(vendas_tecnologia.get('ipad')))"
   ]
  },
  {
   "cell_type": "code",
   "execution_count": 12,
   "metadata": {},
   "outputs": [
    {
     "name": "stdout",
     "output_type": "stream",
     "text": [
      "Copo não está dentro da lista\n",
      "Copo não está dentro da lista de tecnologia\n"
     ]
    }
   ],
   "source": [
    "if 'copo' in vendas_tecnologia:\n",
    "    print(vendas_tecnologia['copo'])\n",
    "else:\n",
    "    print('Copo não está dentro da lista')\n",
    "\n",
    "\n",
    "if vendas_tecnologia.get('copo') == None:\n",
    "    print('Copo não está dentro da lista de tecnologia')\n",
    "else:\n",
    "    print(vendas_tecnologia.get('copo'))"
   ]
  },
  {
   "cell_type": "markdown",
   "metadata": {},
   "source": [
    "#### Adicionar, Remover e Modificar itens no Dicionário"
   ]
  }
 ],
 "metadata": {
  "kernelspec": {
   "display_name": "base",
   "language": "python",
   "name": "python3"
  },
  "language_info": {
   "codemirror_mode": {
    "name": "ipython",
    "version": 3
   },
   "file_extension": ".py",
   "mimetype": "text/x-python",
   "name": "python",
   "nbconvert_exporter": "python",
   "pygments_lexer": "ipython3",
   "version": "3.11.5"
  }
 },
 "nbformat": 4,
 "nbformat_minor": 2
}
