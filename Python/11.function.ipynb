{
 "cells": [
  {
   "cell_type": "markdown",
   "metadata": {},
   "source": [
    "# Function Python\n",
    "\n",
    "### O que é?\n",
    "\n",
    "As functions são blocos de código que servem 1 único propósito, fazem uma ação específica.\n",
    "\n",
    "### Estrutura Básica"
   ]
  },
  {
   "cell_type": "markdown",
   "metadata": {},
   "source": [
    "def nome_funcao():\n",
    "    faça alguma coisa\n",
    "    faça outra coisa\n",
    "    return valor_final"
   ]
  },
  {
   "cell_type": "markdown",
   "metadata": {},
   "source": [
    "- Exemplo: vamos criar uma função de cadastro de um Produto. Essa função deve garantir que o produto cadastrado está em letra minúscula."
   ]
  },
  {
   "cell_type": "code",
   "execution_count": 1,
   "metadata": {},
   "outputs": [
    {
     "name": "stdout",
     "output_type": "stream",
     "text": [
      "Produto feijao cadastrado\n"
     ]
    }
   ],
   "source": [
    "produto = input('Digite o nome do produto')\n",
    "produto = produto.casefold()\n",
    "print('Produto {} cadastrado'.format(produto))"
   ]
  },
  {
   "cell_type": "code",
   "execution_count": 6,
   "metadata": {},
   "outputs": [],
   "source": [
    "def cadastrar_produto():\n",
    "    produto = input('Digite o nome do produto')\n",
    "    produto = produto.casefold()\n",
    "    produto = produto.strip()\n",
    "    print(produto)"
   ]
  },
  {
   "cell_type": "code",
   "execution_count": 7,
   "metadata": {},
   "outputs": [
    {
     "name": "stdout",
     "output_type": "stream",
     "text": [
      "feiajo\n",
      "arroz\n",
      "maça\n"
     ]
    }
   ],
   "source": [
    "for i in range(3):\n",
    "    cadastrar_produto()"
   ]
  },
  {
   "cell_type": "code",
   "execution_count": 8,
   "metadata": {},
   "outputs": [
    {
     "name": "stdout",
     "output_type": "stream",
     "text": [
      "feijao\n"
     ]
    }
   ],
   "source": [
    "def cadastrar_produto2():\n",
    "    produto2 = input('Digite o nome do produto')\n",
    "    produto2 = produto2.casefold()\n",
    "    produto2 = produto2.strip()\n",
    "    return produto2\n",
    "\n",
    "variavel_produto = cadastrar_produto2()\n",
    "\n",
    "print(variavel_produto)"
   ]
  },
  {
   "cell_type": "markdown",
   "metadata": {},
   "source": [
    "### Argumentos/Parâmetros"
   ]
  },
  {
   "cell_type": "code",
   "execution_count": 1,
   "metadata": {},
   "outputs": [
    {
     "name": "stdout",
     "output_type": "stream",
     "text": [
      "60\n"
     ]
    }
   ],
   "source": [
    "def minha_soma(num1,num2,num3):\n",
    "    return num1 + num2 + num3\n",
    "\n",
    "soma = minha_soma(10,20,30)\n",
    "\n",
    "print(soma)"
   ]
  },
  {
   "cell_type": "code",
   "execution_count": 2,
   "metadata": {},
   "outputs": [
    {
     "name": "stdout",
     "output_type": "stream",
     "text": [
      "Enviar beb46275 para bebidas alcoólicas\n",
      "Enviar BEB21365 para bebidas alcoólicas\n",
      "Enviar BEB31623 para bebidas alcoólicas\n",
      "Enviar BEB73344 para bebidas alcoólicas\n",
      "Enviar BEB80694 para bebidas alcoólicas\n",
      "Enviar BEB19495 para bebidas alcoólicas\n",
      "Enviar BEB97471 para bebidas alcoólicas\n",
      "Enviar BEB62362 para bebidas alcoólicas\n",
      "Enviar BEB85146 para bebidas alcoólicas\n",
      "Enviar BEB48898 para bebidas alcoólicas\n",
      "Enviar BEB79496 para bebidas alcoólicas\n",
      "Enviar BEB15385 para bebidas alcoólicas\n",
      "Enviar BEB24213 para bebidas alcoólicas\n",
      "Enviar BEB56262 para bebidas alcoólicas\n",
      "Enviar BEB75073 para bebidas alcoólicas\n"
     ]
    }
   ],
   "source": [
    "def alcoolico(bebida):\n",
    "    bebida = bebida.upper()\n",
    "    if 'BEB' in bebida:\n",
    "        return True\n",
    "    else:\n",
    "        False\n",
    "\n",
    "\n",
    "produtos = ['beb46275','TFA23962','TFA64715','TFA69555','TFA56743','BSA45510','TFA44968','CAR75448','CAR23596','CAR13490','BEB21365','BEB31623','BSA62419','BEB73344','TFA20079','BEB80694','BSA11769','BEB19495','TFA14792','TFA78043','BSA33484','BEB97471','BEB62362','TFA27311','TFA17715','BEB85146','BEB48898','BEB79496','CAR38417','TFA19947','TFA58799','CAR94811','BSA59251','BEB15385','BEB24213','BEB56262','BSA96915','CAR53454','BEB75073']\n",
    "\n",
    "for produto in produtos:\n",
    "    if alcoolico(produto):\n",
    "        print('Enviar {} para bebidas alcoólicas'.format(produto))"
   ]
  },
  {
   "cell_type": "code",
   "execution_count": 6,
   "metadata": {},
   "outputs": [
    {
     "name": "stdout",
     "output_type": "stream",
     "text": [
      "Enviar beb46275 para bebidas alcólicas\n",
      "Enviar TFA23962 para bebidas importadas\n",
      "Enviar TFA64715 para bebidas importadas\n",
      "Enviar TFA69555 para bebidas importadas\n",
      "Enviar TFA56743 para bebidas importadas\n",
      "Enviar BSA45510 para bebidas não alcólicas\n",
      "Enviar TFA44968 para bebidas importadas\n",
      "Enviar BEB21365 para bebidas alcólicas\n",
      "Enviar BEB31623 para bebidas alcólicas\n",
      "Enviar BSA62419 para bebidas não alcólicas\n",
      "Enviar BEB73344 para bebidas alcólicas\n",
      "Enviar TFA20079 para bebidas importadas\n",
      "Enviar BEB80694 para bebidas alcólicas\n",
      "Enviar BSA11769 para bebidas não alcólicas\n",
      "Enviar BEB19495 para bebidas alcólicas\n",
      "Enviar TFA14792 para bebidas importadas\n",
      "Enviar TFA78043 para bebidas importadas\n",
      "Enviar BSA33484 para bebidas não alcólicas\n",
      "Enviar BEB97471 para bebidas alcólicas\n",
      "Enviar BEB62362 para bebidas alcólicas\n",
      "Enviar TFA27311 para bebidas importadas\n",
      "Enviar TFA17715 para bebidas importadas\n",
      "Enviar BEB85146 para bebidas alcólicas\n",
      "Enviar BEB48898 para bebidas alcólicas\n",
      "Enviar BEB79496 para bebidas alcólicas\n",
      "Enviar TFA19947 para bebidas importadas\n",
      "Enviar TFA58799 para bebidas importadas\n",
      "Enviar BSA59251 para bebidas não alcólicas\n",
      "Enviar BEB15385 para bebidas alcólicas\n",
      "Enviar BEB24213 para bebidas alcólicas\n",
      "Enviar BEB56262 para bebidas alcólicas\n",
      "Enviar BSA96915 para bebidas não alcólicas\n",
      "Enviar BEB75073 para bebidas alcólicas\n"
     ]
    }
   ],
   "source": [
    "def tem_categoria(bebida, cod_categoria):\n",
    "    bebida = bebida.upper()\n",
    "    if cod_categoria in bebida:\n",
    "        return True\n",
    "    else:\n",
    "        False\n",
    "\n",
    "\n",
    "produtos = ['beb46275','TFA23962','TFA64715','TFA69555','TFA56743','BSA45510','TFA44968','CAR75448','CAR23596','CAR13490','BEB21365','BEB31623','BSA62419','BEB73344','TFA20079','BEB80694','BSA11769','BEB19495','TFA14792','TFA78043','BSA33484','BEB97471','BEB62362','TFA27311','TFA17715','BEB85146','BEB48898','BEB79496','CAR38417','TFA19947','TFA58799','CAR94811','BSA59251','BEB15385','BEB24213','BEB56262','BSA96915','CAR53454','BEB75073']\n",
    "\n",
    "for produto in produtos:\n",
    "    if tem_categoria(cod_categoria='BEB',bebida=produto):\n",
    "        print('Enviar {} para bebidas alcólicas'.format(produto))\n",
    "    elif tem_categoria(produto, 'BSA'):\n",
    "        print('Enviar {} para bebidas não alcólicas'.format(produto))\n",
    "    elif tem_categoria(produto, cod_categoria='TFA'):\n",
    "        print('Enviar {} para bebidas importadas'.format(produto))"
   ]
  },
  {
   "cell_type": "code",
   "execution_count": 9,
   "metadata": {},
   "outputs": [
    {
     "name": "stdout",
     "output_type": "stream",
     "text": [
      "Quantidade total:\n",
      "39\n",
      "texto2\n",
      "texto3\n"
     ]
    }
   ],
   "source": [
    "qtd_produtos = len(produtos)\n",
    "print('Quantidade total:',qtd_produtos,'texto2','texto3',sep='\\n') # parâmetro por último sep = separador por espaço"
   ]
  },
  {
   "cell_type": "markdown",
   "metadata": {},
   "source": [
    "# Exercícios\n",
    "\n",
    "Para fazer um treino simples antes de avançarmos em mais functions, vamos criar uma function que resolve 1 \"desafio simples\"\n",
    "\n",
    "## 1. Function para Cálculo de Carga Tributária\n",
    "\n",
    "(Lembrando, não se atente ao funcionamento real da carga tributária, é apenas um exemplo imaginário para treinarmos as functions com algo mais prático)\n",
    "\n",
    "Imagine que você trabalha no setor contábil de uma grande empresa de Varejo. \n",
    "\n",
    "Crie uma function que calcule qual o % de carga tributária que está sendo aplicado sobre um determinado produto, dado o preço de venda, o \"lucro\" e os custos (com exceção do imposto) dele."
   ]
  },
  {
   "cell_type": "code",
   "execution_count": 11,
   "metadata": {},
   "outputs": [],
   "source": [
    "preco = 1500\n",
    "custo = 400\n",
    "lucro = 800"
   ]
  },
  {
   "cell_type": "code",
   "execution_count": 12,
   "metadata": {},
   "outputs": [],
   "source": [
    "def carga_tributaria(preco, custo, lucro):\n",
    "    imposto = preco - custo - lucro\n",
    "    return imposto / preco"
   ]
  },
  {
   "cell_type": "code",
   "execution_count": 13,
   "metadata": {},
   "outputs": [
    {
     "name": "stdout",
     "output_type": "stream",
     "text": [
      "A carga tributaria foi de 20.00%\n"
     ]
    }
   ],
   "source": [
    "print('A carga tributaria foi de {:.2%}'.format(carga_tributaria(preco,custo,lucro)))"
   ]
  },
  {
   "cell_type": "markdown",
   "metadata": {},
   "source": [
    "### Exemplos de parâmetros"
   ]
  },
  {
   "cell_type": "code",
   "execution_count": 6,
   "metadata": {},
   "outputs": [],
   "source": [
    "def eh_da_categoria(bebida, cod_categoria):\n",
    "    bebida = bebida.upper()\n",
    "    if cod_categoria in bebida:\n",
    "        return True\n",
    "    else:\n",
    "        return False"
   ]
  },
  {
   "cell_type": "code",
   "execution_count": 7,
   "metadata": {},
   "outputs": [
    {
     "name": "stdout",
     "output_type": "stream",
     "text": [
      "BEB123O3\n",
      "[750, 450, 400, 250, 223, 100, 20, 10]\n",
      "[750, 450, 400, 250, 223, 100, 20, 10, 500, 1555]\n",
      "É uma bebida\n"
     ]
    }
   ],
   "source": [
    "# texto para upper\n",
    "cod_produto = 'beb123o3'\n",
    "print(cod_produto.upper())\n",
    "\n",
    "#lista para sort e extend\n",
    "vendas_ano = [100, 20, 400, 750, 10, 223, 450, 250]\n",
    "vendas_nov_dez = [500, 1555]\n",
    "\n",
    "vendas_ano.sort(reverse=True) #ordem decrescente\n",
    "print(vendas_ano)\n",
    "\n",
    "vendas_ano.extend(vendas_nov_dez)\n",
    "print(vendas_ano)\n",
    "\n",
    "if eh_da_categoria(cod_produto,'BEB'):\n",
    "    print('É uma bebida')"
   ]
  },
  {
   "cell_type": "code",
   "execution_count": 1,
   "metadata": {},
   "outputs": [],
   "source": [
    "produtos = ['apple tv', 'mac', 'iphone x', 'IPad', 'apple watch', 'mac book', 'airpods']"
   ]
  },
  {
   "cell_type": "code",
   "execution_count": 4,
   "metadata": {},
   "outputs": [
    {
     "name": "stdout",
     "output_type": "stream",
     "text": [
      "['ABC12', 'ABC34', 'ABC37']\n"
     ]
    }
   ],
   "source": [
    "def padronizar_codigo(lista_codigo, padrao='M'):\n",
    "    for i, item in enumerate(lista_codigo):\n",
    "        item = item.replace('  ', ' ')\n",
    "        item = item.strip()\n",
    "        if padrao == 'm':\n",
    "            item = item.casefold()\n",
    "        elif padrao == 'M':\n",
    "            item = item.upper()\n",
    "        lista_codigo[i] = item\n",
    "    return lista_codigo\n",
    "\n",
    "\n",
    "cod_produto = ['  ABC12 ', 'abc34', 'AbC37 ']\n",
    "print(padronizar_codigo(cod_produto,'M'))"
   ]
  }
 ],
 "metadata": {
  "kernelspec": {
   "display_name": "base",
   "language": "python",
   "name": "python3"
  },
  "language_info": {
   "codemirror_mode": {
    "name": "ipython",
    "version": 3
   },
   "file_extension": ".py",
   "mimetype": "text/x-python",
   "name": "python",
   "nbconvert_exporter": "python",
   "pygments_lexer": "ipython3",
   "version": "3.11.5"
  }
 },
 "nbformat": 4,
 "nbformat_minor": 2
}
