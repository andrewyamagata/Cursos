{
 "cells": [
  {
   "cell_type": "markdown",
   "id": "16116352",
   "metadata": {},
   "source": [
    "## Anatomia de uma figura do Matplotlib"
   ]
  },
  {
   "cell_type": "markdown",
   "id": "eeb0df89",
   "metadata": {},
   "source": [
    "![Screenshot 2023-07-11 144347.png](attachment:541b102b-c7bc-4b44-8e23-a25043e889a5.png) | \n",
    "-"
   ]
  },
  {
   "cell_type": "markdown",
   "id": "67b881b4",
   "metadata": {},
   "source": [
    "Figura completa da documentação: https://matplotlib.org/stable/gallery/showcase/anatomy.html"
   ]
  },
  {
   "cell_type": "markdown",
   "id": "9041caa9",
   "metadata": {},
   "source": [
    "![anatomia](https://matplotlib.org/stable/_images/sphx_glr_anatomy_001.png) |\n",
    "-"
   ]
  },
  {
   "cell_type": "markdown",
   "id": "c7a86992",
   "metadata": {},
   "source": [
    "A figura de anatomia do Matplotlib é uma representação visual que mostra as várias partes ou componentes de um gráfico Matplotlib. Aqui estão os principais componentes:\n",
    "\n",
    "1. **Figura (Figure)**: A figura é a área total na qual tudo é desenhado. Pense nela como a tela na qual você desenha seus gráficos. Uma figura pode conter um ou mais gráficos (ou \"eixos\").\n",
    "\n",
    "2. **Eixos (Axes)**: Um eixo é o que você normalmente pensa como 'um gráfico'. É uma região da figura onde os dados são plotados. Uma figura pode conter vários eixos, mas um eixo pertence a apenas uma figura. Cada eixo tem um título, um rótulo para o eixo x e um rótulo para o eixo y.\n",
    "\n",
    "3. **Eixo (Axis)**: Os eixos são as linhas de número que marcam os limites do seu gráfico. Eles indicam valores para os pontos de dados. Cada eixo tem um rótulo principal (o título do eixo) e rótulos secundários (para indicar valores individuais).\n",
    "\n",
    "4. **Marcações (Ticks)**: As marcações são as pequenas linhas ou pontos no eixo que indicam valores individuais. As marcações principais são as maiores e geralmente têm um rótulo numérico, enquanto as marcações secundárias são menores e muitas vezes não têm rótulo.\n",
    "\n",
    "5. **Rótulos (Labels)**: Os rótulos são textos que fornecem informações sobre o gráfico. Isso inclui o título do gráfico, os rótulos dos eixos x e y, e os rótulos das marcações.\n",
    "\n",
    "6. **Legenda (Legend)**: A legenda é um pequeno bloco no gráfico que corresponde aos padrões e cores das linhas ou pontos aos seus respectivos dados.\n",
    "\n",
    "7. **Linha (Line)**: Uma linha é geralmente usada em gráficos de linhas para conectar pontos de dados.\n",
    "\n",
    "8. **Marcadores (Markers)**: Marcadores são símbolos que aparecem em pontos de dados individuais em um gráfico. Eles podem ser círculos, quadrados, triângulos ou muitas outras formas.\n",
    "\n",
    "9. **Grade (Grid)**: A grade é uma série de linhas horizontais e verticais que ajudam a medir os pontos de dados no gráfico.\n",
    "\n",
    "10. **Espinha (Spine)**: A espinha é a linha que delimita a área de dados de um gráfico.\n",
    "\n",
    "Cada um desses componentes tem um papel específico na criação de um gráfico. Compreender esses componentes e como eles se encaixam é fundamental para usar efetivamente o Matplotlib para visualizar seus dados."
   ]
  },
  {
   "cell_type": "markdown",
   "id": "7d86db54",
   "metadata": {},
   "source": [
    "![Screenshot 2023-07-11 142524 2.png](attachment:5c73bd0c-e618-4a57-8cba-898ca6019c8e.png)\n"
   ]
  }
 ],
 "metadata": {
  "kernelspec": {
   "display_name": "Python 3",
   "language": "python",
   "name": "python3"
  },
  "language_info": {
   "name": "python",
   "version": "3.11.9"
  }
 },
 "nbformat": 4,
 "nbformat_minor": 5
}
