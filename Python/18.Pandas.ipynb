{
 "cells": [
  {
   "cell_type": "markdown",
   "metadata": {},
   "source": [
    "# O que é o Pandas e para que serve\n",
    "\n",
    "- Análise de Dados (seja para DataScience, seja para trabalhar de forma integrada com arquivos em Excel e Banco de Dados)\n",
    "- Melhor biblioteca/módulo para trabalhar com quantidades enormes de informações\n",
    "- Uma mistura de listas e dicionários de forma muito eficiente\n",
    "\n",
    "## Resumo\n",
    "\n",
    "Se você trabalha com muitos dados, você vai precisar usar o pandas\n",
    "\n",
    "## Forma de usar"
   ]
  },
  {
   "cell_type": "code",
   "execution_count": 3,
   "metadata": {},
   "outputs": [
    {
     "name": "stdout",
     "output_type": "stream",
     "text": [
      "                                                                Nome da Marca;Tipo;Custo Unitario;Preco Unitario;ID Produto;Categoria\n",
      "Contoso;Econômico;10        69;20                                                 96;873;Acessório para Computador                   \n",
      "Contoso;Econômico;6         63;13;879;Acessório para Computador                                                NaN                   \n",
      "                            63;13;880;Acessório para Computador                                                NaN                   \n",
      "                            63;13;881;Acessório para Computador                                                NaN                   \n",
      "                            63;13;882;Acessório para Computador                                                NaN                   \n",
      "...                                                                                                            ...                   \n",
      "Southridge Video;Regular;82 77;179                                                               99;1602;Filme DVD                   \n",
      "Southridge Video;Regular;73 57;159                                                               99;1606;Filme DVD                   \n",
      "Southridge Video;Regular;82 77;179                                                               99;1607;Filme DVD                   \n",
      "Southridge Video;Regular;73 57;159                                                               99;1611;Filme DVD                   \n",
      "Southridge Video;Regular;82 77;179                                                               99;1612;Filme DVD                   \n",
      "\n",
      "[1690 rows x 1 columns]\n"
     ]
    }
   ],
   "source": [
    "import pandas as pd\n",
    "\n",
    "vendas_df = pd.read_csv(r\"arquivos\\Contoso - Cadastro Produtos.csv\")\n",
    "\n",
    "print(vendas_df)"
   ]
  }
 ],
 "metadata": {
  "kernelspec": {
   "display_name": "Python 3",
   "language": "python",
   "name": "python3"
  },
  "language_info": {
   "codemirror_mode": {
    "name": "ipython",
    "version": 3
   },
   "file_extension": ".py",
   "mimetype": "text/x-python",
   "name": "python",
   "nbconvert_exporter": "python",
   "pygments_lexer": "ipython3",
   "version": "3.11.9"
  }
 },
 "nbformat": 4,
 "nbformat_minor": 4
}
