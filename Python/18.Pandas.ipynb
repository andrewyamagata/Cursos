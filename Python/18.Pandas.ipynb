{
 "cells": [
  {
   "cell_type": "markdown",
   "metadata": {},
   "source": [
    "# O que é o Pandas e para que serve\n",
    "\n",
    "- Análise de Dados (seja para DataScience, seja para trabalhar de forma integrada com arquivos em Excel e Banco de Dados)\n",
    "- Melhor biblioteca/módulo para trabalhar com quantidades enormes de informações\n",
    "- Uma mistura de listas e dicionários de forma muito eficiente\n",
    "\n",
    "## Resumo\n",
    "\n",
    "Se você trabalha com muitos dados, você vai precisar usar o pandas\n",
    "\n",
    "## Forma de usar"
   ]
  },
  {
   "cell_type": "code",
   "execution_count": null,
   "metadata": {},
   "outputs": [],
   "source": [
    "import pandas as pd\n",
    "\n",
    "produto_df = pd.read_csv(r\"C:\\Users\\andre\\OneDrive\\Documentos\\GitHub\\Cursos\\Python\\arquivos\\Contoso - Cadastro Produtos.csv\", encoding=\"ISO-8859-1\", sep=';')\n",
    "\n",
    "produto_df.info()"
   ]
  },
  {
   "cell_type": "code",
   "execution_count": null,
   "metadata": {},
   "outputs": [],
   "source": [
    "import pandas as pd\n",
    "\n",
    "vendas_df = pd.read_csv(r\"arquivos\\Contoso - Vendas - 2017.csv\", sep=';')\n",
    "\n",
    "vendas_df['ID Cliente']"
   ]
  },
  {
   "cell_type": "code",
   "execution_count": null,
   "metadata": {},
   "outputs": [],
   "source": [
    "vendas_df[:3]"
   ]
  },
  {
   "cell_type": "code",
   "execution_count": null,
   "metadata": {},
   "outputs": [],
   "source": [
    "vendas_df[['Numero da Venda', 'Data da Venda', 'ID Produto']]"
   ]
  },
  {
   "cell_type": "code",
   "execution_count": null,
   "metadata": {},
   "outputs": [],
   "source": [
    "vendas_df['ID Produto'][0]"
   ]
  },
  {
   "cell_type": "markdown",
   "metadata": {},
   "source": [
    "## Aplicações"
   ]
  },
  {
   "cell_type": "code",
   "execution_count": null,
   "metadata": {},
   "outputs": [],
   "source": [
    "# Informações da tabela\n",
    "\n",
    "vendas_df.info()"
   ]
  },
  {
   "cell_type": "code",
   "execution_count": null,
   "metadata": {},
   "outputs": [],
   "source": [
    "# Criar uma lista de Clientes\n",
    "\n",
    "lista_clientes = vendas_df['ID Cliente']\n",
    "\n",
    "lista_clientes"
   ]
  },
  {
   "cell_type": "code",
   "execution_count": null,
   "metadata": {},
   "outputs": [],
   "source": [
    "# Criar uma lista com produto e quantidade, pode ser feito de duas formas:\n",
    "\n",
    "# lista_produto = ['ID Produto', 'Quantidade Vendida', 'Quantidade Devolvida']\n",
    "# produtos_quantidades = vendas_df[lista_produto]\n",
    "\n",
    "produtos_quantidades = vendas_df[['ID Produto', 'Quantidade Vendida', 'Quantidade Devolvida']]\n",
    "\n",
    "produtos_quantidades"
   ]
  },
  {
   "cell_type": "code",
   "execution_count": null,
   "metadata": {},
   "outputs": [],
   "source": [
    "import pandas as pd\n",
    "\n",
    "# As vezes precisa mudar o encoding. Possíveis valores para testar:\n",
    "# encoding = 'Latin1', encoding='ISO-8859-1', encoding='utf-8' ou encoding='cp1252'\n",
    "produtos_df = pd.read_csv(r'arquivos\\Contoso - Cadastro Produtos.csv', encoding=\"ISO-8859-1\", sep=';')\n",
    "clientes_df = pd.read_csv(r'arquivos\\Contoso - Clientes.csv', encoding=\"ISO-8859-1\", sep=';')\n",
    "lojas_df = pd.read_csv(r'arquivos\\Contoso - Lojas.csv', encoding=\"ISO-8859-1\", sep=';')\n",
    "promocoes_df = pd.read_csv(r'arquivos\\Contoso - Promocoes.csv', encoding=\"ISO-8859-1\", sep=';')\n",
    "vendas_df = pd.read_csv(r\"arquivos\\Contoso - Vendas - 2017.csv\", sep=';')\n",
    "\n",
    "# Usar o display para ver todos os dataframes\n",
    "display(produtos_df)\n",
    "display(clientes_df)\n",
    "display(lojas_df)\n",
    "display(promocoes_df)\n",
    "display(vendas_df)"
   ]
  },
  {
   "cell_type": "code",
   "execution_count": null,
   "metadata": {},
   "outputs": [],
   "source": [
    "# Tirar as colunas inúteis\n",
    "\n",
    "clientes_df = clientes_df.drop(['Unnamed: 7', 'Unnamed: 8', 'Unnamed: 9', 'Unnamed: 10'], axis=1)\n",
    "display(clientes_df)"
   ]
  },
  {
   "cell_type": "code",
   "execution_count": null,
   "metadata": {},
   "outputs": [],
   "source": [
    "# Ou selecionar as colunas que eu quero\n",
    "produtos_df = produtos_df[['ID Produto', 'ÿNome do Produto']]\n",
    "lojas_df = lojas_df[['ÿID Loja', 'Nome da Loja']]\n",
    "clientes_df = clientes_df[['ÿID Cliente', 'E-mail']]\n",
    "display(clientes_df)"
   ]
  },
  {
   "cell_type": "code",
   "execution_count": null,
   "metadata": {},
   "outputs": [],
   "source": [
    "# Renomear as colunas\n",
    "produtos_df = produtos_df.rename(columns={'ÿNome do Produto': 'Nome do Produto'})\n",
    "display(produtos_df)\n",
    "\n",
    "lojas_df = lojas_df.rename(columns={'ÿID Loja': 'ID Loja'})\n",
    "display(lojas_df)\n",
    "\n",
    "clientes_df.columns = clientes_df.columns.str.replace(\"ÿ\", \"\", regex=False)\n",
    "display(clientes_df)"
   ]
  },
  {
   "cell_type": "code",
   "execution_count": null,
   "metadata": {},
   "outputs": [],
   "source": [
    "display(vendas_df)"
   ]
  },
  {
   "cell_type": "code",
   "execution_count": null,
   "metadata": {},
   "outputs": [],
   "source": [
    "# Juntando os dataframes para ter somente UM dataframe\n",
    "vendas_df = vendas_df.merge(produtos_df, on='ID Produto')\n",
    "vendas_df = vendas_df.merge(clientes_df, on='ID Cliente')\n",
    "vendas_df = vendas_df.merge(lojas_df, on='ID Loja')\n",
    "\n",
    "display(vendas_df)"
   ]
  },
  {
   "cell_type": "code",
   "execution_count": null,
   "metadata": {},
   "outputs": [],
   "source": [
    "frequencia_clientes = vendas_df['E-mail'].value_counts() # quantidade que aparece\n",
    "display(frequencia_clientes)\n",
    "frequencia_clientes[:5].plot(figsize=(15,5)) # os primeiros 5 itens"
   ]
  },
  {
   "cell_type": "code",
   "execution_count": null,
   "metadata": {},
   "outputs": [],
   "source": [
    "frequencia_clientes[:5].plot(figsize=(15,5), yticks=range(68, 78, 2))"
   ]
  },
  {
   "cell_type": "code",
   "execution_count": null,
   "metadata": {},
   "outputs": [],
   "source": [
    "# Agrupando e somando\n",
    "\n",
    "vendas_lojas = vendas_df.groupby('Nome da Loja').sum()\n",
    "vendas_lojas = vendas_lojas[['Quantidade Vendida']]\n",
    "display(vendas_lojas)"
   ]
  },
  {
   "cell_type": "code",
   "execution_count": null,
   "metadata": {},
   "outputs": [],
   "source": [
    "# ordenar o dataframe\n",
    "# Ascending - Crescente:True Decrescente:False\n",
    "vendas_lojas = vendas_lojas.sort_values('Quantidade Vendida', ascending=False)\n",
    "display(vendas_lojas)\n",
    "vendas_lojas[:5].plot(figsize=(15,5), kind='bar')\n",
    "print(vendas_lojas[0:1]) # maior valor\n",
    "print(vendas_lojas[-1:]) # menor valor"
   ]
  },
  {
   "cell_type": "code",
   "execution_count": null,
   "metadata": {},
   "outputs": [],
   "source": [
    "# Pegar o maior valor\n",
    "\n",
    "maior_valor = vendas_lojas['Quantidade Vendida'].max()\n",
    "melhor_loja = vendas_lojas['Quantidade Vendida'].idxmax()\n",
    "print(melhor_loja, maior_valor)"
   ]
  },
  {
   "cell_type": "code",
   "execution_count": null,
   "metadata": {},
   "outputs": [],
   "source": [
    "# Pegar o menor valor\n",
    "\n",
    "menor_valor = vendas_lojas['Quantidade Vendida'].min()\n",
    "pior_loja = vendas_lojas['Quantidade Vendida'].idxmin()\n",
    "print(pior_loja, menor_valor)"
   ]
  },
  {
   "cell_type": "markdown",
   "metadata": {},
   "source": [
    "## Filtrando Informações"
   ]
  },
  {
   "cell_type": "code",
   "execution_count": null,
   "metadata": {},
   "outputs": [],
   "source": [
    "# Percentual das vendas devolvidas\n",
    "qtd_vendida = vendas_df['Quantidade Vendida'].sum()\n",
    "qtd_devolvida = vendas_df['Quantidade Devolvida'].sum()\n",
    "\n",
    "print('{:.2%}'.format(qtd_devolvida/qtd_vendida))"
   ]
  },
  {
   "cell_type": "code",
   "execution_count": null,
   "metadata": {},
   "outputs": [],
   "source": [
    "# Filtrar apenas os itens da Loja Contoso Europe Online - ID 306\n",
    "\n",
    "vendas_loja_contoso_europe_online = vendas_df[vendas_df['ID Loja'] == 306]\n",
    "display(vendas_loja_contoso_europe_online)"
   ]
  },
  {
   "cell_type": "code",
   "execution_count": null,
   "metadata": {},
   "outputs": [],
   "source": [
    "qtd_vendida = vendas_loja_contoso_europe_online['Quantidade Vendida'].sum()\n",
    "qtd_devolvida = vendas_loja_contoso_europe_online['Quantidade Devolvida'].sum()\n",
    "\n",
    "print('{:.2%}'.format(qtd_devolvida/qtd_vendida))"
   ]
  },
  {
   "cell_type": "code",
   "execution_count": null,
   "metadata": {},
   "outputs": [],
   "source": [
    "# vendas_loja_contoso_europe_online = vendas_df[vendas_df['ID Loja'] == 306]\n",
    "\n",
    "loja_306 = vendas_df['ID Loja'] == 306\n",
    "display(loja_306)"
   ]
  },
  {
   "cell_type": "code",
   "execution_count": null,
   "metadata": {},
   "outputs": [],
   "source": [
    "vendas_loja_contoso_europe_online = vendas_df[loja_306]\n",
    "display(vendas_loja_contoso_europe_online)"
   ]
  },
  {
   "cell_type": "code",
   "execution_count": null,
   "metadata": {},
   "outputs": [],
   "source": [
    "# Mais de um filtro\n",
    "df_306_semdevolucao = vendas_df[(vendas_df['ID Loja'] == 306) & (vendas_df['Quantidade Devolvida'] == 0)]\n",
    "display(df_306_semdevolucao)\n",
    "\n",
    "loja306 = vendas_df['ID Loja'] == 306\n",
    "qtd_devolvida_0 = vendas_df['Quantidade Devolvida'] == 0\n",
    "df2_306_semdevolucao = vendas_df[loja306 & qtd_devolvida_0]\n",
    "display(df2_306_semdevolucao)"
   ]
  },
  {
   "cell_type": "code",
   "execution_count": null,
   "metadata": {},
   "outputs": [],
   "source": [
    "vendas_df.info()"
   ]
  },
  {
   "cell_type": "code",
   "execution_count": null,
   "metadata": {},
   "outputs": [],
   "source": [
    "# Coluna Data da Venda em DATA\n",
    "vendas_df['Data da Venda'] = pd.to_datetime(vendas_df['Data da Venda'], format='%d/%m/%Y')\n",
    "\n",
    "# Adicionando colunas\n",
    "vendas_df['Ano da Venda'] = vendas_df['Data da Venda'].dt.year\n",
    "vendas_df['Mes da Venda'] = vendas_df['Data da Venda'].dt.month\n",
    "vendas_df['Dia da Venda'] = vendas_df['Data da Venda'].dt.day\n",
    "display(vendas_df)\n",
    "vendas_df.info()"
   ]
  },
  {
   "cell_type": "markdown",
   "metadata": {},
   "source": [
    "## Método loc e iloc"
   ]
  },
  {
   "cell_type": "code",
   "execution_count": null,
   "metadata": {},
   "outputs": [],
   "source": [
    "novo_produto_df = pd.read_csv(r'arquivos\\Contoso - Cadastro Produtos.csv', encoding=\"ISO-8859-1\", sep=';')\n",
    "display(novo_produto_df.head())"
   ]
  },
  {
   "cell_type": "code",
   "execution_count": null,
   "metadata": {},
   "outputs": [],
   "source": [
    "novo_produto_df = novo_produto_df.rename(columns={'ÿNome do Produto':'Nome do Produto'})\n",
    "display(novo_produto_df.head())"
   ]
  },
  {
   "cell_type": "code",
   "execution_count": null,
   "metadata": {},
   "outputs": [],
   "source": [
    "novo_produto_df.loc[[0,2,5]]"
   ]
  },
  {
   "cell_type": "code",
   "execution_count": null,
   "metadata": {},
   "outputs": [],
   "source": [
    "novo_produto_df = novo_produto_df.set_index('Nome do Produto')\n",
    "display(novo_produto_df)"
   ]
  },
  {
   "cell_type": "code",
   "execution_count": null,
   "metadata": {},
   "outputs": [],
   "source": [
    "# Como foi setado o index, o loc não funciona mais pelo número, mas pelo nome do Produto\n",
    "novo_produto_df.loc['Contoso Wireless Laser Mouse E50 Grey']"
   ]
  },
  {
   "cell_type": "code",
   "execution_count": null,
   "metadata": {},
   "outputs": [],
   "source": [
    "novo_produto_df.loc['Contoso Wireless Laser Mouse E50 Grey', 'Tipo']"
   ]
  },
  {
   "cell_type": "code",
   "execution_count": null,
   "metadata": {},
   "outputs": [],
   "source": [
    "# por iloc número da linha e número da coluna - df.iloc[linha,coluna]\n",
    "print(novo_produto_df.iloc[2,6])"
   ]
  },
  {
   "cell_type": "markdown",
   "metadata": {},
   "source": [
    "### A empresa decidiu aumentar o preço do produto ID 873 (Contoso Wireless Laser Mouse E50 Grey):"
   ]
  },
  {
   "cell_type": "code",
   "execution_count": null,
   "metadata": {},
   "outputs": [],
   "source": [
    "# Primeira forma acessando pelo índice, mudando para R$ 23,00\n",
    "novo_produto_df.loc['Contoso Wireless Laser Mouse E50 Grey', 'Preco Unitario'] = 23\n",
    "novo_produto_df.loc['Contoso Wireless Laser Mouse E50 Grey']"
   ]
  },
  {
   "cell_type": "code",
   "execution_count": null,
   "metadata": {},
   "outputs": [],
   "source": [
    "# Segunda forma acessando por critério, mudando para R$ 25,00\n",
    "novo_produto_df.loc[novo_produto_df['ID Produto'] == 873, 'Preco Unitario'] = 25\n",
    "novo_produto_df.loc['Contoso Wireless Laser Mouse E50 Grey']"
   ]
  },
  {
   "cell_type": "markdown",
   "metadata": {},
   "source": [
    "### Exportando do dataframe para um csv"
   ]
  },
  {
   "cell_type": "code",
   "execution_count": null,
   "metadata": {},
   "outputs": [],
   "source": [
    "vendas_df = vendas_df[['Data da Venda', 'Nome do Produto', 'Nome da Loja', 'Quantidade Vendida', 'ID Loja']]\n",
    "vendas_df_contoso_austin = vendas_df[vendas_df['ID Loja'] == 86]\n",
    "display(vendas_df_contoso_austin)"
   ]
  },
  {
   "cell_type": "code",
   "execution_count": null,
   "metadata": {},
   "outputs": [],
   "source": [
    "vendas_df_contoso_austin.to_csv(r'arquivos\\Novo Vendas 2017.csv', sep=';')"
   ]
  },
  {
   "cell_type": "markdown",
   "metadata": {},
   "source": [
    "### Criando um dicionário, transformando depois em um dataframe"
   ]
  },
  {
   "cell_type": "code",
   "execution_count": null,
   "metadata": {},
   "outputs": [],
   "source": [
    "niveis_co2 = {\n",
    "    'AC': [325,405,429,486,402],\n",
    "    'AL': [492,495,310,407,388],\n",
    "    'AP': [507,503,368,338,400],\n",
    "    'AM': [429,456,352,377,363],\n",
    "    'BA': [321,508,372,490,412],\n",
    "    'CE': [424,328,425,516,480],\n",
    "    'ES': [449,506,461,337,336],\n",
    "    'GO': [425,460,385,485,460],\n",
    "    'MA': [361,310,344,425,490],\n",
    "    'MT': [358,402,425,386,379],\n",
    "    'MS': [324,357,441,405,427],\n",
    "    'MG': [345,367,391,427,516],\n",
    "    'PA': [479,514,392,493,329],\n",
    "    'PB': [418,499,317,302,476],\n",
    "    'PR': [420,508,419,396,327],\n",
    "    'PE': [404,444,495,320,343],\n",
    "    'PI': [513,513,304,377,475],\n",
    "    'RJ': [502,481,492,502,506],\n",
    "    'RN': [446,437,519,356,317],\n",
    "    'RS': [427,518,459,317,321],\n",
    "    'RO': [517,466,512,326,458],\n",
    "    'RR': [466,495,469,495,310],\n",
    "    'SC': [495,436,382,483,479],\n",
    "    'SP': [495,407,362,389,317],\n",
    "    'SE': [508,351,334,389,418],\n",
    "    'TO': [339,490,304,488,419],\n",
    "    'DF': [376,516,320,310,518], \n",
    "}\n",
    "\n",
    "niveis_co2_df = pd.DataFrame.from_dict(niveis_co2, orient='index')\n",
    "niveis_co2_df = niveis_co2_df.rename(columns={0: 'Janeiro', 1: 'Fevereiro', 2: 'Março', 3: 'Abril', 4: 'Maio'})\n",
    "# niveis_co2_df.index.name = 'Estado'   --- colocar título no index, ou fazer na exportação para csv\n",
    "display(niveis_co2_df)\n",
    "niveis_co2_df.to_csv(r'arquivos\\Níveis CO2.csv',encoding='latin1', sep=';', index_label=\"Estado\")"
   ]
  },
  {
   "cell_type": "markdown",
   "metadata": {},
   "source": [
    "## Lendo da Internet"
   ]
  },
  {
   "cell_type": "markdown",
   "metadata": {},
   "source": [
    "# pandas lendo csv da internet\n",
    "\n",
    "### Essa é uma das formas de importar arquivos da internet, direto do pandas. Mas nem sempre você vai conseguir abrir assim direto.\n",
    "\n",
    "### 2 situações principais em que você consegue fazer direto\n",
    "\n",
    "1. Arquivo csv direto no link (melhor dos mundos)\n",
    "2. O arquivo csv é gerado para você, mas fica no meio de uma requisição que precisa ser tratada.\n",
    "\n",
    "### Apenas para lembrar os tipos de encoding principais que vamos usar:\n",
    "\n",
    "- encoding='latin1'\n",
    "- encoding='ISO-8859-1'\n",
    "- encoding='utf-8'\n",
    "- encoding='cp1252'"
   ]
  },
  {
   "cell_type": "markdown",
   "metadata": {},
   "source": [
    "### Caso 1: csv direto no link\n",
    "\n",
    "- Criei um arquivo csv e disponibilizei o link para download no Drive: https://drive.google.com/uc?authuser=0&id=1Ru7s-x3YJuStZK1mqr_qNqiHVvdHUN66&export=download"
   ]
  },
  {
   "cell_type": "code",
   "execution_count": null,
   "metadata": {},
   "outputs": [],
   "source": [
    "import pandas as pd\n",
    "\n",
    "url = \"https://drive.google.com/uc?authuser=0&id=1Ru7s-x3YJuStZK1mqr_qNqiHVvdHUN66&export=download\"\n",
    "cotacao_df = pd.read_csv(url)\n",
    "display(cotacao_df)"
   ]
  },
  {
   "cell_type": "markdown",
   "metadata": {},
   "source": [
    "### Caso 2: csv em uma requisição que precisa ser tratada\n",
    "\n",
    "Pesquisei por histórico de preços do café no Google e cheguei nesse site: https://portalweb.cooxupe.com.br:9080/portal/precohistoricocafe_2.jsp"
   ]
  },
  {
   "cell_type": "code",
   "execution_count": null,
   "metadata": {},
   "outputs": [],
   "source": [
    "import pandas as pd\n",
    "import requests\n",
    "import io\n",
    "\n",
    "url = 'https://portalweb.cooxupe.com.br:9080/portal/precohistoricocafe_2.jsp?d-3496238-e=2&6578706f7274=1'\n",
    "conteudo_url = requests.get(url).content\n",
    "arquivo = io.StringIO(conteudo_url.decode('latin1'))\n",
    "cafe_df = pd.read_csv(arquivo, sep=r'\\t')\n",
    "display(cafe_df)"
   ]
  },
  {
   "cell_type": "markdown",
   "metadata": {},
   "source": [
    "## Integração Python + Excel\n",
    "- Pandas\n",
    "- Openpyxl"
   ]
  },
  {
   "cell_type": "markdown",
   "metadata": {},
   "source": [
    "### Desafio:\n",
    "- Atualizar o Multiplicador Imposto - Serviço para 1.5"
   ]
  },
  {
   "cell_type": "code",
   "execution_count": 4,
   "metadata": {},
   "outputs": [
    {
     "data": {
      "text/html": [
       "<div>\n",
       "<style scoped>\n",
       "    .dataframe tbody tr th:only-of-type {\n",
       "        vertical-align: middle;\n",
       "    }\n",
       "\n",
       "    .dataframe tbody tr th {\n",
       "        vertical-align: top;\n",
       "    }\n",
       "\n",
       "    .dataframe thead th {\n",
       "        text-align: right;\n",
       "    }\n",
       "</style>\n",
       "<table border=\"1\" class=\"dataframe\">\n",
       "  <thead>\n",
       "    <tr style=\"text-align: right;\">\n",
       "      <th></th>\n",
       "      <th>Produtos</th>\n",
       "      <th>Preço Base Original</th>\n",
       "      <th>Tipo</th>\n",
       "      <th>Multiplicador Imposto</th>\n",
       "      <th>Preço Base Reais</th>\n",
       "    </tr>\n",
       "  </thead>\n",
       "  <tbody>\n",
       "    <tr>\n",
       "      <th>0</th>\n",
       "      <td>Tablet</td>\n",
       "      <td>999.99</td>\n",
       "      <td>Produto</td>\n",
       "      <td>1.1</td>\n",
       "      <td>1099.989</td>\n",
       "    </tr>\n",
       "    <tr>\n",
       "      <th>1</th>\n",
       "      <td>Pós Graduação</td>\n",
       "      <td>4500.00</td>\n",
       "      <td>Serviço</td>\n",
       "      <td>1.3</td>\n",
       "      <td>5850.000</td>\n",
       "    </tr>\n",
       "    <tr>\n",
       "      <th>2</th>\n",
       "      <td>Celular</td>\n",
       "      <td>899.99</td>\n",
       "      <td>Produto</td>\n",
       "      <td>1.1</td>\n",
       "      <td>989.989</td>\n",
       "    </tr>\n",
       "    <tr>\n",
       "      <th>3</th>\n",
       "      <td>Passagem Aérea</td>\n",
       "      <td>799.00</td>\n",
       "      <td>Serviço</td>\n",
       "      <td>1.3</td>\n",
       "      <td>1038.700</td>\n",
       "    </tr>\n",
       "    <tr>\n",
       "      <th>4</th>\n",
       "      <td>Computador</td>\n",
       "      <td>3000.00</td>\n",
       "      <td>Produto</td>\n",
       "      <td>1.1</td>\n",
       "      <td>3300.000</td>\n",
       "    </tr>\n",
       "    <tr>\n",
       "      <th>5</th>\n",
       "      <td>SPA</td>\n",
       "      <td>480.48</td>\n",
       "      <td>Serviço</td>\n",
       "      <td>1.3</td>\n",
       "      <td>624.624</td>\n",
       "    </tr>\n",
       "    <tr>\n",
       "      <th>6</th>\n",
       "      <td>Corte Cabelo</td>\n",
       "      <td>50.00</td>\n",
       "      <td>Serviço</td>\n",
       "      <td>1.3</td>\n",
       "      <td>65.000</td>\n",
       "    </tr>\n",
       "  </tbody>\n",
       "</table>\n",
       "</div>"
      ],
      "text/plain": [
       "         Produtos  Preço Base Original     Tipo  Multiplicador Imposto  \\\n",
       "0          Tablet               999.99  Produto                    1.1   \n",
       "1   Pós Graduação              4500.00  Serviço                    1.3   \n",
       "2         Celular               899.99  Produto                    1.1   \n",
       "3  Passagem Aérea               799.00  Serviço                    1.3   \n",
       "4      Computador              3000.00  Produto                    1.1   \n",
       "5             SPA               480.48  Serviço                    1.3   \n",
       "6    Corte Cabelo                50.00  Serviço                    1.3   \n",
       "\n",
       "   Preço Base Reais  \n",
       "0          1099.989  \n",
       "1          5850.000  \n",
       "2           989.989  \n",
       "3          1038.700  \n",
       "4          3300.000  \n",
       "5           624.624  \n",
       "6            65.000  "
      ]
     },
     "metadata": {},
     "output_type": "display_data"
    }
   ],
   "source": [
    "#pandas\n",
    "import pandas as pd\n",
    "\n",
    "tabela = pd.read_excel(r'arquivos\\Produtos.xlsx')\n",
    "display(tabela)"
   ]
  },
  {
   "cell_type": "code",
   "execution_count": 6,
   "metadata": {},
   "outputs": [],
   "source": [
    "# atualizar o multiplicador\n",
    "\n",
    "tabela.loc[tabela['Tipo']=='Serviço','Multiplicador Imposto'] = 1.5\n",
    "\n",
    "# fazer a conta do Preço Base Reais\n",
    "tabela['Preço Base Reais'] = tabela['Multiplicador Imposto'] * tabela['Preço Base Original']\n",
    "\n",
    "tabela.to_excel(r'arquivos\\ProdutosPandas.xlsx', index=False)"
   ]
  },
  {
   "cell_type": "code",
   "execution_count": 7,
   "metadata": {},
   "outputs": [],
   "source": [
    "#openpyxl\n",
    "from openpyxl import Workbook, load_workbook\n",
    "\n",
    "planilha = load_workbook(r'arquivos\\Produtos.xlsx')\n",
    "\n",
    "aba_ativa = planilha.active\n",
    "\n",
    "for celula in aba_ativa['C']:\n",
    "    if celula.value == 'Serviço':\n",
    "        linha = celula.row\n",
    "        aba_ativa[f'D{linha}'] = 1.5\n",
    "\n",
    "planilha.save(r'arquivos\\ProdutosOpenPy.xlsx')"
   ]
  }
 ],
 "metadata": {
  "kernelspec": {
   "display_name": "Python 3",
   "language": "python",
   "name": "python3"
  },
  "language_info": {
   "codemirror_mode": {
    "name": "ipython",
    "version": 3
   },
   "file_extension": ".py",
   "mimetype": "text/x-python",
   "name": "python",
   "nbconvert_exporter": "python",
   "pygments_lexer": "ipython3",
   "version": "3.11.9"
  }
 },
 "nbformat": 4,
 "nbformat_minor": 4
}
