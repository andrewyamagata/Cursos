{
 "cells": [
  {
   "cell_type": "markdown",
   "metadata": {},
   "source": [
    "# O que é o Pandas e para que serve\n",
    "\n",
    "- Análise de Dados (seja para DataScience, seja para trabalhar de forma integrada com arquivos em Excel e Banco de Dados)\n",
    "- Melhor biblioteca/módulo para trabalhar com quantidades enormes de informações\n",
    "- Uma mistura de listas e dicionários de forma muito eficiente\n",
    "\n",
    "## Resumo\n",
    "\n",
    "Se você trabalha com muitos dados, você vai precisar usar o pandas\n",
    "\n",
    "## Forma de usar"
   ]
  },
  {
   "cell_type": "code",
   "execution_count": null,
   "metadata": {},
   "outputs": [],
   "source": [
    "import pandas as pd\n",
    "\n",
    "produto_df = pd.read_csv(r\"C:\\Users\\andre\\OneDrive\\Documentos\\GitHub\\Cursos\\Python\\arquivos\\Contoso - Cadastro Produtos.csv\", encoding=\"ISO-8859-1\", sep=';')\n",
    "\n",
    "produto_df.info()"
   ]
  },
  {
   "cell_type": "code",
   "execution_count": null,
   "metadata": {},
   "outputs": [],
   "source": [
    "import pandas as pd\n",
    "\n",
    "vendas_df = pd.read_csv(r\"arquivos\\Contoso - Vendas - 2017.csv\", sep=';')\n",
    "\n",
    "vendas_df['ID Cliente']"
   ]
  },
  {
   "cell_type": "code",
   "execution_count": null,
   "metadata": {},
   "outputs": [],
   "source": [
    "vendas_df[:3]"
   ]
  },
  {
   "cell_type": "code",
   "execution_count": null,
   "metadata": {},
   "outputs": [],
   "source": [
    "vendas_df[['Numero da Venda', 'Data da Venda', 'ID Produto']]"
   ]
  },
  {
   "cell_type": "code",
   "execution_count": null,
   "metadata": {},
   "outputs": [],
   "source": [
    "vendas_df['ID Produto'][0]"
   ]
  },
  {
   "cell_type": "markdown",
   "metadata": {},
   "source": [
    "## Aplicações"
   ]
  },
  {
   "cell_type": "code",
   "execution_count": null,
   "metadata": {},
   "outputs": [],
   "source": [
    "# Informações da tabela\n",
    "\n",
    "vendas_df.info()"
   ]
  },
  {
   "cell_type": "code",
   "execution_count": null,
   "metadata": {},
   "outputs": [],
   "source": [
    "# Criar uma lista de Clientes\n",
    "\n",
    "lista_clientes = vendas_df['ID Cliente']\n",
    "\n",
    "lista_clientes"
   ]
  },
  {
   "cell_type": "code",
   "execution_count": null,
   "metadata": {},
   "outputs": [],
   "source": [
    "# Criar uma lista com produto e quantidade, pode ser feito de duas formas:\n",
    "\n",
    "# lista_produto = ['ID Produto', 'Quantidade Vendida', 'Quantidade Devolvida']\n",
    "# produtos_quantidades = vendas_df[lista_produto]\n",
    "\n",
    "produtos_quantidades = vendas_df[['ID Produto', 'Quantidade Vendida', 'Quantidade Devolvida']]\n",
    "\n",
    "produtos_quantidades"
   ]
  },
  {
   "cell_type": "code",
   "execution_count": null,
   "metadata": {},
   "outputs": [],
   "source": [
    "import pandas as pd\n",
    "\n",
    "# As vezes precisa mudar o encoding. Possíveis valores para testar:\n",
    "# encoding = 'Latin1', encoding='ISO-8859-1', encoding='utf-8' ou encoding='cp1252'\n",
    "produtos_df = pd.read_csv(r'arquivos\\Contoso - Cadastro Produtos.csv', encoding=\"ISO-8859-1\", sep=';')\n",
    "clientes_df = pd.read_csv(r'arquivos\\Contoso - Clientes.csv', encoding=\"ISO-8859-1\", sep=';')\n",
    "lojas_df = pd.read_csv(r'arquivos\\Contoso - Lojas.csv', encoding=\"ISO-8859-1\", sep=';')\n",
    "promocoes_df = pd.read_csv(r'arquivos\\Contoso - Promocoes.csv', encoding=\"ISO-8859-1\", sep=';')\n",
    "vendas_df = pd.read_csv(r\"arquivos\\Contoso - Vendas - 2017.csv\", sep=';')\n",
    "\n",
    "# Usar o display para ver todos os dataframes\n",
    "display(produtos_df)\n",
    "display(clientes_df)\n",
    "display(lojas_df)\n",
    "display(promocoes_df)\n",
    "display(vendas_df)"
   ]
  },
  {
   "cell_type": "code",
   "execution_count": null,
   "metadata": {},
   "outputs": [],
   "source": [
    "# Tirar as colunas inúteis\n",
    "\n",
    "clientes_df = clientes_df.drop(['Unnamed: 7', 'Unnamed: 8', 'Unnamed: 9', 'Unnamed: 10'], axis=1)\n",
    "display(clientes_df)"
   ]
  },
  {
   "cell_type": "code",
   "execution_count": null,
   "metadata": {},
   "outputs": [],
   "source": [
    "# Ou selecionar as colunas que eu quero\n",
    "produtos_df = produtos_df[['ID Produto', 'ÿNome do Produto']]\n",
    "lojas_df = lojas_df[['ÿID Loja', 'Nome da Loja']]\n",
    "clientes_df = clientes_df[['ÿID Cliente', 'E-mail']]\n",
    "display(clientes_df)"
   ]
  },
  {
   "cell_type": "code",
   "execution_count": null,
   "metadata": {},
   "outputs": [],
   "source": [
    "# Renomear as colunas\n",
    "produtos_df = produtos_df.rename(columns={'ÿNome do Produto': 'Nome do Produto'})\n",
    "display(produtos_df)\n",
    "\n",
    "lojas_df = lojas_df.rename(columns={'ÿID Loja': 'ID Loja'})\n",
    "display(lojas_df)\n",
    "\n",
    "clientes_df.columns = clientes_df.columns.str.replace(\"ÿ\", \"\", regex=False)\n",
    "display(clientes_df)"
   ]
  },
  {
   "cell_type": "code",
   "execution_count": null,
   "metadata": {},
   "outputs": [],
   "source": [
    "display(vendas_df)"
   ]
  },
  {
   "cell_type": "code",
   "execution_count": null,
   "metadata": {},
   "outputs": [],
   "source": [
    "# Juntando os dataframes para ter somente UM dataframe\n",
    "vendas_df = vendas_df.merge(produtos_df, on='ID Produto')\n",
    "vendas_df = vendas_df.merge(clientes_df, on='ID Cliente')\n",
    "vendas_df = vendas_df.merge(lojas_df, on='ID Loja')\n",
    "\n",
    "display(vendas_df)"
   ]
  },
  {
   "cell_type": "code",
   "execution_count": null,
   "metadata": {},
   "outputs": [],
   "source": [
    "frequencia_clientes = vendas_df['E-mail'].value_counts() # quantidade que aparece\n",
    "display(frequencia_clientes)\n",
    "frequencia_clientes[:5].plot(figsize=(15,5)) # os primeiros 5 itens"
   ]
  },
  {
   "cell_type": "code",
   "execution_count": null,
   "metadata": {},
   "outputs": [],
   "source": [
    "frequencia_clientes[:5].plot(figsize=(15,5), yticks=range(68, 78, 2))"
   ]
  },
  {
   "cell_type": "code",
   "execution_count": null,
   "metadata": {},
   "outputs": [],
   "source": [
    "# Agrupando e somando\n",
    "\n",
    "vendas_lojas = vendas_df.groupby('Nome da Loja').sum()\n",
    "vendas_lojas = vendas_lojas[['Quantidade Vendida']]\n",
    "display(vendas_lojas)"
   ]
  },
  {
   "cell_type": "code",
   "execution_count": null,
   "metadata": {},
   "outputs": [],
   "source": [
    "# ordenar o dataframe\n",
    "# Ascending - Crescente:True Decrescente:False\n",
    "vendas_lojas = vendas_lojas.sort_values('Quantidade Vendida', ascending=False)\n",
    "display(vendas_lojas)\n",
    "vendas_lojas[:5].plot(figsize=(15,5), kind='bar')\n",
    "print(vendas_lojas[0:1]) # maior valor\n",
    "print(vendas_lojas[-1:]) # menor valor"
   ]
  },
  {
   "cell_type": "code",
   "execution_count": null,
   "metadata": {},
   "outputs": [],
   "source": [
    "# Pegar o maior valor\n",
    "\n",
    "maior_valor = vendas_lojas['Quantidade Vendida'].max()\n",
    "melhor_loja = vendas_lojas['Quantidade Vendida'].idxmax()\n",
    "print(melhor_loja, maior_valor)"
   ]
  },
  {
   "cell_type": "code",
   "execution_count": null,
   "metadata": {},
   "outputs": [],
   "source": [
    "# Pegar o menor valor\n",
    "\n",
    "menor_valor = vendas_lojas['Quantidade Vendida'].min()\n",
    "pior_loja = vendas_lojas['Quantidade Vendida'].idxmin()\n",
    "print(pior_loja, menor_valor)"
   ]
  },
  {
   "cell_type": "markdown",
   "metadata": {},
   "source": [
    "## Filtrando Informações"
   ]
  },
  {
   "cell_type": "code",
   "execution_count": null,
   "metadata": {},
   "outputs": [],
   "source": [
    "# Percentual das vendas devolvidas\n",
    "qtd_vendida = vendas_df['Quantidade Vendida'].sum()\n",
    "qtd_devolvida = vendas_df['Quantidade Devolvida'].sum()\n",
    "\n",
    "print('{:.2%}'.format(qtd_devolvida/qtd_vendida))"
   ]
  },
  {
   "cell_type": "code",
   "execution_count": null,
   "metadata": {},
   "outputs": [],
   "source": [
    "# Filtrar apenas os itens da Loja Contoso Europe Online - ID 306\n",
    "\n",
    "vendas_loja_contoso_europe_online = vendas_df[vendas_df['ID Loja'] == 306]\n",
    "display(vendas_loja_contoso_europe_online)"
   ]
  },
  {
   "cell_type": "code",
   "execution_count": null,
   "metadata": {},
   "outputs": [],
   "source": [
    "qtd_vendida = vendas_loja_contoso_europe_online['Quantidade Vendida'].sum()\n",
    "qtd_devolvida = vendas_loja_contoso_europe_online['Quantidade Devolvida'].sum()\n",
    "\n",
    "print('{:.2%}'.format(qtd_devolvida/qtd_vendida))"
   ]
  },
  {
   "cell_type": "code",
   "execution_count": null,
   "metadata": {},
   "outputs": [],
   "source": [
    "# vendas_loja_contoso_europe_online = vendas_df[vendas_df['ID Loja'] == 306]\n",
    "\n",
    "loja_306 = vendas_df['ID Loja'] == 306\n",
    "display(loja_306)"
   ]
  },
  {
   "cell_type": "code",
   "execution_count": null,
   "metadata": {},
   "outputs": [],
   "source": [
    "vendas_loja_contoso_europe_online = vendas_df[loja_306]\n",
    "display(vendas_loja_contoso_europe_online)"
   ]
  },
  {
   "cell_type": "code",
   "execution_count": null,
   "metadata": {},
   "outputs": [],
   "source": [
    "# Mais de um filtro\n",
    "df_306_semdevolucao = vendas_df[(vendas_df['ID Loja'] == 306) & (vendas_df['Quantidade Devolvida'] == 0)]\n",
    "display(df_306_semdevolucao)\n",
    "\n",
    "loja306 = vendas_df['ID Loja'] == 306\n",
    "qtd_devolvida_0 = vendas_df['Quantidade Devolvida'] == 0\n",
    "df2_306_semdevolucao = vendas_df[loja306 & qtd_devolvida_0]\n",
    "display(df2_306_semdevolucao)"
   ]
  },
  {
   "cell_type": "code",
   "execution_count": null,
   "metadata": {},
   "outputs": [],
   "source": [
    "vendas_df.info()"
   ]
  },
  {
   "cell_type": "code",
   "execution_count": null,
   "metadata": {},
   "outputs": [],
   "source": [
    "# Coluna Data da Venda em DATA\n",
    "vendas_df['Data da Venda'] = pd.to_datetime(vendas_df['Data da Venda'], format='%d/%m/%Y')\n",
    "\n",
    "# Adicionando colunas\n",
    "vendas_df['Ano da Venda'] = vendas_df['Data da Venda'].dt.year\n",
    "vendas_df['Mes da Venda'] = vendas_df['Data da Venda'].dt.month\n",
    "vendas_df['Dia da Venda'] = vendas_df['Data da Venda'].dt.day\n",
    "display(vendas_df)\n",
    "vendas_df.info()"
   ]
  },
  {
   "cell_type": "markdown",
   "metadata": {},
   "source": [
    "## Método loc e iloc"
   ]
  },
  {
   "cell_type": "code",
   "execution_count": null,
   "metadata": {},
   "outputs": [],
   "source": [
    "novo_produto_df = pd.read_csv(r'arquivos\\Contoso - Cadastro Produtos.csv', encoding=\"ISO-8859-1\", sep=';')\n",
    "display(novo_produto_df.head())"
   ]
  },
  {
   "cell_type": "code",
   "execution_count": null,
   "metadata": {},
   "outputs": [],
   "source": [
    "novo_produto_df = novo_produto_df.rename(columns={'ÿNome do Produto':'Nome do Produto'})\n",
    "display(novo_produto_df.head())"
   ]
  },
  {
   "cell_type": "code",
   "execution_count": null,
   "metadata": {},
   "outputs": [],
   "source": [
    "novo_produto_df.loc[[0,2,5]]"
   ]
  },
  {
   "cell_type": "code",
   "execution_count": null,
   "metadata": {},
   "outputs": [],
   "source": [
    "novo_produto_df = novo_produto_df.set_index('Nome do Produto')\n",
    "display(novo_produto_df)"
   ]
  },
  {
   "cell_type": "code",
   "execution_count": null,
   "metadata": {},
   "outputs": [],
   "source": [
    "# Como foi setado o index, o loc não funciona mais pelo número, mas pelo nome do Produto\n",
    "novo_produto_df.loc['Contoso Wireless Laser Mouse E50 Grey']"
   ]
  },
  {
   "cell_type": "code",
   "execution_count": null,
   "metadata": {},
   "outputs": [],
   "source": [
    "novo_produto_df.loc['Contoso Wireless Laser Mouse E50 Grey', 'Tipo']"
   ]
  },
  {
   "cell_type": "code",
   "execution_count": null,
   "metadata": {},
   "outputs": [],
   "source": [
    "# por iloc número da linha e número da coluna - df.iloc[linha,coluna]\n",
    "print(novo_produto_df.iloc[2,6])"
   ]
  },
  {
   "cell_type": "markdown",
   "metadata": {},
   "source": [
    "### A empresa decidiu aumentar o preço do produto ID 873 (Contoso Wireless Laser Mouse E50 Grey):"
   ]
  },
  {
   "cell_type": "code",
   "execution_count": null,
   "metadata": {},
   "outputs": [],
   "source": [
    "# Primeira forma acessando pelo índice, mudando para R$ 23,00\n",
    "novo_produto_df.loc['Contoso Wireless Laser Mouse E50 Grey', 'Preco Unitario'] = 23\n",
    "novo_produto_df.loc['Contoso Wireless Laser Mouse E50 Grey']"
   ]
  },
  {
   "cell_type": "code",
   "execution_count": null,
   "metadata": {},
   "outputs": [],
   "source": [
    "# Segunda forma acessando por critério, mudando para R$ 25,00\n",
    "novo_produto_df.loc[novo_produto_df['ID Produto'] == 873, 'Preco Unitario'] = 25\n",
    "novo_produto_df.loc['Contoso Wireless Laser Mouse E50 Grey']"
   ]
  },
  {
   "cell_type": "markdown",
   "metadata": {},
   "source": [
    "### Exportando do dataframe para um csv"
   ]
  },
  {
   "cell_type": "code",
   "execution_count": null,
   "metadata": {},
   "outputs": [],
   "source": [
    "vendas_df = vendas_df[['Data da Venda', 'Nome do Produto', 'Nome da Loja', 'Quantidade Vendida', 'ID Loja']]\n",
    "vendas_df_contoso_austin = vendas_df[vendas_df['ID Loja'] == 86]\n",
    "display(vendas_df_contoso_austin)"
   ]
  },
  {
   "cell_type": "code",
   "execution_count": null,
   "metadata": {},
   "outputs": [],
   "source": [
    "vendas_df_contoso_austin.to_csv(r'arquivos\\Novo Vendas 2017.csv', sep=';')"
   ]
  },
  {
   "cell_type": "markdown",
   "metadata": {},
   "source": [
    "### Criando um dicionário, transformando depois em um dataframe"
   ]
  },
  {
   "cell_type": "code",
   "execution_count": null,
   "metadata": {},
   "outputs": [],
   "source": [
    "niveis_co2 = {\n",
    "    'AC': [325,405,429,486,402],\n",
    "    'AL': [492,495,310,407,388],\n",
    "    'AP': [507,503,368,338,400],\n",
    "    'AM': [429,456,352,377,363],\n",
    "    'BA': [321,508,372,490,412],\n",
    "    'CE': [424,328,425,516,480],\n",
    "    'ES': [449,506,461,337,336],\n",
    "    'GO': [425,460,385,485,460],\n",
    "    'MA': [361,310,344,425,490],\n",
    "    'MT': [358,402,425,386,379],\n",
    "    'MS': [324,357,441,405,427],\n",
    "    'MG': [345,367,391,427,516],\n",
    "    'PA': [479,514,392,493,329],\n",
    "    'PB': [418,499,317,302,476],\n",
    "    'PR': [420,508,419,396,327],\n",
    "    'PE': [404,444,495,320,343],\n",
    "    'PI': [513,513,304,377,475],\n",
    "    'RJ': [502,481,492,502,506],\n",
    "    'RN': [446,437,519,356,317],\n",
    "    'RS': [427,518,459,317,321],\n",
    "    'RO': [517,466,512,326,458],\n",
    "    'RR': [466,495,469,495,310],\n",
    "    'SC': [495,436,382,483,479],\n",
    "    'SP': [495,407,362,389,317],\n",
    "    'SE': [508,351,334,389,418],\n",
    "    'TO': [339,490,304,488,419],\n",
    "    'DF': [376,516,320,310,518], \n",
    "}\n",
    "\n",
    "niveis_co2_df = pd.DataFrame.from_dict(niveis_co2, orient='index')\n",
    "niveis_co2_df = niveis_co2_df.rename(columns={0: 'Janeiro', 1: 'Fevereiro', 2: 'Março', 3: 'Abril', 4: 'Maio'})\n",
    "# niveis_co2_df.index.name = 'Estado'   --- colocar título no index, ou fazer na exportação para csv\n",
    "display(niveis_co2_df)\n",
    "niveis_co2_df.to_csv(r'arquivos\\Níveis CO2.csv',encoding='latin1', sep=';', index_label=\"Estado\")"
   ]
  },
  {
   "cell_type": "markdown",
   "metadata": {},
   "source": [
    "## Lendo da Internet"
   ]
  },
  {
   "cell_type": "markdown",
   "metadata": {},
   "source": [
    "# pandas lendo csv da internet\n",
    "\n",
    "### Essa é uma das formas de importar arquivos da internet, direto do pandas. Mas nem sempre você vai conseguir abrir assim direto.\n",
    "\n",
    "### 2 situações principais em que você consegue fazer direto\n",
    "\n",
    "1. Arquivo csv direto no link (melhor dos mundos)\n",
    "2. O arquivo csv é gerado para você, mas fica no meio de uma requisição que precisa ser tratada.\n",
    "\n",
    "### Apenas para lembrar os tipos de encoding principais que vamos usar:\n",
    "\n",
    "- encoding='latin1'\n",
    "- encoding='ISO-8859-1'\n",
    "- encoding='utf-8'\n",
    "- encoding='cp1252'"
   ]
  },
  {
   "cell_type": "markdown",
   "metadata": {},
   "source": [
    "### Caso 1: csv direto no link\n",
    "\n",
    "- Criei um arquivo csv e disponibilizei o link para download no Drive: https://drive.google.com/uc?authuser=0&id=1Ru7s-x3YJuStZK1mqr_qNqiHVvdHUN66&export=download"
   ]
  },
  {
   "cell_type": "code",
   "execution_count": null,
   "metadata": {},
   "outputs": [],
   "source": [
    "import pandas as pd\n",
    "\n",
    "url = \"https://drive.google.com/uc?authuser=0&id=1Ru7s-x3YJuStZK1mqr_qNqiHVvdHUN66&export=download\"\n",
    "cotacao_df = pd.read_csv(url)\n",
    "display(cotacao_df)"
   ]
  },
  {
   "cell_type": "markdown",
   "metadata": {},
   "source": [
    "### Caso 2: csv em uma requisição que precisa ser tratada\n",
    "\n",
    "Pesquisei por histórico de preços do café no Google e cheguei nesse site: https://portalweb.cooxupe.com.br:9080/portal/precohistoricocafe_2.jsp"
   ]
  },
  {
   "cell_type": "code",
   "execution_count": null,
   "metadata": {},
   "outputs": [],
   "source": [
    "import pandas as pd\n",
    "import requests\n",
    "import io\n",
    "\n",
    "url = 'https://portalweb.cooxupe.com.br:9080/portal/precohistoricocafe_2.jsp?d-3496238-e=2&6578706f7274=1'\n",
    "conteudo_url = requests.get(url).content\n",
    "arquivo = io.StringIO(conteudo_url.decode('latin1'))\n",
    "cafe_df = pd.read_csv(arquivo, sep=r'\\t')\n",
    "display(cafe_df)"
   ]
  },
  {
   "cell_type": "markdown",
   "metadata": {},
   "source": [
    "## Integração Python + Excel\n",
    "- Pandas\n",
    "- Openpyxl"
   ]
  },
  {
   "cell_type": "markdown",
   "metadata": {},
   "source": [
    "### Desafio:\n",
    "- Atualizar o Multiplicador Imposto - Serviço para 1.5"
   ]
  },
  {
   "cell_type": "code",
   "execution_count": null,
   "metadata": {},
   "outputs": [],
   "source": [
    "#pandas\n",
    "import pandas as pd\n",
    "\n",
    "tabela = pd.read_excel(r'arquivos\\Produtos.xlsx')\n",
    "display(tabela)"
   ]
  },
  {
   "cell_type": "code",
   "execution_count": null,
   "metadata": {},
   "outputs": [],
   "source": [
    "# atualizar o multiplicador\n",
    "\n",
    "tabela.loc[tabela['Tipo']=='Serviço','Multiplicador Imposto'] = 1.5\n",
    "\n",
    "# fazer a conta do Preço Base Reais\n",
    "tabela['Preço Base Reais'] = tabela['Multiplicador Imposto'] * tabela['Preço Base Original']\n",
    "\n",
    "tabela.to_excel(r'arquivos\\ProdutosPandas.xlsx', index=False)"
   ]
  },
  {
   "cell_type": "code",
   "execution_count": null,
   "metadata": {},
   "outputs": [],
   "source": [
    "#openpyxl\n",
    "from openpyxl import Workbook, load_workbook\n",
    "\n",
    "planilha = load_workbook(r'arquivos\\Produtos.xlsx')\n",
    "\n",
    "aba_ativa = planilha.active\n",
    "\n",
    "for celula in aba_ativa['C']:\n",
    "    if celula.value == 'Serviço':\n",
    "        linha = celula.row\n",
    "        aba_ativa[f'D{linha}'] = 1.5\n",
    "\n",
    "planilha.save(r'arquivos\\ProdutosOpenPy.xlsx')"
   ]
  },
  {
   "cell_type": "markdown",
   "metadata": {},
   "source": [
    "### Acompanhando o progresso - tqdm"
   ]
  },
  {
   "cell_type": "code",
   "execution_count": null,
   "metadata": {},
   "outputs": [],
   "source": [
    "import pandas as pd\n",
    "\n",
    "# Importando os arquivos\n",
    "vendas_df = pd.read_csv(r\"arquivos\\Contoso - Vendas - 2017.csv\", sep=';')\n",
    "produtos_df = pd.read_csv(r'arquivos\\Contoso - Cadastro Produtos.csv', encoding=\"ISO-8859-1\", sep=';')\n",
    "lojas_df = pd.read_csv(r'arquivos\\Contoso - Lojas.csv', encoding=\"ISO-8859-1\", sep=';')\n",
    "clientes_df = pd.read_csv(r'arquivos\\Contoso - Clientes.csv', encoding=\"ISO-8859-1\", sep=';')\n",
    "promocoes_df = pd.read_csv(r'arquivos\\Contoso - Promocoes.csv', encoding=\"ISO-8859-1\", sep=';')\n",
    "\n",
    "# Limpando apenas as colunas que queremos\n",
    "clientes_df = clientes_df[['ÿID Cliente', 'E-mail']].rename(columns={'ÿID Cliente': 'ID Cliente'})\n",
    "produtos_df = produtos_df[['ID Produto', 'ÿNome do Produto']].rename(columns={'ÿNome do Produto':'Nome do Produto'})\n",
    "lojas_df = lojas_df[['ÿID Loja', 'Nome da Loja']].rename(columns={'ÿID Loja':'ID Loja'})\n",
    "\n",
    "# Mesclando e renomeando os dataframes\n",
    "vendas_df = vendas_df.merge(produtos_df, on='ID Produto')\n",
    "vendas_df = vendas_df.merge(lojas_df, on='ID Loja')\n",
    "vendas_df = vendas_df.merge(clientes_df, on='ID Cliente').rename(columns={'E-mail': 'E-mail do Cliente'})\n",
    "\n",
    "display(vendas_df)"
   ]
  },
  {
   "cell_type": "code",
   "execution_count": null,
   "metadata": {},
   "outputs": [],
   "source": [
    "from tqdm import tqdm\n",
    "\n",
    "pbar = tqdm(total=len(vendas_df['ID Loja']),position=0, leave=True)\n",
    "\n",
    "for i, id_loja in enumerate(vendas_df['ID Loja']):\n",
    "    pbar.update()\n",
    "    if id_loja == 222:\n",
    "        vendas_df.loc[i,'Quantidade Devolvida'] += 1\n",
    "\n",
    "display(vendas_df)"
   ]
  },
  {
   "cell_type": "markdown",
   "metadata": {},
   "source": [
    "# Exercício - Mini Projeto de Análise de Dados\n",
    "\n",
    "Vamos fazer um exercício completo de pandas para um miniprojeto de análise de dados.\n",
    "\n",
    "Esse exercício vai obrigar a gente a usar boa parte dos conhecimento de pandas e até de outros módulos que já aprendemos ao longo do curso.\n",
    "\n",
    "### O que temos?\n",
    "\n",
    "Temos os dados de 2019 de uma empresa de prestação de serviços. \n",
    "\n",
    "- CadastroFuncionarios\n",
    "- CadastroClientes\n",
    "- BaseServiçosPrestados\n",
    "\n",
    "Obs1: Para ler arquivos csv, temos o read_csv<br>\n",
    "Obs2: Para ler arquivos xlsx (arquivos em excel normais, que não são padrão csv), temos o read_excel\n",
    "\n",
    "### O que queremos saber/fazer?\n",
    "\n",
    "1. Valor Total da Folha Salarial -> Qual foi o gasto total com salários de funcionários pela empresa? <br>\n",
    "    Sugestão: calcule o salário total de cada funcionário, salário + benefícios + impostos, depois some todos os salários\n",
    "    \n",
    "    \n",
    "2. Qual foi o faturamento da empresa?<br>\n",
    "    Sugestão: calcule o faturamento total de cada serviço e depois some o faturamento de todos\n",
    "    \n",
    "    \n",
    "3. Qual o % de funcionários que já fechou algum contrato?<br>\n",
    "    Sugestão: na base de serviços temos o funcionário que fechou cada serviço. Mas nem todos os funcionários que a empresa tem já fecharam algum serviço.<br>\n",
    "    . Na base de funcionários temos uma lista com todos os funcionários<br>\n",
    "    . Queremos calcular Qtde_Funcionarios_Fecharam_Serviço / Qtde_Funcionários_Totais<br>\n",
    "    . Para calcular a qtde de funcionários que fecharam algum serviço, use a base de serviços e conte quantos funcionários tem ali. Mas lembre-se, cada funcionário só pode ser contado uma única vez.<br><br>\n",
    "    Dica: se você aplicar o método .unique() em uma variável que é apenas 1 coluna de um dataframe, ele vai excluir todos os valores duplicados daquela coluna.<br>\n",
    "    Ex: unicos_colunaA = dataframe['colunaA'].unique() te dá como resposta uma lista com todos os itens da colunaA aparecendo uma única vez. Todos os valores repetidos da colunaA são excluidos da variável unicos_colunaA \n",
    "    \n",
    "    \n",
    "4. Calcule o total de contratos que cada área da empresa já fechou\n",
    "\n",
    "\n",
    "5. Calcule o total de funcionários por área\n",
    "\n",
    "\n",
    "6. Qual o ticket médio mensal (faturamento médio mensal) dos contratos?<br>\n",
    "    Dica: .mean() calcula a média -> exemplo: media_colunaA = dataframe['colunaA'].mean()\n",
    "\n",
    "Obs: Lembrando as opções mais usuais de encoding:<br>\n",
    "encoding='latin1', encoding='ISO-8859-1', encoding='utf-8' ou então encoding='cp1252'\n",
    "\n",
    "Observação Importante: Se o seu código der um erro na hora de importar os arquivos:<br>\n",
    "- CadastroClientes.csv\n",
    "- CadastroFuncionarios.csv\n",
    "\n",
    "Use separador \";\" (ponto e vírgula) para resolver"
   ]
  },
  {
   "cell_type": "markdown",
   "metadata": {},
   "source": [
    "### Importando os dado"
   ]
  },
  {
   "cell_type": "code",
   "execution_count": null,
   "metadata": {},
   "outputs": [],
   "source": [
    "import pandas as pd\n",
    "\n",
    "funcionarios_df = pd.read_csv(r'arquivos\\CadastroFuncionarios.csv', sep=';', decimal=',')\n",
    "clientes_df = pd.read_csv(r'arquivos\\CadastroClientes.csv', sep=';', decimal=',')\n",
    "servicos_df = pd.read_excel(r'arquivos\\BaseServiçosPrestados.xlsx')\n",
    "\n",
    "# remover colunas Estado Civil e Cargo\n",
    "funcionarios_df = funcionarios_df.drop(['Estado Civil', 'Cargo'], axis=1)\n",
    "\n",
    "display(funcionarios_df)\n",
    "display(clientes_df)\n",
    "display(servicos_df)"
   ]
  },
  {
   "cell_type": "markdown",
   "metadata": {},
   "source": [
    "### 1. Valor Total da Folha Salarial"
   ]
  },
  {
   "cell_type": "code",
   "execution_count": null,
   "metadata": {},
   "outputs": [],
   "source": [
    "funcionarios_df['Salario Total'] = funcionarios_df['Salario Base'] + funcionarios_df['Impostos'] + funcionarios_df['Beneficios'] + funcionarios_df['VT'] + funcionarios_df['VR']\n",
    "display(funcionarios_df)\n",
    "\n",
    "# Soma total:\n",
    "# 1 modo\n",
    "print(sum(funcionarios_df['Salario Total']))\n",
    "# 2 modo\n",
    "print('Valor total mensal da folha salarial R$ {:,}'.format(funcionarios_df['Salario Total'].sum()))"
   ]
  },
  {
   "cell_type": "markdown",
   "metadata": {},
   "source": [
    "### 2. Faturamento da Empresa"
   ]
  },
  {
   "cell_type": "code",
   "execution_count": null,
   "metadata": {},
   "outputs": [],
   "source": [
    "# Relacionando todas as colunas para formar um único dataframe\n",
    "funcionarios_df = funcionarios_df[['ID Funcionário', 'Nome Completo', 'Area','Salario Total']].rename(columns={'Nome Completo': 'Nome Funcionário'})\n",
    "clientes_df = clientes_df[['ID Cliente', 'Cliente', 'Valor Contrato Mensal']]\n",
    "\n",
    "servicos_df = servicos_df.merge(funcionarios_df, on='ID Funcionário')\n",
    "servicos_df = servicos_df.merge(clientes_df, on='ID Cliente')\n",
    "\n",
    "servicos_df['Valor Global Contrato'] = servicos_df['Tempo Total de Contrato (Meses)'] * servicos_df['Valor Contrato Mensal']\n",
    "\n",
    "display(servicos_df)"
   ]
  },
  {
   "cell_type": "code",
   "execution_count": null,
   "metadata": {},
   "outputs": [],
   "source": [
    "print('Faturamento Total de R$ {:,}'.format(servicos_df['Valor Global Contrato'].sum()))"
   ]
  },
  {
   "cell_type": "markdown",
   "metadata": {},
   "source": [
    "### 3. Qual o % de funcionários que já fechou algum contrato?"
   ]
  },
  {
   "cell_type": "code",
   "execution_count": null,
   "metadata": {},
   "outputs": [],
   "source": [
    "qtd_funcionario = funcionarios_df['ID Funcionário'].nunique()\n",
    "funcionarios_contrato = servicos_df['ID Funcionário'].nunique()\n",
    "# funcionarios_contrato = len(servicos_df['ID Funcionário'].unique())\n",
    "percentual_fechou = (funcionarios_contrato/qtd_funcionario) * 100\n",
    "\n",
    "print(f'O Total de funcionário é {qtd_funcionario}, sendo que {funcionarios_contrato} fecharam algum contrato, dando assim um percentual de {percentual_fechou:.2f}%')"
   ]
  },
  {
   "cell_type": "markdown",
   "metadata": {},
   "source": [
    "### 4. Calcule o total de contratos que cada área da empresa já fechou\n"
   ]
  },
  {
   "cell_type": "code",
   "execution_count": null,
   "metadata": {},
   "outputs": [],
   "source": [
    "contrato_area_qtd = servicos_df['Area'].value_counts()\n",
    "print(contrato_area_qtd)\n",
    "contrato_area_qtd.plot(kind='bar')"
   ]
  },
  {
   "cell_type": "markdown",
   "metadata": {},
   "source": [
    "### 5. Calcule o total de funcionários por área"
   ]
  },
  {
   "cell_type": "code",
   "execution_count": null,
   "metadata": {},
   "outputs": [],
   "source": [
    "funcionarios_area = funcionarios_df['Area'].value_counts()\n",
    "print(funcionarios_area)\n",
    "funcionarios_area.plot(kind='bar')"
   ]
  },
  {
   "cell_type": "markdown",
   "metadata": {},
   "source": [
    "### 6. Qual o ticket médio mensal (faturamento médio mensal) dos contratos?"
   ]
  },
  {
   "cell_type": "code",
   "execution_count": null,
   "metadata": {},
   "outputs": [],
   "source": [
    "ticket_medio = clientes_df['Valor Contrato Mensal'].mean()\n",
    "print('Ticket médio mensal: R$ {:,.2f}'.format(ticket_medio))"
   ]
  },
  {
   "cell_type": "markdown",
   "metadata": {},
   "source": [
    "## Exercícios"
   ]
  },
  {
   "cell_type": "markdown",
   "metadata": {},
   "source": [
    "### Transformando arquivo full de exportação em um arquivo filtrado por Francça e Ano maior igual a 2016"
   ]
  },
  {
   "cell_type": "code",
   "execution_count": null,
   "metadata": {},
   "outputs": [],
   "source": [
    "import pandas as pd\n",
    "\n",
    "exportacao_df = pd.read_csv(r'C:\\Users\\andre\\OneDrive\\Documentos\\Curso\\Ciência de Dados\\exportacao_full.csv')\n",
    "\n",
    "display(exportacao_df)"
   ]
  },
  {
   "cell_type": "code",
   "execution_count": null,
   "metadata": {},
   "outputs": [],
   "source": [
    "exportacao_df = exportacao_df.loc[exportacao_df['Year'] >= 2016, :]\n",
    "exportacao_df = exportacao_df.loc[exportacao_df['Country'] == 'France', :]\n",
    "display(exportacao_df)\n",
    "exportacao_df.to_csv(r'arquivos\\exportacao_france.csv', index=False)"
   ]
  },
  {
   "cell_type": "markdown",
   "metadata": {},
   "source": [
    "### Analisando os dados do arquivo filtrado"
   ]
  },
  {
   "cell_type": "markdown",
   "metadata": {},
   "source": [
    "### Importação"
   ]
  },
  {
   "cell_type": "code",
   "execution_count": 2,
   "metadata": {},
   "outputs": [
    {
     "data": {
      "text/html": [
       "<div>\n",
       "<style scoped>\n",
       "    .dataframe tbody tr th:only-of-type {\n",
       "        vertical-align: middle;\n",
       "    }\n",
       "\n",
       "    .dataframe tbody tr th {\n",
       "        vertical-align: top;\n",
       "    }\n",
       "\n",
       "    .dataframe thead th {\n",
       "        text-align: right;\n",
       "    }\n",
       "</style>\n",
       "<table border=\"1\" class=\"dataframe\">\n",
       "  <thead>\n",
       "    <tr style=\"text-align: right;\">\n",
       "      <th></th>\n",
       "      <th>Year</th>\n",
       "      <th>Month</th>\n",
       "      <th>Country</th>\n",
       "      <th>City</th>\n",
       "      <th>SH4 Code</th>\n",
       "      <th>SH4 Description</th>\n",
       "      <th>SH2 Code</th>\n",
       "      <th>SH2 Description</th>\n",
       "      <th>Economic Block</th>\n",
       "      <th>US$ FOB</th>\n",
       "      <th>Net Weight</th>\n",
       "    </tr>\n",
       "  </thead>\n",
       "  <tbody>\n",
       "    <tr>\n",
       "      <th>0</th>\n",
       "      <td>2016</td>\n",
       "      <td>1</td>\n",
       "      <td>France</td>\n",
       "      <td>Águas Mornas - SC</td>\n",
       "      <td>303</td>\n",
       "      <td>Fish, frozen, excluding fish fillets and other...</td>\n",
       "      <td>3</td>\n",
       "      <td>Fish and crustaceans, molluscs and other aquat...</td>\n",
       "      <td>Europe</td>\n",
       "      <td>79360</td>\n",
       "      <td>14150</td>\n",
       "    </tr>\n",
       "    <tr>\n",
       "      <th>1</th>\n",
       "      <td>2016</td>\n",
       "      <td>1</td>\n",
       "      <td>France</td>\n",
       "      <td>Águas Mornas - SC</td>\n",
       "      <td>303</td>\n",
       "      <td>Fish, frozen, excluding fish fillets and other...</td>\n",
       "      <td>3</td>\n",
       "      <td>Fish and crustaceans, molluscs and other aquat...</td>\n",
       "      <td>European Union (EU)</td>\n",
       "      <td>79360</td>\n",
       "      <td>14150</td>\n",
       "    </tr>\n",
       "    <tr>\n",
       "      <th>2</th>\n",
       "      <td>2016</td>\n",
       "      <td>1</td>\n",
       "      <td>France</td>\n",
       "      <td>Águas Mornas - SC</td>\n",
       "      <td>304</td>\n",
       "      <td>Fish fillets and other fish meat (whether or n...</td>\n",
       "      <td>3</td>\n",
       "      <td>Fish and crustaceans, molluscs and other aquat...</td>\n",
       "      <td>Europe</td>\n",
       "      <td>69412</td>\n",
       "      <td>9385</td>\n",
       "    </tr>\n",
       "    <tr>\n",
       "      <th>3</th>\n",
       "      <td>2016</td>\n",
       "      <td>1</td>\n",
       "      <td>France</td>\n",
       "      <td>Águas Mornas - SC</td>\n",
       "      <td>304</td>\n",
       "      <td>Fish fillets and other fish meat (whether or n...</td>\n",
       "      <td>3</td>\n",
       "      <td>Fish and crustaceans, molluscs and other aquat...</td>\n",
       "      <td>European Union (EU)</td>\n",
       "      <td>69412</td>\n",
       "      <td>9385</td>\n",
       "    </tr>\n",
       "    <tr>\n",
       "      <th>4</th>\n",
       "      <td>2016</td>\n",
       "      <td>1</td>\n",
       "      <td>France</td>\n",
       "      <td>Alfenas - MG</td>\n",
       "      <td>901</td>\n",
       "      <td>Coffee, whether or not roasted or decaffeinate...</td>\n",
       "      <td>9</td>\n",
       "      <td>Coffee, tea, maté and spices</td>\n",
       "      <td>Europe</td>\n",
       "      <td>180914</td>\n",
       "      <td>57600</td>\n",
       "    </tr>\n",
       "    <tr>\n",
       "      <th>...</th>\n",
       "      <td>...</td>\n",
       "      <td>...</td>\n",
       "      <td>...</td>\n",
       "      <td>...</td>\n",
       "      <td>...</td>\n",
       "      <td>...</td>\n",
       "      <td>...</td>\n",
       "      <td>...</td>\n",
       "      <td>...</td>\n",
       "      <td>...</td>\n",
       "      <td>...</td>\n",
       "    </tr>\n",
       "    <tr>\n",
       "      <th>142355</th>\n",
       "      <td>2020</td>\n",
       "      <td>12</td>\n",
       "      <td>France</td>\n",
       "      <td>Vinhedo - SP</td>\n",
       "      <td>8424</td>\n",
       "      <td>Mechanical appliances (whether or not hand-ope...</td>\n",
       "      <td>84</td>\n",
       "      <td>Nuclear reactors, boilers, machinery and mecha...</td>\n",
       "      <td>European Union (EU)</td>\n",
       "      <td>2316</td>\n",
       "      <td>4</td>\n",
       "    </tr>\n",
       "    <tr>\n",
       "      <th>142356</th>\n",
       "      <td>2020</td>\n",
       "      <td>12</td>\n",
       "      <td>France</td>\n",
       "      <td>Vitória de Santo Antão - PE</td>\n",
       "      <td>714</td>\n",
       "      <td>Manioc, arrowroot, salep, Jerusalem artichokes...</td>\n",
       "      <td>7</td>\n",
       "      <td>Edible vegetables and certain roots and tubers</td>\n",
       "      <td>Europe</td>\n",
       "      <td>27060</td>\n",
       "      <td>26400</td>\n",
       "    </tr>\n",
       "    <tr>\n",
       "      <th>142357</th>\n",
       "      <td>2020</td>\n",
       "      <td>12</td>\n",
       "      <td>France</td>\n",
       "      <td>Vitória de Santo Antão - PE</td>\n",
       "      <td>714</td>\n",
       "      <td>Manioc, arrowroot, salep, Jerusalem artichokes...</td>\n",
       "      <td>7</td>\n",
       "      <td>Edible vegetables and certain roots and tubers</td>\n",
       "      <td>European Union (EU)</td>\n",
       "      <td>27060</td>\n",
       "      <td>26400</td>\n",
       "    </tr>\n",
       "    <tr>\n",
       "      <th>142358</th>\n",
       "      <td>2020</td>\n",
       "      <td>12</td>\n",
       "      <td>France</td>\n",
       "      <td>Xapuri - AC</td>\n",
       "      <td>4409</td>\n",
       "      <td>Wood (including strips and friezes for parquet...</td>\n",
       "      <td>44</td>\n",
       "      <td>Wood and articles of wood; wood charcoal</td>\n",
       "      <td>Europe</td>\n",
       "      <td>31111</td>\n",
       "      <td>23045</td>\n",
       "    </tr>\n",
       "    <tr>\n",
       "      <th>142359</th>\n",
       "      <td>2020</td>\n",
       "      <td>12</td>\n",
       "      <td>France</td>\n",
       "      <td>Xapuri - AC</td>\n",
       "      <td>4409</td>\n",
       "      <td>Wood (including strips and friezes for parquet...</td>\n",
       "      <td>44</td>\n",
       "      <td>Wood and articles of wood; wood charcoal</td>\n",
       "      <td>European Union (EU)</td>\n",
       "      <td>31111</td>\n",
       "      <td>23045</td>\n",
       "    </tr>\n",
       "  </tbody>\n",
       "</table>\n",
       "<p>142360 rows × 11 columns</p>\n",
       "</div>"
      ],
      "text/plain": [
       "        Year  Month Country                         City  SH4 Code  \\\n",
       "0       2016      1  France            Águas Mornas - SC       303   \n",
       "1       2016      1  France            Águas Mornas - SC       303   \n",
       "2       2016      1  France            Águas Mornas - SC       304   \n",
       "3       2016      1  France            Águas Mornas - SC       304   \n",
       "4       2016      1  France                 Alfenas - MG       901   \n",
       "...      ...    ...     ...                          ...       ...   \n",
       "142355  2020     12  France                 Vinhedo - SP      8424   \n",
       "142356  2020     12  France  Vitória de Santo Antão - PE       714   \n",
       "142357  2020     12  France  Vitória de Santo Antão - PE       714   \n",
       "142358  2020     12  France                  Xapuri - AC      4409   \n",
       "142359  2020     12  France                  Xapuri - AC      4409   \n",
       "\n",
       "                                          SH4 Description  SH2 Code  \\\n",
       "0       Fish, frozen, excluding fish fillets and other...         3   \n",
       "1       Fish, frozen, excluding fish fillets and other...         3   \n",
       "2       Fish fillets and other fish meat (whether or n...         3   \n",
       "3       Fish fillets and other fish meat (whether or n...         3   \n",
       "4       Coffee, whether or not roasted or decaffeinate...         9   \n",
       "...                                                   ...       ...   \n",
       "142355  Mechanical appliances (whether or not hand-ope...        84   \n",
       "142356  Manioc, arrowroot, salep, Jerusalem artichokes...         7   \n",
       "142357  Manioc, arrowroot, salep, Jerusalem artichokes...         7   \n",
       "142358  Wood (including strips and friezes for parquet...        44   \n",
       "142359  Wood (including strips and friezes for parquet...        44   \n",
       "\n",
       "                                          SH2 Description  \\\n",
       "0       Fish and crustaceans, molluscs and other aquat...   \n",
       "1       Fish and crustaceans, molluscs and other aquat...   \n",
       "2       Fish and crustaceans, molluscs and other aquat...   \n",
       "3       Fish and crustaceans, molluscs and other aquat...   \n",
       "4                            Coffee, tea, maté and spices   \n",
       "...                                                   ...   \n",
       "142355  Nuclear reactors, boilers, machinery and mecha...   \n",
       "142356     Edible vegetables and certain roots and tubers   \n",
       "142357     Edible vegetables and certain roots and tubers   \n",
       "142358           Wood and articles of wood; wood charcoal   \n",
       "142359           Wood and articles of wood; wood charcoal   \n",
       "\n",
       "             Economic Block  US$ FOB  Net Weight  \n",
       "0                    Europe    79360       14150  \n",
       "1       European Union (EU)    79360       14150  \n",
       "2                    Europe    69412        9385  \n",
       "3       European Union (EU)    69412        9385  \n",
       "4                    Europe   180914       57600  \n",
       "...                     ...      ...         ...  \n",
       "142355  European Union (EU)     2316           4  \n",
       "142356               Europe    27060       26400  \n",
       "142357  European Union (EU)    27060       26400  \n",
       "142358               Europe    31111       23045  \n",
       "142359  European Union (EU)    31111       23045  \n",
       "\n",
       "[142360 rows x 11 columns]"
      ]
     },
     "metadata": {},
     "output_type": "display_data"
    }
   ],
   "source": [
    "import pandas as pd\n",
    "\n",
    "exportacao_franca = pd.read_csv(r'arquivos\\exportacao_france.csv')\n",
    "display(exportacao_franca)"
   ]
  },
  {
   "cell_type": "markdown",
   "metadata": {},
   "source": [
    "### Informação"
   ]
  },
  {
   "cell_type": "code",
   "execution_count": 3,
   "metadata": {},
   "outputs": [
    {
     "name": "stdout",
     "output_type": "stream",
     "text": [
      "<class 'pandas.core.frame.DataFrame'>\n",
      "RangeIndex: 142360 entries, 0 to 142359\n",
      "Data columns (total 11 columns):\n",
      " #   Column           Non-Null Count   Dtype \n",
      "---  ------           --------------   ----- \n",
      " 0   Year             142360 non-null  int64 \n",
      " 1   Month            142360 non-null  int64 \n",
      " 2   Country          142360 non-null  object\n",
      " 3   City             142360 non-null  object\n",
      " 4   SH4 Code         142360 non-null  int64 \n",
      " 5   SH4 Description  142360 non-null  object\n",
      " 6   SH2 Code         142360 non-null  int64 \n",
      " 7   SH2 Description  142360 non-null  object\n",
      " 8   Economic Block   142360 non-null  object\n",
      " 9   US$ FOB          142360 non-null  int64 \n",
      " 10  Net Weight       142360 non-null  int64 \n",
      "dtypes: int64(6), object(5)\n",
      "memory usage: 11.9+ MB\n"
     ]
    },
    {
     "data": {
      "text/plain": [
       "None"
      ]
     },
     "metadata": {},
     "output_type": "display_data"
    }
   ],
   "source": [
    "display(exportacao_franca.info())"
   ]
  },
  {
   "cell_type": "markdown",
   "metadata": {},
   "source": [
    "### Evolução das exportações para a França ao longo dos anos"
   ]
  },
  {
   "cell_type": "code",
   "execution_count": 13,
   "metadata": {},
   "outputs": [
    {
     "data": {
      "text/html": [
       "<div>\n",
       "<style scoped>\n",
       "    .dataframe tbody tr th:only-of-type {\n",
       "        vertical-align: middle;\n",
       "    }\n",
       "\n",
       "    .dataframe tbody tr th {\n",
       "        vertical-align: top;\n",
       "    }\n",
       "\n",
       "    .dataframe thead th {\n",
       "        text-align: right;\n",
       "    }\n",
       "</style>\n",
       "<table border=\"1\" class=\"dataframe\">\n",
       "  <thead>\n",
       "    <tr style=\"text-align: right;\">\n",
       "      <th></th>\n",
       "      <th>US$ FOB</th>\n",
       "    </tr>\n",
       "    <tr>\n",
       "      <th>Year</th>\n",
       "      <th></th>\n",
       "    </tr>\n",
       "  </thead>\n",
       "  <tbody>\n",
       "    <tr>\n",
       "      <th>2016</th>\n",
       "      <td>4615500082</td>\n",
       "    </tr>\n",
       "    <tr>\n",
       "      <th>2017</th>\n",
       "      <td>4448705456</td>\n",
       "    </tr>\n",
       "    <tr>\n",
       "      <th>2018</th>\n",
       "      <td>5239424416</td>\n",
       "    </tr>\n",
       "    <tr>\n",
       "      <th>2019</th>\n",
       "      <td>5218723612</td>\n",
       "    </tr>\n",
       "    <tr>\n",
       "      <th>2020</th>\n",
       "      <td>3967594810</td>\n",
       "    </tr>\n",
       "  </tbody>\n",
       "</table>\n",
       "</div>"
      ],
      "text/plain": [
       "         US$ FOB\n",
       "Year            \n",
       "2016  4615500082\n",
       "2017  4448705456\n",
       "2018  5239424416\n",
       "2019  5218723612\n",
       "2020  3967594810"
      ]
     },
     "metadata": {},
     "output_type": "display_data"
    }
   ],
   "source": [
    "# Agrupar os anos e trazendo o valor total\n",
    "\n",
    "exportacao_franca_anos = exportacao_franca[['Year','US$ FOB']].groupby('Year').sum()\n",
    "display(exportacao_franca_anos)\n",
    "# exportacao_franca_anos.plot(kind='line')"
   ]
  },
  {
   "cell_type": "code",
   "execution_count": 18,
   "metadata": {},
   "outputs": [
    {
     "data": {
      "text/html": [
       "<div>\n",
       "<style scoped>\n",
       "    .dataframe tbody tr th:only-of-type {\n",
       "        vertical-align: middle;\n",
       "    }\n",
       "\n",
       "    .dataframe tbody tr th {\n",
       "        vertical-align: top;\n",
       "    }\n",
       "\n",
       "    .dataframe thead th {\n",
       "        text-align: right;\n",
       "    }\n",
       "</style>\n",
       "<table border=\"1\" class=\"dataframe\">\n",
       "  <thead>\n",
       "    <tr style=\"text-align: right;\">\n",
       "      <th></th>\n",
       "      <th>US$ FOB</th>\n",
       "    </tr>\n",
       "    <tr>\n",
       "      <th>Year</th>\n",
       "      <th></th>\n",
       "    </tr>\n",
       "  </thead>\n",
       "  <tbody>\n",
       "    <tr>\n",
       "      <th>2016</th>\n",
       "      <td>US$ 4,615,500,082.00</td>\n",
       "    </tr>\n",
       "    <tr>\n",
       "      <th>2017</th>\n",
       "      <td>US$ 4,448,705,456.00</td>\n",
       "    </tr>\n",
       "    <tr>\n",
       "      <th>2018</th>\n",
       "      <td>US$ 5,239,424,416.00</td>\n",
       "    </tr>\n",
       "    <tr>\n",
       "      <th>2019</th>\n",
       "      <td>US$ 5,218,723,612.00</td>\n",
       "    </tr>\n",
       "    <tr>\n",
       "      <th>2020</th>\n",
       "      <td>US$ 3,967,594,810.00</td>\n",
       "    </tr>\n",
       "  </tbody>\n",
       "</table>\n",
       "</div>"
      ],
      "text/plain": [
       "                   US$ FOB\n",
       "Year                      \n",
       "2016  US$ 4,615,500,082.00\n",
       "2017  US$ 4,448,705,456.00\n",
       "2018  US$ 5,239,424,416.00\n",
       "2019  US$ 5,218,723,612.00\n",
       "2020  US$ 3,967,594,810.00"
      ]
     },
     "metadata": {},
     "output_type": "display_data"
    }
   ],
   "source": [
    "# 2 MÉTODO PARA RESOLVER\n",
    "\n",
    "exportacao_franca_anos_2 = exportacao_franca.groupby('Year').sum(numeric_only=True)\n",
    "exportacao_franca_anos_2 = exportacao_franca_anos_2[['US$ FOB']]\n",
    "\n",
    "def formatar(valor):\n",
    "    valor_formatado = f'US$ {valor:,.2f}'\n",
    "    return valor_formatado\n",
    "exportacao_franca_anos_2['US$ FOB'] = exportacao_franca_anos_2['US$ FOB'].apply(formatar)\n",
    "\n",
    "display(exportacao_franca_anos_2)"
   ]
  }
 ],
 "metadata": {
  "kernelspec": {
   "display_name": "Python 3",
   "language": "python",
   "name": "python3"
  },
  "language_info": {
   "codemirror_mode": {
    "name": "ipython",
    "version": 3
   },
   "file_extension": ".py",
   "mimetype": "text/x-python",
   "name": "python",
   "nbconvert_exporter": "python",
   "pygments_lexer": "ipython3",
   "version": "3.11.9"
  }
 },
 "nbformat": 4,
 "nbformat_minor": 4
}
