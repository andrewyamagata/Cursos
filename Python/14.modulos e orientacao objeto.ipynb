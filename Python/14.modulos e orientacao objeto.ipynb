{
 "cells": [
  {
   "cell_type": "markdown",
   "metadata": {},
   "source": [
    "# Introdução a Orientação a Objeto\n",
    "\n",
    "### Regras Gerais:\n",
    "\n",
    "- Tudo no Python é um objeto.\n",
    "    - String é objeto\n",
    "    - Lista é objeto\n",
    "    - Dicionários são objetos\n",
    "    ...\n",
    "\n",
    "### Comparação Clássica\n",
    "\n",
    "- Pense no Controle Remoto de uma Televisão.\n",
    "    - O Controle é um objeto\n",
    "    - Cada botão dele é um comando, um método.\n",
    "    - Cada método faz 1 ação específica\n",
    "        - Por trás de cada método (dentro do controle) podem acontecer milhares de coisas quando você aperta 1 botão, mas no fundo você tá cagando pra isso, só quer que o botão faça o que você mandou quando você clicar no botão."
   ]
  },
  {
   "cell_type": "markdown",
   "metadata": {},
   "source": [
    "### Em termos práticos no Python\n",
    "\n",
    "- Isso significa que todos eles tem métodos específicos, ou seja, já existe programado no Python várias coisas que você consegue fazer com ele.\n",
    "    - Exemplo: Strings\n",
    "        - Quando no Python criaram a string, eles programaram lá em algum lugar que texto[i] vai te dar o caracter na posição i do texto\n",
    "        - Também criaram o método texto.upper() que torna toda a string em letra maiúscula\n",
    "        - Também criaram o método texto.casefold() que coloca tudo em letra minúscula\n",
    "        - E assim vai para tudo que temos no Python\n",
    "\n",
    "- Em termos práticos, você já deve ter reparado que fazemos muito coisas do tipo variavel.método()\n",
    "    - 'Produto {}: {} unidades vendidas'.format(produto, quantidade)\n",
    "    - lista.append('ABC12304')\n",
    "    - texto.count()\n",
    "    - ..."
   ]
  },
  {
   "cell_type": "markdown",
   "metadata": {},
   "source": [
    "### E para onde vamos com isso agora? Qual a grande vantagem?\n",
    "\n",
    "- A vantagem é que agora vamos aprender a importar módulos novos\n",
    "- Então tem MUITAS, mas MUITAS coisas que já estão prontas no Python que a gente não precisa programar do zero. A gente vai simplesmente importar e usar.\n",
    "- E repare, quando a gente importar, o que na prática estaremos fazendo é importar 1 ou mais objetos que tem vários métodos já prontos para usarmos.\n",
    "\n",
    "### Exemplo: E se eu quisesse criar um código que abrisse o meu navegador em um site específico? Para poder puxar uma informação ou preencher um formulário? -> Próxima Aula"
   ]
  },
  {
   "cell_type": "code",
   "execution_count": null,
   "metadata": {},
   "outputs": [
    {
     "data": {
      "text/plain": [
       "True"
      ]
     },
     "execution_count": 6,
     "metadata": {},
     "output_type": "execute_result"
    }
   ],
   "source": [
    "# Abrir um site na internet\n",
    "import webbrowser as wb\n",
    "\n",
    "wb.open_new(\"https://hashtagtreinamentos.com\")\n",
    "wb.open(\"https://www.hashtagtreinamentos.com/blog\")"
   ]
  },
  {
   "cell_type": "code",
   "execution_count": 7,
   "metadata": {},
   "outputs": [
    {
     "name": "stdout",
     "output_type": "stream",
     "text": [
      "1740534360.0196207\n"
     ]
    }
   ],
   "source": [
    "# Módulo Time\n",
    "# Marco Zero (chhamado de EPOCH) = 1 de janeiro de 1970 às 00:00:00\n",
    "# time() retorna quantos segundos se passaram desde a EPOCH\n",
    "import time\n",
    "\n",
    "segundos_hoje = time.time()\n",
    "print(segundos_hoje)"
   ]
  },
  {
   "cell_type": "code",
   "execution_count": 16,
   "metadata": {},
   "outputs": [
    {
     "name": "stdout",
     "output_type": "stream",
     "text": [
      "Tue Feb 25 22:52:14 2025\n",
      "Tue Feb 25 22:52:14 2025\n"
     ]
    }
   ],
   "source": [
    "# ctime retorna a data em string\n",
    "data_hoje = time.ctime()\n",
    "#ou entao \n",
    "data_hoje_2 = time.ctime(time.time())\n",
    "print(data_hoje)\n",
    "print(data_hoje_2)"
   ]
  },
  {
   "cell_type": "code",
   "execution_count": 9,
   "metadata": {},
   "outputs": [
    {
     "name": "stdout",
     "output_type": "stream",
     "text": [
      "O programa levou 4.782617092132568 segundos para rodar\n"
     ]
    }
   ],
   "source": [
    "# Quanto tempo leva\n",
    "tempo_inicial = time.time()\n",
    "for i in range (100000000):\n",
    "    pass\n",
    "tempo_final = time.time()\n",
    "duracao = tempo_final - tempo_inicial\n",
    "print('O programa levou {} segundos para rodar'.format(duracao))"
   ]
  },
  {
   "cell_type": "code",
   "execution_count": 17,
   "metadata": {},
   "outputs": [
    {
     "name": "stdout",
     "output_type": "stream",
     "text": [
      "Começou\n",
      "Rodou 5 segundos\n"
     ]
    }
   ],
   "source": [
    "print('Começou')\n",
    "time.sleep(5)\n",
    "print('Rodou 5 segundos')"
   ]
  },
  {
   "cell_type": "code",
   "execution_count": null,
   "metadata": {},
   "outputs": [
    {
     "name": "stdout",
     "output_type": "stream",
     "text": [
      "time.struct_time(tm_year=2025, tm_mon=2, tm_mday=26, tm_hour=1, tm_min=55, tm_sec=25, tm_wday=2, tm_yday=57, tm_isdst=0)\n",
      "time.struct_time(tm_year=2025, tm_mon=2, tm_mday=25, tm_hour=22, tm_min=55, tm_sec=25, tm_wday=1, tm_yday=56, tm_isdst=0)\n"
     ]
    }
   ],
   "source": [
    "# gmtime() - horário UTC\n",
    "# localtime() - horário do seu computador\n",
    "\n",
    "hora_geral = time.gmtime()\n",
    "hora_local = time.localtime()\n",
    "print(hora_geral)\n",
    "print(hora_local)"
   ]
  },
  {
   "cell_type": "code",
   "execution_count": 20,
   "metadata": {},
   "outputs": [
    {
     "name": "stdout",
     "output_type": "stream",
     "text": [
      "Data: 25/2/2025\n"
     ]
    }
   ],
   "source": [
    "dia = hora_local.tm_mday\n",
    "mes = hora_local.tm_mon\n",
    "ano = hora_local.tm_year\n",
    "dia_semana = hora_local.tm_wday\n",
    "\n",
    "print('Data: {}/{}/{}'.format(dia,mes,ano))"
   ]
  },
  {
   "cell_type": "markdown",
   "metadata": {},
   "source": [
    "## Módulo time em Python"
   ]
  },
  {
   "cell_type": "code",
   "execution_count": 1,
   "metadata": {},
   "outputs": [
    {
     "name": "stdout",
     "output_type": "stream",
     "text": [
      "time.struct_time(tm_year=2025, tm_mon=2, tm_mday=26, tm_hour=22, tm_min=40, tm_sec=32, tm_wday=2, tm_yday=57, tm_isdst=0)\n"
     ]
    }
   ],
   "source": [
    "import time\n",
    "\n",
    "tempo_em_struct = time.localtime()\n",
    "print(tempo_em_struct)"
   ]
  },
  {
   "cell_type": "code",
   "execution_count": 2,
   "metadata": {},
   "outputs": [
    {
     "name": "stdout",
     "output_type": "stream",
     "text": [
      "26 February 2025\n"
     ]
    }
   ],
   "source": [
    "print(time.strftime(\"%d %B %Y\", tempo_em_struct))"
   ]
  },
  {
   "cell_type": "code",
   "execution_count": 4,
   "metadata": {},
   "outputs": [
    {
     "name": "stdout",
     "output_type": "stream",
     "text": [
      "22:40:32\n"
     ]
    }
   ],
   "source": [
    "print(time.strftime(\"%H:%M:%S\", tempo_em_struct))"
   ]
  },
  {
   "cell_type": "code",
   "execution_count": 5,
   "metadata": {},
   "outputs": [
    {
     "name": "stdout",
     "output_type": "stream",
     "text": [
      "Tempo formatado: Wednesday, 26 de February de 2025, 22:40:32\n"
     ]
    }
   ],
   "source": [
    "tempo_formatado = time.strftime(\"%A, %d de %B de %Y, %H:%M:%S\", tempo_em_struct)\n",
    "print(f'Tempo formatado: {tempo_formatado}')"
   ]
  },
  {
   "cell_type": "code",
   "execution_count": 6,
   "metadata": {},
   "outputs": [
    {
     "name": "stdout",
     "output_type": "stream",
     "text": [
      "quarta-feira, 26 de fevereiro de 2025, 22:48:54\n"
     ]
    }
   ],
   "source": [
    "import locale\n",
    "import time\n",
    "\n",
    "locale.setlocale(locale.LC_TIME,'pt_BR.UTF-8')\n",
    "\n",
    "tempo_em_struct = time.localtime()\n",
    "tempo_em_formatado = time.strftime(\"%A, %d de %B de %Y, %H:%M:%S\", tempo_em_struct)\n",
    "print(tempo_em_formatado)"
   ]
  },
  {
   "cell_type": "code",
   "execution_count": 8,
   "metadata": {},
   "outputs": [
    {
     "name": "stdout",
     "output_type": "stream",
     "text": [
      "time.struct_time(tm_year=2025, tm_mon=6, tm_mday=30, tm_hour=0, tm_min=0, tm_sec=0, tm_wday=0, tm_yday=181, tm_isdst=-1)\n"
     ]
    }
   ],
   "source": [
    "string_tempo = \"30 Junho, 2025\"\n",
    "formato = \"%d %B, %Y\"\n",
    "tempo_em_struct = time.strptime(string_tempo,formato)\n",
    "\n",
    "print(tempo_em_struct)"
   ]
  },
  {
   "cell_type": "code",
   "execution_count": 10,
   "metadata": {},
   "outputs": [
    {
     "name": "stdout",
     "output_type": "stream",
     "text": [
      "time.struct_time(tm_year=2025, tm_mon=9, tm_mday=6, tm_hour=0, tm_min=0, tm_sec=0, tm_wday=5, tm_yday=249, tm_isdst=-1)\n"
     ]
    }
   ],
   "source": [
    "string_tempo = \"06/09/2025\"\n",
    "formato = \"%d/%m/%Y\"\n",
    "tempo_em_struct = time.strptime(string_tempo,formato)\n",
    "\n",
    "print(tempo_em_struct)"
   ]
  },
  {
   "cell_type": "code",
   "execution_count": 11,
   "metadata": {},
   "outputs": [
    {
     "data": {
      "text/plain": [
       "time.struct_time(tm_year=1970, tm_mon=1, tm_mday=1, tm_hour=0, tm_min=0, tm_sec=0, tm_wday=3, tm_yday=1, tm_isdst=0)"
      ]
     },
     "execution_count": 11,
     "metadata": {},
     "output_type": "execute_result"
    }
   ],
   "source": [
    "time.gmtime(0)"
   ]
  },
  {
   "cell_type": "code",
   "execution_count": 12,
   "metadata": {},
   "outputs": [
    {
     "name": "stdout",
     "output_type": "stream",
     "text": [
      "Tempo em UTC: time.struct_time(tm_year=2025, tm_mon=2, tm_mday=27, tm_hour=1, tm_min=56, tm_sec=42, tm_wday=3, tm_yday=58, tm_isdst=0)\n"
     ]
    }
   ],
   "source": [
    "gmt_struct = time.gmtime()\n",
    "\n",
    "print(f\"Tempo em UTC: {gmt_struct}\")"
   ]
  },
  {
   "cell_type": "code",
   "execution_count": 13,
   "metadata": {},
   "outputs": [
    {
     "name": "stdout",
     "output_type": "stream",
     "text": [
      "Tempo local: time.struct_time(tm_year=2025, tm_mon=2, tm_mday=26, tm_hour=22, tm_min=57, tm_sec=52, tm_wday=2, tm_yday=57, tm_isdst=0)\n"
     ]
    }
   ],
   "source": [
    "print(f'Tempo local: {time.localtime()}')"
   ]
  },
  {
   "cell_type": "code",
   "execution_count": 17,
   "metadata": {},
   "outputs": [
    {
     "name": "stdout",
     "output_type": "stream",
     "text": [
      "Tempo em UTC: quinta-feira, 27 de fevereiro de 2025, 01:56:42\n"
     ]
    }
   ],
   "source": [
    "print(f'Tempo em UTC: {time.strftime(\"%A, %d de %B de %Y, %H:%M:%S\",gmt_struct)}')"
   ]
  },
  {
   "cell_type": "code",
   "execution_count": 18,
   "metadata": {},
   "outputs": [
    {
     "name": "stdout",
     "output_type": "stream",
     "text": [
      "UTC\n"
     ]
    }
   ],
   "source": [
    "print(gmt_struct.tm_zone)"
   ]
  },
  {
   "cell_type": "code",
   "execution_count": 21,
   "metadata": {},
   "outputs": [
    {
     "name": "stdout",
     "output_type": "stream",
     "text": [
      "tempo em UTC: time.struct_time(tm_year=2009, tm_mon=2, tm_mday=13, tm_hour=23, tm_min=31, tm_sec=30, tm_wday=4, tm_yday=44, tm_isdst=0)\n",
      "Tempo em UTC: sexta-feira, 13 de fevereiro de 2009, 23:31:30\n"
     ]
    }
   ],
   "source": [
    "gmt_struct_ex = time.gmtime(1_234_567_890)\n",
    "\n",
    "print(f\"tempo em UTC: {gmt_struct_ex}\")\n",
    "print(f\"Tempo em UTC: {time.strftime('%A, %d de %B de %Y, %H:%M:%S', gmt_struct_ex)}\")"
   ]
  },
  {
   "cell_type": "code",
   "execution_count": 33,
   "metadata": {},
   "outputs": [
    {
     "name": "stdout",
     "output_type": "stream",
     "text": [
      "Tempo em segundo:1740621924.0\n",
      "Tempo em segundo:1740621924.0020802\n"
     ]
    }
   ],
   "source": [
    "tempo_em_struct = time.localtime()\n",
    "tempo_em_segundos = time.mktime(tempo_em_struct)\n",
    "print(f\"Tempo em segundo:{tempo_em_segundos}\")\n",
    "print(f\"Tempo em segundo:{time.time()}\")"
   ]
  },
  {
   "cell_type": "code",
   "execution_count": 35,
   "metadata": {},
   "outputs": [
    {
     "name": "stdout",
     "output_type": "stream",
     "text": [
      "4921627.0\n"
     ]
    }
   ],
   "source": [
    "tempo_atual = time.localtime()\n",
    "tempo_ano_novo = time.mktime((2025, 1, 1, 0, 0, 0, 0, 0, 0))\n",
    "\n",
    "diferenca = time.mktime(tempo_atual) - tempo_ano_novo\n",
    "print(diferenca)"
   ]
  },
  {
   "cell_type": "markdown",
   "metadata": {},
   "source": [
    "### Exercícios"
   ]
  },
  {
   "cell_type": "code",
   "execution_count": 39,
   "metadata": {},
   "outputs": [
    {
     "name": "stdout",
     "output_type": "stream",
     "text": [
      "10\n",
      "9\n",
      "8\n",
      "7\n",
      "6\n",
      "5\n",
      "4\n",
      "3\n",
      "2\n",
      "1\n",
      "O evento começou\n"
     ]
    }
   ],
   "source": [
    "# Contagem regressiva  que comece em 10 e vai até 0\n",
    "import time\n",
    "\n",
    "for numero in range(10, 0, -1):\n",
    "    print(numero)\n",
    "    time.sleep(1)\n",
    "print(\"O evento começou\")"
   ]
  },
  {
   "cell_type": "code",
   "execution_count": 40,
   "metadata": {},
   "outputs": [
    {
     "name": "stdout",
     "output_type": "stream",
     "text": [
      "O evento começou\n"
     ]
    }
   ],
   "source": [
    "for numero in range(10, 0, -1):\n",
    "    print(numero, end=\" \\r\") # deu um espaço para não aparecer o 0\n",
    "    time.sleep(1)\n",
    "print(\"O evento começou\")"
   ]
  },
  {
   "cell_type": "code",
   "execution_count": 53,
   "metadata": {},
   "outputs": [
    {
     "name": "stdout",
     "output_type": "stream",
     "text": [
      "Data: quarta-feira, 26 de fevereiro de 2025. 23:28\n"
     ]
    }
   ],
   "source": [
    "import time\n",
    "\n",
    "tempo_atual = time.localtime()\n",
    "print(f\"Data: {time.strftime('%A, %d de %B de %Y. %H:%M',tempo_atual)}\")"
   ]
  },
  {
   "cell_type": "code",
   "execution_count": 52,
   "metadata": {},
   "outputs": [
    {
     "name": "stdout",
     "output_type": "stream",
     "text": [
      "Data: quarta-feira, 26 de fevereiro de 2025. 23:28\n"
     ]
    }
   ],
   "source": [
    "tempo_atual = time.localtime()\n",
    "tempo_formatado = time.strftime('%A, %d de %B de %Y. %H:%M',tempo_atual)\n",
    "print(f\"Data: {tempo_formatado}\")"
   ]
  },
  {
   "cell_type": "code",
   "execution_count": 51,
   "metadata": {},
   "outputs": [
    {
     "name": "stdout",
     "output_type": "stream",
     "text": [
      "Data: quarta-feira, 26 de fevereiro de 2025. 23:28\n"
     ]
    }
   ],
   "source": [
    "import locale\n",
    "\n",
    "locale.setlocale(locale.LC_TIME, \"pt-BR.UTF-8\")\n",
    "tempo_em_struct = time.localtime()\n",
    "tempo_formatado = time.strftime('%A, %d de %B de %Y. %H:%M',tempo_atual)\n",
    "print(f\"Data: {tempo_formatado}\")"
   ]
  }
 ],
 "metadata": {
  "kernelspec": {
   "display_name": "base",
   "language": "python",
   "name": "python3"
  },
  "language_info": {
   "codemirror_mode": {
    "name": "ipython",
    "version": 3
   },
   "file_extension": ".py",
   "mimetype": "text/x-python",
   "name": "python",
   "nbconvert_exporter": "python",
   "pygments_lexer": "ipython3",
   "version": "3.11.5"
  }
 },
 "nbformat": 4,
 "nbformat_minor": 4
}
